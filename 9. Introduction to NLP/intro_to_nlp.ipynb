{
 "cells": [
  {
   "cell_type": "markdown",
   "metadata": {
    "id": "XiLS--9s8Ryz"
   },
   "source": [
    "# Семинар 9. Введение в NLP: word2vec, RNN, LSTM, Seq2Seq, Attention 🤗"
   ]
  },
  {
   "cell_type": "markdown",
   "metadata": {
    "id": "C94Vka1YA_-Y"
   },
   "source": [
    "**NLP** (Natural Language Processing) - обработка естественного языка, общее направление искусственного интеллекта и математической лингвистики. Оно изучает проблемы компьютерного анализа и синтеза естественных языков\n",
    "\n",
    "*Почему вообще это сложно?*\n",
    "- \"Он видел их семью своими глазами\"\n",
    "- \"Эти типы стали есть в цехе\"\n",
    "\n",
    "![](images/1.png)\n",
    "\n",
    "Примеры задач:\n",
    "- Машинный перевод\n",
    "- Sentiment analysis (выявление эмоциональной окраски)\n",
    "- Проверка правописания\n",
    "- Автодополнение текста\n",
    "- Фильтр спама\n",
    "- Голосовые помощники"
   ]
  },
  {
   "cell_type": "markdown",
   "metadata": {
    "id": "FCHB0g5RksZL"
   },
   "source": [
    "## Word2vec"
   ]
  },
  {
   "cell_type": "markdown",
   "metadata": {
    "id": "T6ugs6QaDw8P"
   },
   "source": [
    "В каком виде можно представить слово для входа в нейросеть?\n",
    "\n",
    "1. **One-hot representation**, длина вектора равна размеру словаря: $car = [0\\ 0\\ ...\\ 1\\ 0\\ 0\\ 0]$\n",
    "   \n",
    "  - Непрактично, т.к. размер словаря большой\n",
    "  - Не получится близким семантически (по смыслу) словам сопоставить близкие векторы\n",
    "2. **Distributed representation**, вектор из чисел с плавающей точкой: $car = [1.35\\ 7.49\\ ...\\ -2.88\\ 5.1\\ 0.1\\ -8.3]$.\n",
    "\n",
    "Хотим научиться получать distributed representation слов"
   ]
  },
  {
   "cell_type": "markdown",
   "metadata": {
    "id": "fHj1cJysnEsv"
   },
   "source": [
    "Обучим нейросеть, которая будет предсказывать, какие слова часто встречаются в контексе вместе с выбранным словом. Предположим, у нас есть скользящее окно фиксированного размера. Модель Skip-Gram тренируется предсказывать вероятность слов быть в одном контексте (внутри скользящего окна) по отношению к главному слову.\n",
    "\n",
    "Датасет для skip-gram:\n",
    "![](images/2.png)\n",
    "\n",
    "Модель skip-gram. Между матрицами $W$ и $W^\\prime$ нет активаций. В качестве функции потерь используется обычная кросс-энтропия. Для $x$, соответсвующего $fox$, в датасете будут пары $(fox, quick)$, $(fox, brown)$ и т.д.\n",
    "\n",
    "![](images/3.png)\n",
    "\n",
    "$Embedding(fox) = W(fox) + W^\\prime(fox)$\n",
    "\n",
    "Плюсы:\n",
    "- Unsupervised\n",
    "- Требует меньше памяти для матриц $W$ и $W^\\prime$, т.к. $hidden\\ size ≈ 300$\n",
    "\n",
    "Минусы:\n",
    "- Долго обучать\n",
    "\n",
    "**Итог: научились делать эмбеддинги в distributed representation**\n",
    "\n",
    "[Лекция по word2vec от sim0nsays](https://www.youtube.com/watch?v=MBQdMQUZMQM&list=PL5FkQ0AF9O_o2Eb5Qn8pwCDg7TniyV1Wb&index=9)\n",
    "\n",
    "[Пост на эту же тему](https://lilianweng.github.io/posts/2017-10-15-word-embedding/)"
   ]
  },
  {
   "cell_type": "markdown",
   "metadata": {
    "id": "2tedW9BOZDbX"
   },
   "source": [
    "Свойства word2vec: emb(Russia) - emb(Moscow) + emb(Paris) = emb(France)\n",
    "\n",
    "А что делать, если слова нет в нашем наборе предложений, на котором обучили нейросеть? Как тогда делать эмбеддинг?\n",
    "\n",
    "Эмбеддинги можно делать не только для отдельных слов, но и частей (например, морфем или слогов). Такое разделение называют [токенизацией](https://huggingface.co/docs/transformers/tokenizer_summary). Пример:\n",
    "\n",
    "Вот так может выглядеть исходное предложение:\n",
    "\n",
    "```text\n",
    "Don't you love 🤗 Transformers? We sure do.\n",
    "```\n",
    "\n",
    "А вот так результат токенизации:\n",
    "```text\n",
    "[\"Do\", \"n't\", \"you\", \"love\", \"🤗\", \"Transformers\", \"?\", \"We\", \"sure\", \"do\", \".\"]\n",
    "```\n",
    "\n",
    "На практике для задач NLP используют [Huggingface](https://github.com/huggingface/transformers) 🤗\n",
    "\n",
    "[Видео о Huggingface](https://www.youtube.com/watch?v=QEaBAZQCtwE)"
   ]
  },
  {
   "cell_type": "markdown",
   "metadata": {
    "id": "36EMCoWguOYB"
   },
   "source": [
    "## RNN"
   ]
  },
  {
   "cell_type": "markdown",
   "metadata": {
    "id": "TrFCgmZ13afV"
   },
   "source": [
    "Зачем нужны RNN?\n",
    "\n",
    "- Обычные свёрточные сети принимают на вход вектор фиксированного размера и выдают вектор фиксированного размера\n",
    "- Кроме того, обычные свёрточные сети отображают входной вектор в выходной при помощи фиксированного числа шагов\n",
    "\n",
    "Реккуретные сети позволяют работать с последовательностями:\n",
    "\n",
    "![](images/4.jpeg)\n",
    "\n",
    "Слева направо:\n",
    "1. One to one (например, классификация)\n",
    "2. One to many (например, image captioning, т.е. описание изображения)\n",
    "3. Many to one (например, sentiment analysis, т.е. анализ эмоциональной окраски)\n",
    "4. Many to many (например, machine translation)\n",
    "5. Synced many to many (например, классификация видео)"
   ]
  },
  {
   "cell_type": "markdown",
   "metadata": {
    "id": "1Uy56vT53aiX"
   },
   "source": [
    "### Vanilla RNN\n",
    "\n",
    "На выход `RNN` влияет не только входной вектор, но и все предыдущие векторы, которые были скормлены `RNN` в прошлом:\n",
    "\n",
    "```python\n",
    "rnn = RNN()\n",
    "y = rnn.step(x) # x is an input vector, y is the RNN's output vector\n",
    "```\n",
    "\n",
    "Параметры `RNN`: `W_hy, W_hh, W_xh`.\n",
    "\n",
    "```python\n",
    "class RNN:\n",
    "  # ...\n",
    "  def step(self, x):\n",
    "    # update the hidden state\n",
    "    self.h = np.tanh(np.dot(self.W_hh, self.h) + np.dot(self.W_xh, x))\n",
    "    # compute the output vector\n",
    "    y = np.dot(self.W_hy, self.h)\n",
    "    return y\n",
    "```\n",
    "\n",
    "Тоже можно делать несколько слоёв:\n",
    "\n",
    "```python\n",
    "y1 = rnn1.step(x)\n",
    "y = rnn2.step(y1)\n",
    "```"
   ]
  },
  {
   "cell_type": "markdown",
   "metadata": {
    "id": "DCO_jssF3alW"
   },
   "source": [
    "![](images/5.jpeg)\n",
    "\n",
    "*Пример: генерация текста*"
   ]
  },
  {
   "cell_type": "markdown",
   "metadata": {
    "id": "AY8s7k0s9h9A"
   },
   "source": [
    "### Пример с vanilla RNN для генерации текста на numpy ([оргинал кода](https://github.com/JY-Yoon/RNN-Implementation-using-NumPy/blob/master/RNN%20Implementation%20using%20NumPy.ipynb)):"
   ]
  },
  {
   "cell_type": "code",
   "execution_count": null,
   "metadata": {
    "id": "X_fsaWfa9faO"
   },
   "outputs": [],
   "source": [
    "import numpy as np"
   ]
  },
  {
   "cell_type": "code",
   "execution_count": null,
   "metadata": {
    "colab": {
     "base_uri": "https://localhost:8080/"
    },
    "executionInfo": {
     "elapsed": 3,
     "status": "ok",
     "timestamp": 1681932096529,
     "user": {
      "displayName": "Yana Savchenko",
      "userId": "10647193167803909811"
     },
     "user_tz": -420
    },
    "id": "qV-i6c8U9fhe",
    "outputId": "25aa47a1-a285-4507-fa57-0b8858fb1ddc"
   },
   "outputs": [
    {
     "name": "stdout",
     "output_type": "stream",
     "text": [
      "unique characters :  27\n",
      "txt_data_size :  81\n"
     ]
    }
   ],
   "source": [
    "# load text data\n",
    "\n",
    "txt_data = \"abcdefghijklmnopqrstuvwxyz abcdefghijklmnopqrstuvwxyz abcdefghijklmnopqrstuvwxyz \" # input data\n",
    "# txt_data = open('input.txt', 'r').read() # test external files\n",
    "\n",
    "chars = list(set(txt_data)) # split and remove duplicate characters. convert to list.\n",
    "\n",
    "num_chars = len(chars) # the number of unique characters\n",
    "txt_data_size = len(txt_data)\n",
    "\n",
    "print(\"unique characters : \", num_chars) # You can see the number of unique characters in your input data.\n",
    "print(\"txt_data_size : \", txt_data_size)"
   ]
  },
  {
   "cell_type": "code",
   "execution_count": null,
   "metadata": {
    "colab": {
     "base_uri": "https://localhost:8080/"
    },
    "executionInfo": {
     "elapsed": 9,
     "status": "ok",
     "timestamp": 1681932108632,
     "user": {
      "displayName": "Yana Savchenko",
      "userId": "10647193167803909811"
     },
     "user_tz": -420
    },
    "id": "AcduoqhC9fku",
    "outputId": "324baeed-8637-4f43-baaa-2758ac669cfd"
   },
   "outputs": [
    {
     "name": "stdout",
     "output_type": "stream",
     "text": [
      "{'l': 0, 'g': 1, 'j': 2, 'm': 3, ' ': 4, 'u': 5, 'y': 6, 'd': 7, 'p': 8, 'f': 9, 'k': 10, 's': 11, 'q': 12, 'a': 13, 'v': 14, 'w': 15, 'x': 16, 't': 17, 'z': 18, 'n': 19, 'h': 20, 'c': 21, 'e': 22, 'i': 23, 'b': 24, 'o': 25, 'r': 26}\n",
      "----------------------------------------------------\n",
      "{0: 'l', 1: 'g', 2: 'j', 3: 'm', 4: ' ', 5: 'u', 6: 'y', 7: 'd', 8: 'p', 9: 'f', 10: 'k', 11: 's', 12: 'q', 13: 'a', 14: 'v', 15: 'w', 16: 'x', 17: 't', 18: 'z', 19: 'n', 20: 'h', 21: 'c', 22: 'e', 23: 'i', 24: 'b', 25: 'o', 26: 'r'}\n",
      "----------------------------------------------------\n",
      "[13, 24, 21, 7, 22, 9, 1, 20, 23, 2, 10, 0, 3, 19, 25, 8, 12, 26, 11, 17, 5, 14, 15, 16, 6, 18, 4, 13, 24, 21, 7, 22, 9, 1, 20, 23, 2, 10, 0, 3, 19, 25, 8, 12, 26, 11, 17, 5, 14, 15, 16, 6, 18, 4, 13, 24, 21, 7, 22, 9, 1, 20, 23, 2, 10, 0, 3, 19, 25, 8, 12, 26, 11, 17, 5, 14, 15, 16, 6, 18, 4]\n",
      "----------------------------------------------------\n",
      "data length :  81\n"
     ]
    }
   ],
   "source": [
    "# one hot encode\n",
    "char_to_int = dict((c, i) for i, c in enumerate(chars)) # \"enumerate\" retruns index and value. Convert it to dictionary\n",
    "int_to_char = dict((i, c) for i, c in enumerate(chars))\n",
    "print(char_to_int)\n",
    "print(\"----------------------------------------------------\")\n",
    "print(int_to_char)\n",
    "print(\"----------------------------------------------------\")\n",
    "# integer encode input data\n",
    "integer_encoded = [char_to_int[i] for i in txt_data] # \"integer_encoded\" is a list which has a sequence converted from an original data to integers.\n",
    "print(integer_encoded)\n",
    "print(\"----------------------------------------------------\")\n",
    "print(\"data length : \", len(integer_encoded))"
   ]
  },
  {
   "cell_type": "code",
   "execution_count": null,
   "metadata": {
    "id": "hi-1Mr_a95Oj"
   },
   "outputs": [],
   "source": [
    "# hyperparameters\n",
    "\n",
    "iteration = 5000\n",
    "sequence_length = 10\n",
    "batch_size = round((txt_data_size /sequence_length)+0.5) # = math.ceil\n",
    "hidden_size = 100  # size of hidden layer of neurons.  \n",
    "learning_rate = 1e-1\n",
    "\n",
    "\n",
    "# model parameters\n",
    "\n",
    "W_xh = np.random.randn(hidden_size, num_chars)*0.01     # weight input -> hidden. \n",
    "W_hh = np.random.randn(hidden_size, hidden_size)*0.01   # weight hidden -> hidden\n",
    "W_hy = np.random.randn(num_chars, hidden_size)*0.01     # weight hidden -> output\n",
    "\n",
    "b_h = np.zeros((hidden_size, 1)) # hidden bias\n",
    "b_y = np.zeros((num_chars, 1)) # output bias\n",
    "\n",
    "h_prev = np.zeros((hidden_size,1)) # h_(t-1)"
   ]
  },
  {
   "cell_type": "code",
   "execution_count": null,
   "metadata": {
    "id": "SmQfhYtx95Ro"
   },
   "outputs": [],
   "source": [
    "def forwardprop(inputs, targets, h_prev):\n",
    "        \n",
    "    # Since the RNN receives the sequence, the weights are not updated during one sequence.\n",
    "    xs, hs, ys, ps = {}, {}, {}, {} # dictionary\n",
    "    hs[-1] = np.copy(h_prev) # Copy previous hidden state vector to -1 key value.\n",
    "    loss = 0 # loss initialization\n",
    "    \n",
    "    for t in range(len(inputs)): # t is a \"time step\" and is used as a key(dic).  \n",
    "        \n",
    "        xs[t] = np.zeros((num_chars,1)) \n",
    "        xs[t][inputs[t]] = 1\n",
    "        hs[t] = np.tanh(np.dot(W_xh, xs[t]) + np.dot(W_hh, hs[t-1]) + b_h) # hidden state. \n",
    "        ys[t] = np.dot(W_hy, hs[t]) + b_y # unnormalized log probabilities for next chars\n",
    "        ps[t] = np.exp(ys[t]) / np.sum(np.exp(ys[t])) # probabilities for next chars. \n",
    "        # Softmax. -> The sum of probabilities is 1 even without the exp() function, but all of the elements are positive through the exp() function.\n",
    " \n",
    "        loss += -np.log(ps[t][targets[t],0]) # softmax (cross-entropy loss). Efficient and simple code\n",
    "\n",
    "#         y_class = np.zeros((num_chars, 1)) \n",
    "#         y_class[targets[t]] =1\n",
    "#         loss += np.sum(y_class*(-np.log(ps[t]))) # softmax (cross-entropy loss)        \n",
    "\n",
    "    return loss, ps, hs, xs "
   ]
  },
  {
   "cell_type": "code",
   "execution_count": null,
   "metadata": {
    "id": "fg4aPrCP95Uh"
   },
   "outputs": [],
   "source": [
    "def backprop(ps, inputs, hs, xs):\n",
    "\n",
    "    dWxh, dWhh, dWhy = np.zeros_like(W_xh), np.zeros_like(W_hh), np.zeros_like(W_hy) # make all zero matrices.\n",
    "    dbh, dby = np.zeros_like(b_h), np.zeros_like(b_y)\n",
    "    dhnext = np.zeros_like(hs[0]) # (hidden_size,1) \n",
    "\n",
    "    # reversed\n",
    "    for t in reversed(range(len(inputs))):\n",
    "        dy = np.copy(ps[t]) # shape (num_chars,1).  \"dy\" means \"dloss/dy\"\n",
    "        dy[targets[t]] -= 1 # backprop into y. After taking the soft max in the input vector, subtract 1 from the value of the element corresponding to the correct label.\n",
    "        dWhy += np.dot(dy, hs[t].T)\n",
    "        dby += dy \n",
    "        dh = np.dot(W_hy.T, dy) + dhnext # backprop into h. \n",
    "        dhraw = (1 - hs[t] * hs[t]) * dh # backprop through tanh nonlinearity #tanh'(x) = 1-tanh^2(x)\n",
    "        dbh += dhraw\n",
    "        dWxh += np.dot(dhraw, xs[t].T)\n",
    "        dWhh += np.dot(dhraw, hs[t-1].T)\n",
    "        dhnext = np.dot(W_hh.T, dhraw)\n",
    "    for dparam in [dWxh, dWhh, dWhy, dbh, dby]: \n",
    "        np.clip(dparam, -5, 5, out=dparam) # clip to mitigate exploding gradients.  \n",
    "    \n",
    "    return dWxh, dWhh, dWhy, dbh, dby"
   ]
  },
  {
   "cell_type": "code",
   "execution_count": null,
   "metadata": {
    "colab": {
     "base_uri": "https://localhost:8080/"
    },
    "executionInfo": {
     "elapsed": 82922,
     "status": "ok",
     "timestamp": 1681932259077,
     "user": {
      "displayName": "Yana Savchenko",
      "userId": "10647193167803909811"
     },
     "user_tz": -420
    },
    "id": "3ezzNEoV95XY",
    "outputId": "96830b9b-2422-474b-a195-80eb7bed9c53"
   },
   "outputs": [
    {
     "name": "stdout",
     "output_type": "stream",
     "text": [
      "iter 0, loss: 3.504354\n",
      "iter 100, loss: 0.015185\n",
      "iter 200, loss: 0.007141\n",
      "iter 300, loss: 0.004599\n",
      "iter 400, loss: 0.003362\n",
      "iter 500, loss: 0.002635\n",
      "iter 600, loss: 0.002160\n",
      "iter 700, loss: 0.001827\n",
      "iter 800, loss: 0.001581\n",
      "iter 900, loss: 0.001392\n",
      "iter 1000, loss: 0.001242\n",
      "iter 1100, loss: 0.001121\n",
      "iter 1200, loss: 0.001020\n",
      "iter 1300, loss: 0.000936\n",
      "iter 1400, loss: 0.000864\n",
      "iter 1500, loss: 0.000802\n",
      "iter 1600, loss: 0.000748\n",
      "iter 1700, loss: 0.000701\n",
      "iter 1800, loss: 0.000659\n",
      "iter 1900, loss: 0.000622\n",
      "iter 2000, loss: 0.000589\n",
      "iter 2100, loss: 0.000559\n",
      "iter 2200, loss: 0.000532\n",
      "iter 2300, loss: 0.000507\n",
      "iter 2400, loss: 0.000485\n",
      "iter 2500, loss: 0.000464\n",
      "iter 2600, loss: 0.000445\n",
      "iter 2700, loss: 0.000427\n",
      "iter 2800, loss: 0.000411\n",
      "iter 2900, loss: 0.000396\n",
      "iter 3000, loss: 0.000382\n",
      "iter 3100, loss: 0.000369\n",
      "iter 3200, loss: 0.000357\n",
      "iter 3300, loss: 0.000345\n",
      "iter 3400, loss: 0.000334\n",
      "iter 3500, loss: 0.000324\n",
      "iter 3600, loss: 0.000315\n",
      "iter 3700, loss: 0.000306\n",
      "iter 3800, loss: 0.000297\n",
      "iter 3900, loss: 0.000289\n",
      "iter 4000, loss: 0.000281\n",
      "iter 4100, loss: 0.000274\n",
      "iter 4200, loss: 0.000267\n",
      "iter 4300, loss: 0.000260\n",
      "iter 4400, loss: 0.000254\n",
      "iter 4500, loss: 0.000248\n",
      "iter 4600, loss: 0.000242\n",
      "iter 4700, loss: 0.000237\n",
      "iter 4800, loss: 0.000232\n",
      "iter 4900, loss: 0.000227\n"
     ]
    }
   ],
   "source": [
    "data_pointer = 0\n",
    "\n",
    "# memory variables for Adagrad\n",
    "mWxh, mWhh, mWhy = np.zeros_like(W_xh), np.zeros_like(W_hh), np.zeros_like(W_hy)\n",
    "mbh, mby = np.zeros_like(b_h), np.zeros_like(b_y) \n",
    "\n",
    "\n",
    "for i in range(iteration):\n",
    "    h_prev = np.zeros((hidden_size,1)) # reset RNN memory\n",
    "    data_pointer = 0 # go from start of data\n",
    "    \n",
    "    for b in range(batch_size):\n",
    "        \n",
    "        inputs = [char_to_int[ch] for ch in txt_data[data_pointer:data_pointer+sequence_length]]\n",
    "        targets = [char_to_int[ch] for ch in txt_data[data_pointer+1:data_pointer+sequence_length+1]] # t+1        \n",
    "            \n",
    "        if (data_pointer+sequence_length+1 >= len(txt_data) and b == batch_size-1): # processing of the last part of the input data. \n",
    "#             targets.append(char_to_int[txt_data[0]])   # When the data doesn't fit, add the first char to the back.\n",
    "            targets.append(char_to_int[\" \"])   # When the data doesn't fit, add space(\" \") to the back.\n",
    "\n",
    "\n",
    "        # forward\n",
    "        loss, ps, hs, xs = forwardprop(inputs, targets, h_prev)\n",
    "#         print(loss)\n",
    "    \n",
    "        # backward\n",
    "        dWxh, dWhh, dWhy, dbh, dby = backprop(ps, inputs, hs, xs) \n",
    "        \n",
    "        \n",
    "    # perform parameter update with Adagrad\n",
    "        for param, dparam, mem in zip([W_xh, W_hh, W_hy, b_h, b_y], \n",
    "                                    [dWxh, dWhh, dWhy, dbh, dby], \n",
    "                                    [mWxh, mWhh, mWhy, mbh, mby]):\n",
    "            mem += dparam * dparam # elementwise\n",
    "            param += -learning_rate * dparam / np.sqrt(mem + 1e-8) # adagrad update      \n",
    "    \n",
    "        data_pointer += sequence_length # move data pointer\n",
    "        \n",
    "    if i % 100 == 0:\n",
    "        print ('iter %d, loss: %f' % (i, loss)) # print progress"
   ]
  },
  {
   "cell_type": "code",
   "execution_count": null,
   "metadata": {
    "id": "SYy5nANp-HEy"
   },
   "outputs": [],
   "source": [
    "def predict(test_char, length):\n",
    "    x = np.zeros((num_chars, 1)) \n",
    "    x[char_to_int[test_char]] = 1\n",
    "    ixes = []\n",
    "    h = np.zeros((hidden_size,1))\n",
    "\n",
    "    for t in range(length):\n",
    "        h = np.tanh(np.dot(W_xh, x) + np.dot(W_hh, h) + b_h) \n",
    "        y = np.dot(W_hy, h) + b_y\n",
    "        p = np.exp(y) / np.sum(np.exp(y)) \n",
    "        ix = np.random.choice(range(num_chars), p=p.ravel()) # ravel -> rank0\n",
    "        # \"ix\" is a list of indexes selected according to the soft max probability.\n",
    "        x = np.zeros((num_chars, 1)) # init\n",
    "        x[ix] = 1 \n",
    "        ixes.append(ix) # list\n",
    "    txt = ''.join(int_to_char[i] for i in ixes)\n",
    "    print('----\\n %s \\n----' % (txt, ))"
   ]
  },
  {
   "cell_type": "code",
   "execution_count": null,
   "metadata": {
    "colab": {
     "base_uri": "https://localhost:8080/"
    },
    "executionInfo": {
     "elapsed": 297,
     "status": "ok",
     "timestamp": 1681932276758,
     "user": {
      "displayName": "Yana Savchenko",
      "userId": "10647193167803909811"
     },
     "user_tz": -420
    },
    "id": "ppa3gSYk-HJp",
    "outputId": "f6ed8133-37dd-4140-9deb-3f58f7b1585b"
   },
   "outputs": [
    {
     "name": "stdout",
     "output_type": "stream",
     "text": [
      "----\n",
      " bcdefghijklmnpqnoprstuvwxyz ab \n",
      "----\n"
     ]
    }
   ],
   "source": [
    "predict('a',30) # (char, len of output)"
   ]
  },
  {
   "cell_type": "code",
   "execution_count": null,
   "metadata": {
    "colab": {
     "base_uri": "https://localhost:8080/"
    },
    "executionInfo": {
     "elapsed": 4,
     "status": "ok",
     "timestamp": 1681932277043,
     "user": {
      "displayName": "Yana Savchenko",
      "userId": "10647193167803909811"
     },
     "user_tz": -420
    },
    "id": "tamOCF7i-HNu",
    "outputId": "0d913dc3-558a-4f4f-b664-009302984c73"
   },
   "outputs": [
    {
     "name": "stdout",
     "output_type": "stream",
     "text": [
      "----\n",
      " cdefghijgqijklmnpqrstuvwxyz lm \n",
      "----\n"
     ]
    }
   ],
   "source": [
    "predict('b',30)"
   ]
  },
  {
   "cell_type": "markdown",
   "metadata": {
    "id": "gH_lTRZ40UYY"
   },
   "source": [
    "Пример: генерация текста в стиле Шекспра при помощи `RNN` ([пост](http://karpathy.github.io/2015/05/21/rnn-effectiveness/) Andrej Karpathy)\n",
    "\n",
    "```text\n",
    "PANDARUS:\n",
    "Alas, I think he shall be come approached and the day\n",
    "When little srain would be attain'd into being never fed,\n",
    "And who is but a chain and subjects of his death,\n",
    "I should not sleep.\n",
    "\n",
    "Second Senator:\n",
    "They are away this miseries, produced upon my soul,\n",
    "Breaking and strongly should be buried, when I perish\n",
    "The earth and thoughts of many states.\n",
    "\n",
    "DUKE VINCENTIO:\n",
    "Well, your wit is in the care of side and that.\n",
    "\n",
    "Second Lord:\n",
    "They would be ruled after this chamber, and\n",
    "my fair nues begun out of the fact, to be conveyed,\n",
    "Whose noble souls I'll have the heart of the wars.\n",
    "\n",
    "Clown:\n",
    "Come, sir, I will make did behold your worship.\n",
    "\n",
    "VIOLA:\n",
    "I'll drink it.\n",
    "```"
   ]
  },
  {
   "cell_type": "markdown",
   "metadata": {
    "id": "t060zorx2v6L"
   },
   "source": [
    "Посмотрим, как это работает.\n",
    "\n",
    "Тест, генерируемый `LSTM`, обученной на \"Войне и мире\":\n",
    "\n",
    "- 100 итераций: пока что не похоже на текст\n",
    "\n",
    "  ```text\n",
    "tyntd-iafhatawiaoihrdemot  lytdws  e ,tfti, astai f ogoh eoase rrranbyne 'nhthnee e \n",
    "plia tklrgd t o idoe ns,smtt   h ne etie h,hregtrs nigtike,aoaenns lng\n",
    "```\n",
    "\n",
    "- 300 итераций: вырисовываются слова, пробелы, знаки препинания\n",
    "\n",
    "  ```text\n",
    "\"Tmont thithey\" fomesscerliund\n",
    "Keushey. Thom here\n",
    "sheulke, anmerenith ol sivh I lalterthend Bleipile shuwy fil on aseterlome\n",
    "coaniogennc Phe lism thond hon at. MeiDimorotion in ther thize.\"\n",
    "```\n",
    "\n",
    "- 500 итераций: выучила простые местоимения (\"he\", \"we\", etc.)\n",
    "\n",
    "  ```text\n",
    "we counter. He stutn co des. His stanted out one ofler that concossions and was \n",
    "to gearang reay Jotrets and with fre colt otf paitt thin wall. Which das stimn \n",
    "```\n",
    "\n",
    "- 700 итераций: похоже на английский язык\n",
    "\n",
    "  ```text\n",
    "  Aftair fall unsuch that the hall for Prince Velzonski's that me of\n",
    "her hearly, and behs to so arwage fiving were to it beloge, pavu say falling misfort \n",
    "how, and Gogition is so overelical and ofter.\n",
    "```\n",
    "\n",
    "- 1200 итераций: знаки препинания\n",
    "\n",
    "  ```text\n",
    "  \"Kite vouch!\" he repeated by her\n",
    "door. \"But I would be done and quarts, feeling, then, son is people....\"\n",
    "```\n",
    "\n",
    "- 2000 итераций:\n",
    "\n",
    "  ```text\n",
    "  \"Why do what that day,\" replied Natasha, and wishing to himself the fact the\n",
    "princess, Princess Mary was easier, fed in had oftened him.\n",
    "Pierre aking his soul came to the packs and drove up his father-in-law women.\n",
    "```"
   ]
  },
  {
   "cell_type": "markdown",
   "metadata": {
    "id": "Mw01lL2j3aoN"
   },
   "source": [
    "## LSTM - Long Short Term Memory Networks"
   ]
  },
  {
   "cell_type": "markdown",
   "metadata": {
    "id": "iS37m_PO3aq_"
   },
   "source": [
    "`RNN` можно представить в следующем виде:\n",
    "\n",
    "![](images/6.png)\n",
    "\n",
    "В реальной жизни мы можем наткнуться на текст, в котором начало мысли и её логическое окончание сильно разделены между собой. Например, самое длинное предложение из романа \"Сто лет одиночества\" выглядит так:\n",
    "\n",
    "```text\n",
    "Это Фернанда бродила по всему дому, жалуясь, что воспитали её как королеву, а она превратилась в служанку в этом сумасшедшем доме, мыкается с мужем — бездельником, безбожником и бабником, который валится на кровать, разевает пасть и ждет, что ему туда посыплется манна небесная, пока она гнет спину и тащит на себе этот дом, который держится на честном слове, дом, где она все чистит, убирает, чинит с рассвета до поздней ночи, и, как спать ложится, у неё глаза жжет, словно в них песку насыпали, и никто никогда не скажет ей: добрый день, Фернанда, хорошо ли тебе спалось, Фернанда, никто не спросит её, хотя бы из вежливости, почему она так бледна, почему она просыпается с такими синяками под глазами, хотя, конечно, она и не ждет никакого внимания от этой семьи, в конце концов они всегда относились к ней как к помехе, как к тряпке, которой снимают с плиты горячие котелки, как к уродцу, намалеванному на стене, эта семейка всегда интриговала против неё по углам, называла её ханжой, называла её фарисейкой, называла её притворой, и Амаранта — упокой, Господи, её душу — даже во всеуслышание объявила, что она, Фернанда, из тех, кто путает задний проход с великим постом, — Боже милостивый, что за выражение, — она сносила все покорно, подчиняясь воле Всевышнего, но терпению её пришел конец, когда этот негодяй, Хосе Аркадио Второй, сказал, что семья погибла, потому что впустила в дом качако в юбке, вообразите себе властолюбивого качако в юбке — прости, Господи, мое прегрешение, — качако сучьей породы, из тех качако, что правительство послало убивать рабочих, и подумать только — он имел в виду её, Фернанду, крестницу герцога Альбы, даму столь знатного происхождения, что супруги президентов ей завидовали, чистокровную дворянку, которая имеет право подписываться одиннадцатью испанскими именами, единственную смертную в этом городишке ублюдков, которую не может смутить стол на шестнадцать кувертов, а этот грязный прелюбодей, её муж, сказал, умирая со смеху, что столько ложек и вилок и столько ножей и чайных ложечек потребно не добрым христианам, а разве что сороконожкам, и ведь только она одна знает, когда следует подавать белое вино и с какой руки и в какой бокал наливать и когда следует подавать красное вино и с какой руки и в какой бокал наливать, не то что эта деревенщина — Амаранта — упокой, Господи, её душу, — которая считала, что белое вино пьют днем, а красное вечером, она, Фернанда, единственная на всем побережье, может похвастаться тем, что ходит только в золотой ночной горшок, а у этого злостного франкмасона полковника Аурелиано Буэндиа — упокой, Господи, его душу — хватило дерзости спросить, почему она заслужила эту привилегию, не потому ли, что испражняется хризантемами, представьте себе, так он и сказал, этими самыми словами, — а Рената, её собственная дочь, нагло подсмотрела, как она справляет большую нужду в спальне, и потом рассказывала, что горшок действительно весь золотой и со многими гербами, но внутри его простое дерьмо, самое обыкновенное дерьмо, и даже хуже, чем обыкновенное, — дерьмо качако, — представьте себе, её собственная, родная дочь; что правда, то правда, она никогда не обманывалась относительно других членов семейства, но, во всяком случае, имела право ожидать хоть малую толику уважения со стороны своего мужа, ибо, как ни говори, он её супруг перед Богом и людьми, её господин, её заступник, который возложил на себя по своей доброй воле и по воле Божьей великую ответственность и взял её из родительского дома, где она жила, не зная нужды и забот, где она плела похоронные венки только ради времяпрепровождения, ведь её крестный прислал ей письмо, скрепленное его собственноручной подписью и оттиском его перстня на сургучной печати, письмо, подтверждающее, что руки его крестницы сотворены не для трудов земных, а для игры на клавикордах, и, однако, этот бесчувственный чурбан, её муж, извлек её из родительского дома и, напутствуемый добрыми советами и предупреждениями, привез сюда, в адское пекло, где так жарко, что и дышать-то нечем, и не успела она соблюсти воздержание, предписанное в дни поста, а он уже схватил свои прелестные сундуки и свой паршивый аккордеон и отправился жить в беззаконии со своей наложницей, с этой жалкой потаскухой, достаточно взглянуть на её задницу — пусть так, слово уже вылетело, — достаточно взглянуть, как она вертит своей задницей, здоровенной, будто у молодой кобылы, и сразу станет ясно, что это за птица, что это за тварь, — совсем другой породы, чем она, Фернанда, которая остается дамой и во дворе, и в свинарнике, и за столом, и в постели, прирожденной дамой, богобоязненной, законопослушной, покорной своей судьбе, она, конечно, не согласится вытворять разные грязные штучки, их можно вытворять с той, другой, та, другая, разумеется, готова на все, как француженки, и даже хуже их в тысячу раз, француженки хоть поступают честно и вешают на двери красный фонарь, еще бы не хватало, чтобы он вытворял такое свинство с нею, с Фернандой, единственной и возлюбленной дочерью доньи Ренаты Арготе и дона Фернандо дель Карпио, в особенности последнего, этого святого человека, истинного христианина, кавалера ордена Святой гробницы, а они особой милостью Божьей избегают тления в могиле, кожа у них и после смерти остается чистой и гладкой, как атласное платье невесты, а глаза живыми и прозрачными, как изумруды.\n",
    "```\n",
    "\n",
    "Люди могут запомнить такое количество контекста (хотя нам сложно), а вот `RNN`, как показывает практика, не справляется с этим.\n",
    "\n",
    "![](images/7.png)\n",
    "\n",
    "Внутри этой цепочки `RNN` большое число умножений на одну и ту же матрицу → градиенты будут либо взрываться, либо затухать"
   ]
  },
  {
   "cell_type": "markdown",
   "metadata": {
    "id": "3Hjf5kZyKO1z"
   },
   "source": [
    "![](images/8.png)\n",
    "\n",
    "*Схема RNN*\n",
    "\n",
    "![](images/9.png)\n",
    "\n",
    "*Схема LSTM*\n",
    "\n",
    "- Более хитро устроен один блок\n",
    "- Есть не один вспомогательный вектор, а два (hidden $h$ и cell $c$). Идея в том, что c мы хотим менять как можно меньше\n",
    "менять $c$, чтобы через него легко шёл градиент\n",
    "- Есть три гейта: forget gate, input gate, output gate\n",
    "  1. Хотим решить, какую информацию выбросить из *cell state*. Для этого мы используем т.н. **forget gate**. В нашем примере с моделью, которая пытается предсказать следующие слова по началу предложения, это может быть информация о роде существительного (поменялось существительное - нужно забыть его род) и т.п. Получаем вектор с числами от 0 до 1, который домножается на *cell state* $c_{t-1}$ (здесь и дальше $[,]$ обозначают конкатенацию)\n",
    "  ![](images/10.png)\n",
    "  2. Дальше нужно решить, какую информацию мы хотим сохранить внутри *cell state* $c_t$. **Input gate** позволяет определить, какие значения мы хотим обновить. Например, мы  встретили в тексте новое существительное и хотим добавить информацию о его роде:\n",
    "  ![](images/11.png)\n",
    "  3. Пересчитываем $c_t$:\n",
    "  ![](images/12.png)\n",
    "  4. Считаем, какой у нас будет вектор внутреннего состояния $h_t$. Например, так как мы только что видели предмет, а дальше, скорее всего, пойдет глагол, мы хотим передать состояние о том, единственное у нас или множественное число\n",
    "  ![](images/13.png)\n",
    "- `LSTM` бывает двунаправленной (bidirectional). Так же, как и `RNN`, слои `LSTM` можно стакать друг на друга\n",
    "\n",
    "[Пост про LSTM](http://colah.github.io/posts/2015-08-Understanding-LSTMs/)\n",
    "\n",
    "[Ещё один пост про LSTM](https://towardsdatascience.com/illustrated-guide-to-lstms-and-gru-s-a-step-by-step-explanation-44e9eb85bf21)"
   ]
  },
  {
   "cell_type": "markdown",
   "metadata": {
    "id": "da1ZS4aH_PhS"
   },
   "source": [
    "### Пример с LSTM\n"
   ]
  },
  {
   "cell_type": "markdown",
   "metadata": {
    "id": "88Hu0nOrxKND"
   },
   "source": [
    "Посмотрим на то, как работает LSTM на задаче Part-Of-Speech tagging для английского языка.\n",
    "\n",
    "Будем работать с таким набором тегов:\n",
    "\n",
    "    ADJ - adjective (new, good, high, ...)\n",
    "    ADP - adposition (on, of, at, ...)\n",
    "    ADV - adverb (really, already, still, ...)\n",
    "    CONJ - conjunction (and, or, but, ...)\n",
    "    DET - determiner, article (the, a, some, ...)\n",
    "    NOUN - noun (year, home, costs, ...)\n",
    "    NUM - numeral (twenty-four, fourth, 1991, ...)\n",
    "    PRT - particle (at, on, out, ...)\n",
    "    PRON - pronoun (he, their, her, ...)\n",
    "    VERB - verb (is, say, told, ...)\n",
    "    . - punctuation marks (. , ;)\n",
    "    X - other (ersatz, esprit, dunno, ...)\n"
   ]
  },
  {
   "cell_type": "code",
   "execution_count": null,
   "metadata": {
    "colab": {
     "base_uri": "https://localhost:8080/"
    },
    "executionInfo": {
     "elapsed": 22011,
     "status": "ok",
     "timestamp": 1682532802930,
     "user": {
      "displayName": "Yana Savchenko",
      "userId": "10647193167803909811"
     },
     "user_tz": -420
    },
    "id": "ubn69oygw0IW",
    "outputId": "e47d79db-78c9-4bfc-9287-190fdc8d19dd"
   },
   "outputs": [
    {
     "name": "stdout",
     "output_type": "stream",
     "text": [
      "Looking in indexes: https://pypi.org/simple, https://us-python.pkg.dev/colab-wheels/public/simple/\n",
      "Requirement already satisfied: bokeh in /usr/local/lib/python3.9/dist-packages (2.4.3)\n",
      "Requirement already satisfied: Jinja2>=2.9 in /usr/local/lib/python3.9/dist-packages (from bokeh) (3.1.2)\n",
      "Requirement already satisfied: numpy>=1.11.3 in /usr/local/lib/python3.9/dist-packages (from bokeh) (1.22.4)\n",
      "Requirement already satisfied: PyYAML>=3.10 in /usr/local/lib/python3.9/dist-packages (from bokeh) (6.0)\n",
      "Requirement already satisfied: packaging>=16.8 in /usr/local/lib/python3.9/dist-packages (from bokeh) (23.1)\n",
      "Requirement already satisfied: tornado>=5.1 in /usr/local/lib/python3.9/dist-packages (from bokeh) (6.2)\n",
      "Requirement already satisfied: typing-extensions>=3.10.0 in /usr/local/lib/python3.9/dist-packages (from bokeh) (4.5.0)\n",
      "Requirement already satisfied: pillow>=7.1.0 in /usr/local/lib/python3.9/dist-packages (from bokeh) (8.4.0)\n",
      "Requirement already satisfied: MarkupSafe>=2.0 in /usr/local/lib/python3.9/dist-packages (from Jinja2>=2.9->bokeh) (2.1.2)\n",
      "Looking in indexes: https://pypi.org/simple, https://us-python.pkg.dev/colab-wheels/public/simple/\n",
      "Requirement already satisfied: gensim in /usr/local/lib/python3.9/dist-packages (4.3.1)\n",
      "Requirement already satisfied: scipy>=1.7.0 in /usr/local/lib/python3.9/dist-packages (from gensim) (1.10.1)\n",
      "Requirement already satisfied: smart-open>=1.8.1 in /usr/local/lib/python3.9/dist-packages (from gensim) (6.3.0)\n",
      "Requirement already satisfied: numpy>=1.18.5 in /usr/local/lib/python3.9/dist-packages (from gensim) (1.22.4)\n",
      "Looking in indexes: https://pypi.org/simple, https://us-python.pkg.dev/colab-wheels/public/simple/\n",
      "Requirement already satisfied: nltk in /usr/local/lib/python3.9/dist-packages (3.8.1)\n",
      "Requirement already satisfied: tqdm in /usr/local/lib/python3.9/dist-packages (from nltk) (4.65.0)\n",
      "Requirement already satisfied: regex>=2021.8.3 in /usr/local/lib/python3.9/dist-packages (from nltk) (2022.10.31)\n",
      "Requirement already satisfied: click in /usr/local/lib/python3.9/dist-packages (from nltk) (8.1.3)\n",
      "Requirement already satisfied: joblib in /usr/local/lib/python3.9/dist-packages (from nltk) (1.2.0)\n",
      "Looking in indexes: https://pypi.org/simple, https://us-python.pkg.dev/colab-wheels/public/simple/\n",
      "Requirement already satisfied: scikit-learn in /usr/local/lib/python3.9/dist-packages (1.2.2)\n",
      "Requirement already satisfied: threadpoolctl>=2.0.0 in /usr/local/lib/python3.9/dist-packages (from scikit-learn) (3.1.0)\n",
      "Requirement already satisfied: joblib>=1.1.1 in /usr/local/lib/python3.9/dist-packages (from scikit-learn) (1.2.0)\n",
      "Requirement already satisfied: numpy>=1.17.3 in /usr/local/lib/python3.9/dist-packages (from scikit-learn) (1.22.4)\n",
      "Requirement already satisfied: scipy>=1.3.2 in /usr/local/lib/python3.9/dist-packages (from scikit-learn) (1.10.1)\n"
     ]
    }
   ],
   "source": [
    "!pip install bokeh\n",
    "!pip install gensim\n",
    "!pip install nltk\n",
    "!pip install scikit-learn"
   ]
  },
  {
   "cell_type": "code",
   "execution_count": null,
   "metadata": {
    "id": "eIE-3dr7xXng"
   },
   "outputs": [],
   "source": [
    "import numpy as np\n",
    "\n",
    "import torch\n",
    "import torch.nn as nn\n",
    "import torch.nn.functional as F\n",
    "import torch.optim as optim\n",
    "\n",
    "\n",
    "if torch.cuda.is_available():\n",
    "    from torch.cuda import FloatTensor, LongTensor\n",
    "else:\n",
    "    from torch import FloatTensor, LongTensor\n",
    "\n",
    "np.random.seed(42)"
   ]
  },
  {
   "cell_type": "code",
   "execution_count": null,
   "metadata": {
    "colab": {
     "base_uri": "https://localhost:8080/"
    },
    "executionInfo": {
     "elapsed": 2020,
     "status": "ok",
     "timestamp": 1682532902642,
     "user": {
      "displayName": "Yana Savchenko",
      "userId": "10647193167803909811"
     },
     "user_tz": -420
    },
    "id": "YS9jTCeoxbjG",
    "outputId": "fa8f8b38-c0d9-4b08-85e7-548c231ced02"
   },
   "outputs": [
    {
     "name": "stderr",
     "output_type": "stream",
     "text": [
      "[nltk_data] Downloading package brown to /root/nltk_data...\n",
      "[nltk_data]   Unzipping corpora/brown.zip.\n",
      "[nltk_data] Downloading package universal_tagset to /root/nltk_data...\n",
      "[nltk_data]   Unzipping taggers/universal_tagset.zip.\n"
     ]
    }
   ],
   "source": [
    "import nltk\n",
    "from sklearn.model_selection import train_test_split\n",
    "\n",
    "nltk.download('brown')\n",
    "nltk.download('universal_tagset')\n",
    "\n",
    "data = nltk.corpus.brown.tagged_sents(tagset='universal')"
   ]
  },
  {
   "cell_type": "markdown",
   "metadata": {
    "id": "2Nl7eJv30YaO"
   },
   "source": [
    "Пример размеченного предложения"
   ]
  },
  {
   "cell_type": "code",
   "execution_count": null,
   "metadata": {
    "colab": {
     "base_uri": "https://localhost:8080/"
    },
    "executionInfo": {
     "elapsed": 13,
     "status": "ok",
     "timestamp": 1682533628145,
     "user": {
      "displayName": "Yana Savchenko",
      "userId": "10647193167803909811"
     },
     "user_tz": -420
    },
    "id": "kJHAt_E40a0Y",
    "outputId": "2333c0fa-7229-46d7-f246-91e2e7bd9ce8"
   },
   "outputs": [
    {
     "name": "stdout",
     "output_type": "stream",
     "text": [
      "The            \tDET\n",
      "Fulton         \tNOUN\n",
      "County         \tNOUN\n",
      "Grand          \tADJ\n",
      "Jury           \tNOUN\n",
      "said           \tVERB\n",
      "Friday         \tNOUN\n",
      "an             \tDET\n",
      "investigation  \tNOUN\n",
      "of             \tADP\n",
      "Atlanta's      \tNOUN\n",
      "recent         \tADJ\n",
      "primary        \tNOUN\n",
      "election       \tNOUN\n",
      "produced       \tVERB\n",
      "``             \t.\n",
      "no             \tDET\n",
      "evidence       \tNOUN\n",
      "''             \t.\n",
      "that           \tADP\n",
      "any            \tDET\n",
      "irregularities \tNOUN\n",
      "took           \tVERB\n",
      "place          \tNOUN\n",
      ".              \t.\n"
     ]
    }
   ],
   "source": [
    "for word, tag in data[0]:\n",
    "    print('{:15}\\t{}'.format(word, tag))"
   ]
  },
  {
   "cell_type": "markdown",
   "metadata": {
    "id": "jUoAN9sh0pNb"
   },
   "source": [
    "Построим разбиение на train/val/test - наконец-то, всё как у нормальных людей.\n",
    "\n",
    "На train будем учиться, по val - подбирать параметры и делать всякие early stopping, а на test - принимать модель по ее финальному качеству"
   ]
  },
  {
   "cell_type": "code",
   "execution_count": null,
   "metadata": {
    "colab": {
     "base_uri": "https://localhost:8080/"
    },
    "executionInfo": {
     "elapsed": 27330,
     "status": "ok",
     "timestamp": 1682533732361,
     "user": {
      "displayName": "Yana Savchenko",
      "userId": "10647193167803909811"
     },
     "user_tz": -420
    },
    "id": "bVVpZSTO0rGM",
    "outputId": "2125da48-db6f-4c18-fe18-46a87ab3e4c9"
   },
   "outputs": [
    {
     "name": "stdout",
     "output_type": "stream",
     "text": [
      "Words count in train set: 739769\n",
      "Words count in val set: 130954\n",
      "Words count in test set: 290469\n"
     ]
    }
   ],
   "source": [
    "train_data, test_data = train_test_split(data, test_size=0.25, random_state=42)\n",
    "train_data, val_data = train_test_split(train_data, test_size=0.15, random_state=42)\n",
    "\n",
    "print('Words count in train set:', sum(len(sent) for sent in train_data))\n",
    "print('Words count in val set:', sum(len(sent) for sent in val_data))\n",
    "print('Words count in test set:', sum(len(sent) for sent in test_data))"
   ]
  },
  {
   "cell_type": "code",
   "execution_count": null,
   "metadata": {
    "colab": {
     "base_uri": "https://localhost:8080/"
    },
    "executionInfo": {
     "elapsed": 321,
     "status": "ok",
     "timestamp": 1682533737514,
     "user": {
      "displayName": "Yana Savchenko",
      "userId": "10647193167803909811"
     },
     "user_tz": -420
    },
    "id": "tY0x2p000k82",
    "outputId": "3216700a-c885-42c5-f531-b2ddfda6b86f"
   },
   "outputs": [
    {
     "data": {
      "text/plain": [
       "[('``', '.'),\n",
       " ('What', 'DET'),\n",
       " ('did', 'VERB'),\n",
       " ('you', 'PRON'),\n",
       " ('think', 'VERB'),\n",
       " ('about', 'ADP'),\n",
       " (\"Bang-Jensen's\", 'NOUN'),\n",
       " ('contention', 'NOUN'),\n",
       " ('of', 'ADP'),\n",
       " ('errors', 'NOUN'),\n",
       " ('and', 'CONJ'),\n",
       " ('omissions', 'NOUN'),\n",
       " ('in', 'ADP'),\n",
       " ('the', 'DET'),\n",
       " ('Hungarian', 'ADJ'),\n",
       " ('report', 'NOUN'),\n",
       " (\"''\", '.'),\n",
       " ('?', '.'),\n",
       " ('?', '.')]"
      ]
     },
     "execution_count": 6,
     "metadata": {},
     "output_type": "execute_result"
    }
   ],
   "source": [
    "train_data[0]"
   ]
  },
  {
   "cell_type": "markdown",
   "metadata": {
    "id": "j_R2GAU70451"
   },
   "source": [
    "Построим маппинги из слов в индекс и из тега в индекс:"
   ]
  },
  {
   "cell_type": "code",
   "execution_count": null,
   "metadata": {
    "colab": {
     "base_uri": "https://localhost:8080/"
    },
    "executionInfo": {
     "elapsed": 614,
     "status": "ok",
     "timestamp": 1682533765770,
     "user": {
      "displayName": "Yana Savchenko",
      "userId": "10647193167803909811"
     },
     "user_tz": -420
    },
    "id": "zMisH_Lq07GN",
    "outputId": "e93eedc0-889d-408e-e64e-0ec65b6ebc8b"
   },
   "outputs": [
    {
     "name": "stdout",
     "output_type": "stream",
     "text": [
      "Unique words in train = 45441. Tags = {'ADV', '.', 'ADJ', 'CONJ', 'DET', 'PRT', 'X', 'NUM', 'ADP', 'NOUN', 'PRON', 'VERB'}\n"
     ]
    }
   ],
   "source": [
    "words = {word for sample in train_data for word, tag in sample}\n",
    "word2ind = {word: ind + 1 for ind, word in enumerate(words)}\n",
    "word2ind['<pad>'] = 0\n",
    "\n",
    "tags = {tag for sample in train_data for word, tag in sample}\n",
    "tag2ind = {tag: ind + 1 for ind, tag in enumerate(tags)}\n",
    "tag2ind['<pad>'] = 0\n",
    "\n",
    "print('Unique words in train = {}. Tags = {}'.format(len(word2ind), tags))"
   ]
  },
  {
   "cell_type": "code",
   "execution_count": null,
   "metadata": {
    "colab": {
     "base_uri": "https://localhost:8080/",
     "height": 445
    },
    "executionInfo": {
     "elapsed": 2136,
     "status": "ok",
     "timestamp": 1682533887715,
     "user": {
      "displayName": "Yana Savchenko",
      "userId": "10647193167803909811"
     },
     "user_tz": -420
    },
    "id": "BHrwxJ7l1ZRR",
    "outputId": "44d85fa6-b2b8-4f7b-d828-888322bd6bd0"
   },
   "outputs": [
    {
     "data": {
      "image/png": "[encoded data removed]",
      "text/plain": [
       "<Figure size 1000x500 with 1 Axes>"
      ]
     },
     "metadata": {},
     "output_type": "display_data"
    }
   ],
   "source": [
    "import matplotlib.pyplot as plt\n",
    "%matplotlib inline\n",
    "\n",
    "from collections import Counter\n",
    "\n",
    "tag_distribution = Counter(tag for sample in train_data for _, tag in sample)\n",
    "tag_distribution = [tag_distribution[tag] for tag in tags]\n",
    "\n",
    "plt.figure(figsize=(10, 5))\n",
    "\n",
    "bar_width = 0.35\n",
    "plt.bar(np.arange(len(tags)), tag_distribution, bar_width, align='center', alpha=0.5)\n",
    "plt.xticks(np.arange(len(tags)), tags)\n",
    "    \n",
    "plt.show()\n"
   ]
  },
  {
   "cell_type": "markdown",
   "metadata": {
    "id": "9RnPwsTE1sOH"
   },
   "source": [
    "Самый простой вариант, который мы можем придумать - это просто считать по нашему датасету, какова вероятность для конкретного слова быть заданной частью речи. Для большинства слов (артикли, предлоги и т.д.) такой подход работает. Но есть и сложные случаи:\n",
    "\n",
    "```text\n",
    "He saw a smile at her face. You smile at me.\n",
    "```\n",
    "\n",
    "Поэтому нам очень полезно учитывать контекст при предсказании тега.\n",
    "Воспользуемся LSTM - он умеет работать с контекстом очень даже хорошо.\n",
    "\n",
    "- Учим эмбеддинги слов сами (можно взять предобученные)\n",
    "- `LSTM` делает предсказания для каждого слова\n",
    "- Линейный слой с софтмаксом делает предсказания тегов"
   ]
  },
  {
   "cell_type": "code",
   "execution_count": null,
   "metadata": {
    "id": "VwGvYkY-4Q_C"
   },
   "outputs": [],
   "source": [
    "def convert_data(data, word2ind, tag2ind):\n",
    "    X = [[word2ind.get(word, 0) for word, _ in sample] for sample in data]\n",
    "    y = [[tag2ind[tag] for _, tag in sample] for sample in data]\n",
    "    \n",
    "    return X, y\n",
    "\n",
    "X_train, y_train = convert_data(train_data, word2ind, tag2ind)\n",
    "X_val, y_val = convert_data(val_data, word2ind, tag2ind)\n",
    "X_test, y_test = convert_data(test_data, word2ind, tag2ind)"
   ]
  },
  {
   "cell_type": "code",
   "execution_count": null,
   "metadata": {
    "id": "dJkjfzQo4REp"
   },
   "outputs": [],
   "source": [
    "def iterate_batches(data, batch_size):\n",
    "    X, y = data\n",
    "    n_samples = len(X)\n",
    "\n",
    "    indices = np.arange(n_samples)\n",
    "    np.random.shuffle(indices)\n",
    "    \n",
    "    for start in range(0, n_samples, batch_size):\n",
    "        end = min(start + batch_size, n_samples)\n",
    "        \n",
    "        batch_indices = indices[start:end]\n",
    "        \n",
    "        max_sent_len = max(len(X[ind]) for ind in batch_indices)\n",
    "        X_batch = np.zeros((max_sent_len, len(batch_indices)))\n",
    "        y_batch = np.zeros((max_sent_len, len(batch_indices)))\n",
    "        \n",
    "        for batch_ind, sample_ind in enumerate(batch_indices):\n",
    "            X_batch[:len(X[sample_ind]), batch_ind] = X[sample_ind]\n",
    "            y_batch[:len(y[sample_ind]), batch_ind] = y[sample_ind]\n",
    "            \n",
    "        yield X_batch, y_batch"
   ]
  },
  {
   "cell_type": "code",
   "execution_count": null,
   "metadata": {
    "colab": {
     "base_uri": "https://localhost:8080/"
    },
    "executionInfo": {
     "elapsed": 9,
     "status": "ok",
     "timestamp": 1682535004173,
     "user": {
      "displayName": "Yana Savchenko",
      "userId": "10647193167803909811"
     },
     "user_tz": -420
    },
    "id": "z29fgbGh4RIg",
    "outputId": "ed3f8d21-292f-47fd-a6f6-ced39ea592c5"
   },
   "outputs": [
    {
     "data": {
      "text/plain": [
       "((32, 4), (32, 4))"
      ]
     },
     "execution_count": 11,
     "metadata": {},
     "output_type": "execute_result"
    }
   ],
   "source": [
    "X_batch, y_batch = next(iterate_batches((X_train, y_train), 4))\n",
    "\n",
    "X_batch.shape, y_batch.shape\n"
   ]
  },
  {
   "cell_type": "code",
   "execution_count": null,
   "metadata": {
    "id": "NbxLYdFr5t43"
   },
   "outputs": [],
   "source": [
    "class LSTMTagger(nn.Module):\n",
    "    def __init__(self, vocab_size, tagset_size, word_emb_dim=100, lstm_hidden_dim=128, lstm_layers_count=1):\n",
    "        super().__init__()\n",
    "        \n",
    "        self.tagset_size = tagset_size\n",
    "        self.lstm_layers_count = lstm_layers_count\n",
    "        self.lstm_hidden_dim = lstm_hidden_dim\n",
    "        \n",
    "        self.embedding = nn.Embedding(vocab_size, word_emb_dim)\n",
    "        self.lstm = nn.LSTM(word_emb_dim, lstm_hidden_dim, lstm_layers_count)\n",
    "        self.fc = nn.Linear(lstm_hidden_dim, tagset_size)\n",
    "    \n",
    "    def forward(self, inputs):\n",
    "        embedded_inputs = self.embedding(inputs)\n",
    "        output, _ = self.lstm(embedded_inputs)\n",
    "        output = self.fc(output)\n",
    "        return output\n",
    "\n"
   ]
  },
  {
   "cell_type": "code",
   "execution_count": null,
   "metadata": {
    "id": "VSomkLUy6CDs"
   },
   "outputs": [],
   "source": [
    "X_batch, y_batch = torch.LongTensor(X_batch), torch.LongTensor(y_batch)"
   ]
  },
  {
   "cell_type": "code",
   "execution_count": null,
   "metadata": {
    "id": "V48LoBKg6KHs"
   },
   "outputs": [],
   "source": [
    "model = LSTMTagger(\n",
    "    vocab_size=len(word2ind),\n",
    "    tagset_size=len(tag2ind)\n",
    ")"
   ]
  },
  {
   "cell_type": "code",
   "execution_count": null,
   "metadata": {
    "colab": {
     "base_uri": "https://localhost:8080/"
    },
    "executionInfo": {
     "elapsed": 431,
     "status": "ok",
     "timestamp": 1682535161033,
     "user": {
      "displayName": "Yana Savchenko",
      "userId": "10647193167803909811"
     },
     "user_tz": -420
    },
    "id": "o04Ex1Bz6Q1T",
    "outputId": "da9d3346-c326-4945-f73a-30912f3df4ca"
   },
   "outputs": [
    {
     "data": {
      "text/plain": [
       "(5, 92)"
      ]
     },
     "execution_count": 15,
     "metadata": {},
     "output_type": "execute_result"
    }
   ],
   "source": [
    "logits = model(X_batch)\n",
    "\n",
    "def compute_accuracy(pred, target):\n",
    "    _, indices = torch.max(pred, -1)\n",
    "    num_total = torch.sum(target>0).item()\n",
    "    num_cor = torch.sum((indices == target)*(target>0)).item()\n",
    "    return num_cor, num_total\n",
    "\n",
    "compute_accuracy(logits, y_batch)"
   ]
  },
  {
   "cell_type": "code",
   "execution_count": null,
   "metadata": {
    "id": "cbH5AUDe6XRi"
   },
   "outputs": [],
   "source": [
    "loss = nn.CrossEntropyLoss()"
   ]
  },
  {
   "cell_type": "code",
   "execution_count": null,
   "metadata": {
    "colab": {
     "base_uri": "https://localhost:8080/"
    },
    "executionInfo": {
     "elapsed": 11,
     "status": "ok",
     "timestamp": 1682535197028,
     "user": {
      "displayName": "Yana Savchenko",
      "userId": "10647193167803909811"
     },
     "user_tz": -420
    },
    "id": "sk2xLCTk6ZwZ",
    "outputId": "cf2c013d-95a6-4dfd-b865-d170985de5ca"
   },
   "outputs": [
    {
     "data": {
      "text/plain": [
       "tensor(2.6305, grad_fn=<NllLossBackward0>)"
      ]
     },
     "execution_count": 17,
     "metadata": {},
     "output_type": "execute_result"
    }
   ],
   "source": [
    "loss(logits.reshape((-1,len(tag2ind))), y_batch.view(-1))"
   ]
  },
  {
   "cell_type": "code",
   "execution_count": null,
   "metadata": {
    "id": "Vkxef0KR6dAT"
   },
   "outputs": [],
   "source": [
    "import math\n",
    "from tqdm import tqdm\n",
    "\n",
    "\n",
    "def do_epoch(model, criterion, data, batch_size, optimizer=None, name=None):\n",
    "    epoch_loss = 0\n",
    "    correct_count = 0\n",
    "    sum_count = 0\n",
    "    \n",
    "    is_train = not optimizer is None\n",
    "    name = name or ''\n",
    "    model.train(is_train)\n",
    "    \n",
    "    batches_count = math.ceil(len(data[0]) / batch_size)\n",
    "    \n",
    "    with torch.autograd.set_grad_enabled(is_train):\n",
    "        with tqdm(total=batches_count) as progress_bar:\n",
    "            for i, (X_batch, y_batch) in enumerate(iterate_batches(data, batch_size)):\n",
    "                X_batch, y_batch = LongTensor(X_batch).cuda(), LongTensor(y_batch).cuda()\n",
    "                \n",
    "                logits = model(X_batch)\n",
    "                loss = criterion(logits.reshape((-1, len(tag2ind))), y_batch.view(-1))\n",
    "                epoch_loss += loss.item()\n",
    "                \n",
    "                if optimizer:\n",
    "                    optimizer.zero_grad()\n",
    "                    loss.backward()\n",
    "                    optimizer.step()\n",
    "\n",
    "                cur_correct_count, cur_sum_count = compute_accuracy(logits, y_batch)\n",
    "\n",
    "                correct_count += cur_correct_count\n",
    "                sum_count += cur_sum_count\n",
    "\n",
    "                progress_bar.update()\n",
    "                progress_bar.set_description('{:>5s} Loss = {:.5f}, Accuracy = {:.2%}'.format(\n",
    "                    name, loss.item(), cur_correct_count / cur_sum_count)\n",
    "                )\n",
    "                \n",
    "            progress_bar.set_description('{:>5s} Loss = {:.5f}, Accuracy = {:.2%}'.format(\n",
    "                name, epoch_loss / batches_count, correct_count / sum_count)\n",
    "            )\n",
    "\n",
    "    return epoch_loss / batches_count, correct_count / sum_count\n",
    "\n",
    "\n",
    "def fit(model, criterion, optimizer, train_data, epochs_count=1, batch_size=32,\n",
    "        val_data=None, val_batch_size=None):\n",
    "        \n",
    "    if not val_data is None and val_batch_size is None:\n",
    "        val_batch_size = batch_size\n",
    "        \n",
    "    for epoch in range(epochs_count):\n",
    "        name_prefix = '[{} / {}] '.format(epoch + 1, epochs_count)\n",
    "        train_loss, train_acc = do_epoch(model, criterion, train_data, batch_size, optimizer, name_prefix + 'Train:')\n",
    "        \n",
    "        if not val_data is None:\n",
    "            val_loss, val_acc = do_epoch(model, criterion, val_data, val_batch_size, None, name_prefix + '  Val:')"
   ]
  },
  {
   "cell_type": "code",
   "execution_count": null,
   "metadata": {
    "colab": {
     "base_uri": "https://localhost:8080/"
    },
    "executionInfo": {
     "elapsed": 56881,
     "status": "ok",
     "timestamp": 1682535281663,
     "user": {
      "displayName": "Yana Savchenko",
      "userId": "10647193167803909811"
     },
     "user_tz": -420
    },
    "id": "8pxEoDmm6dEz",
    "outputId": "6e1e623d-bab7-45b3-ebef-82b020d51363"
   },
   "outputs": [
    {
     "name": "stderr",
     "output_type": "stream",
     "text": [
      "[1 / 10] Train: Loss = 0.67815, Accuracy = 78.60%: 100%|██████████| 572/572 [00:05<00:00, 100.31it/s]\n",
      "[1 / 10]   Val: Loss = 0.35335, Accuracy = 88.20%: 100%|██████████| 13/13 [00:00<00:00, 74.23it/s]\n",
      "[2 / 10] Train: Loss = 0.27439, Accuracy = 90.91%: 100%|██████████| 572/572 [00:04<00:00, 125.11it/s]\n",
      "[2 / 10]   Val: Loss = 0.24027, Accuracy = 91.67%: 100%|██████████| 13/13 [00:00<00:00, 66.49it/s]\n",
      "[3 / 10] Train: Loss = 0.18628, Accuracy = 93.88%: 100%|██████████| 572/572 [00:04<00:00, 123.79it/s]\n",
      "[3 / 10]   Val: Loss = 0.19730, Accuracy = 93.15%: 100%|██████████| 13/13 [00:00<00:00, 72.69it/s]\n",
      "[4 / 10] Train: Loss = 0.13947, Accuracy = 95.37%: 100%|██████████| 572/572 [00:04<00:00, 127.39it/s]\n",
      "[4 / 10]   Val: Loss = 0.18057, Accuracy = 93.77%: 100%|██████████| 13/13 [00:00<00:00, 73.48it/s]\n",
      "[5 / 10] Train: Loss = 0.10897, Accuracy = 96.36%: 100%|██████████| 572/572 [00:04<00:00, 122.86it/s]\n",
      "[5 / 10]   Val: Loss = 0.17914, Accuracy = 93.97%: 100%|██████████| 13/13 [00:00<00:00, 62.48it/s]\n",
      "[6 / 10] Train: Loss = 0.08688, Accuracy = 97.09%: 100%|██████████| 572/572 [00:04<00:00, 125.12it/s]\n",
      "[6 / 10]   Val: Loss = 0.17472, Accuracy = 94.24%: 100%|██████████| 13/13 [00:00<00:00, 75.64it/s]\n",
      "[7 / 10] Train: Loss = 0.06988, Accuracy = 97.65%: 100%|██████████| 572/572 [00:04<00:00, 127.46it/s]\n",
      "[7 / 10]   Val: Loss = 0.17999, Accuracy = 94.38%: 100%|██████████| 13/13 [00:00<00:00, 77.59it/s]\n",
      "[8 / 10] Train: Loss = 0.05654, Accuracy = 98.11%: 100%|██████████| 572/572 [00:04<00:00, 125.59it/s]\n",
      "[8 / 10]   Val: Loss = 0.20173, Accuracy = 94.24%: 100%|██████████| 13/13 [00:00<00:00, 76.58it/s]\n",
      "[9 / 10] Train: Loss = 0.04627, Accuracy = 98.43%: 100%|██████████| 572/572 [00:04<00:00, 124.83it/s]\n",
      "[9 / 10]   Val: Loss = 0.19181, Accuracy = 94.47%: 100%|██████████| 13/13 [00:00<00:00, 77.75it/s]\n",
      "[10 / 10] Train: Loss = 0.03778, Accuracy = 98.74%: 100%|██████████| 572/572 [00:04<00:00, 126.72it/s]\n",
      "[10 / 10]   Val: Loss = 0.22549, Accuracy = 94.28%: 100%|██████████| 13/13 [00:00<00:00, 74.72it/s]\n"
     ]
    }
   ],
   "source": [
    "model = LSTMTagger(\n",
    "    vocab_size=len(word2ind),\n",
    "    tagset_size=len(tag2ind)\n",
    ").cuda()\n",
    "\n",
    "criterion = nn.CrossEntropyLoss(ignore_index=0).cuda()\n",
    "optimizer = optim.Adam(model.parameters())\n",
    "\n",
    "fit(model, criterion, optimizer, train_data=(X_train, y_train), epochs_count=10,\n",
    "    batch_size=64, val_data=(X_val, y_val), val_batch_size=512)"
   ]
  },
  {
   "cell_type": "markdown",
   "metadata": {
    "id": "pJwThBWdKO4f"
   },
   "source": [
    "## Seq2Seq"
   ]
  },
  {
   "cell_type": "markdown",
   "metadata": {
    "id": "Mph_D7-i3ow7"
   },
   "source": [
    "Самой популярной задачей seq2seq является машинный перевод.\n",
    "Пусть у нас есть вход - последовательность $x_1,x_2,...,x_m$ - и выход - последовательность $y_1,y_2,...,y_n$. Задачу перевода можно представить как поиск последовательности $y_i$, такой, что она является наиболее вероятной при заданной последовательности $x_i$:\n",
    "\n",
    "$$y^* = \\underset{y}{argmax}\\ p(y|x) $$"
   ]
  },
  {
   "cell_type": "markdown",
   "metadata": {
    "id": "Urk2hAcgKO7K"
   },
   "source": [
    "Задача перевода:\n",
    "\n",
    "![](images/14.gif)\n",
    "\n",
    "Перевод с точки зрения человека (слева) и нейросети (справа):\n",
    "\n",
    "![](images/15.png)"
   ]
  },
  {
   "cell_type": "markdown",
   "metadata": {
    "id": "MKOcAdgAKO91"
   },
   "source": [
    "Состоит традиционно из энкодера и декодера\n",
    "- Энкодер считывает входную последовательность и получает на выходе вектор\n",
    "- Декодер декодирует этот вектор в последовательность\n",
    "- Можем в качестве энкодера и декодера выбрать не просто vanilla RNN, но и, например, LSTM\n",
    "- У RNN или LSTM может быть несколько слоёв\n",
    "\n",
    "![](images/16.png)"
   ]
  },
  {
   "cell_type": "code",
   "execution_count": 1,
   "metadata": {
    "id": "8vrWW8WoKJ5c"
   },
   "outputs": [],
   "source": [
    "from IPython.display import HTML"
   ]
  },
  {
   "cell_type": "code",
   "execution_count": 14,
   "metadata": {},
   "outputs": [
    {
     "data": {
      "text/html": [
       "\n",
       "<video width=\"560\" height=\"315\" controls>\n",
       "  <source src=\"images/vid1.mp4\" type=\"video/mp4\">\n",
       "</video>\n"
      ],
      "text/plain": [
       "<IPython.core.display.HTML object>"
      ]
     },
     "execution_count": 14,
     "metadata": {},
     "output_type": "execute_result"
    }
   ],
   "source": [
    "HTML(\"\"\"\n",
    "<video width=\"560\" height=\"315\" controls>\n",
    "  <source src=\"images/vid1.mp4\" type=\"video/mp4\">\n",
    "</video>\n",
    "\"\"\")"
   ]
  },
  {
   "cell_type": "code",
   "execution_count": 17,
   "metadata": {},
   "outputs": [
    {
     "data": {
      "text/html": [
       "\n",
       "<video width=\"560\" height=\"315\" controls>\n",
       "  <source src=\"images/vid2.mp4\" type=\"video/mp4\">\n",
       "</video>\n"
      ],
      "text/plain": [
       "<IPython.core.display.HTML object>"
      ]
     },
     "execution_count": 17,
     "metadata": {},
     "output_type": "execute_result"
    }
   ],
   "source": [
    "HTML(\"\"\"\n",
    "<video width=\"560\" height=\"315\" controls>\n",
    "  <source src=\"images/vid2.mp4\" type=\"video/mp4\">\n",
    "</video>\n",
    "\"\"\")"
   ]
  },
  {
   "cell_type": "markdown",
   "metadata": {
    "id": "7JqTGuyYKYQC"
   },
   "source": [
    "![](images/17.png)\n",
    "\n",
    "*Сеть для задачи machine translation, encoder и decoder состоят из RNN*\n",
    "\n",
    "*Note: на этот и следующие рисунки нужно смотреть слева направо. Можно представить себе воображаемую ось x, соответствующую течению времени (time steps)*"
   ]
  },
  {
   "cell_type": "markdown",
   "metadata": {
    "id": "HELUrdRnSCX0"
   },
   "source": [
    "### Обучение"
   ]
  },
  {
   "cell_type": "markdown",
   "metadata": {},
   "source": [
    "![](images/18.png)\n",
    "\n",
    "*Сеть для задачи machine translation, энкодер и декодер состоят из нескольких слоев RNN*"
   ]
  },
  {
   "cell_type": "markdown",
   "metadata": {
    "id": "DhEfzIJ1OYVG"
   },
   "source": [
    "Задача обучения - максимизировать параметры, которые позволяют получить последовательность $y_i$ при заданных $x_i$. Используем обычную кросс-энтропию:\n",
    "\n",
    "$$𝑳(p, p^*) = -log(p_{y_t}) = -log(p(y_t|y_{<t}, x)$$\n",
    "\n"
   ]
  },
  {
   "cell_type": "code",
   "execution_count": 19,
   "metadata": {
    "colab": {
     "base_uri": "https://localhost:8080/",
     "height": 336
    },
    "executionInfo": {
     "elapsed": 931,
     "status": "ok",
     "timestamp": 1682440693939,
     "user": {
      "displayName": "Yana Savchenko",
      "userId": "10647193167803909811"
     },
     "user_tz": -420
    },
    "id": "EwuLIh-LR0eG",
    "outputId": "7d2ec130-741b-4038-81f5-4ae64d4fbf4b"
   },
   "outputs": [
    {
     "data": {
      "text/html": [
       "\n",
       "<video width=\"560\" height=\"315\" controls>\n",
       "  <source src=\"images/vid4.mp4\" type=\"video/mp4\">\n",
       "</video>\n"
      ],
      "text/plain": [
       "<IPython.core.display.HTML object>"
      ]
     },
     "execution_count": 19,
     "metadata": {},
     "output_type": "execute_result"
    }
   ],
   "source": [
    "HTML(\"\"\"\n",
    "<video width=\"560\" height=\"315\" controls>\n",
    "  <source src=\"images/vid4.mp4\" type=\"video/mp4\">\n",
    "</video>\n",
    "\"\"\")"
   ]
  },
  {
   "cell_type": "markdown",
   "metadata": {
    "id": "2sKiCQqdSKMV"
   },
   "source": [
    "### Inference"
   ]
  },
  {
   "cell_type": "markdown",
   "metadata": {
    "id": "Mj07jqxvSMBn"
   },
   "source": [
    "- Greedy Decoding: на каждом шаге выбирать наиболее вероятный токен\n",
    "- Beam Search: следить за несколькими наиболее вероятными гипотезами"
   ]
  },
  {
   "cell_type": "code",
   "execution_count": 18,
   "metadata": {
    "colab": {
     "base_uri": "https://localhost:8080/"
    },
    "executionInfo": {
     "elapsed": 22,
     "status": "ok",
     "timestamp": 1682441742308,
     "user": {
      "displayName": "Yana Savchenko",
      "userId": "10647193167803909811"
     },
     "user_tz": -420
    },
    "id": "No2BEjp1VzZk",
    "outputId": "aa4f9ae9-ceeb-444b-b903-d3239511d236"
   },
   "outputs": [
    {
     "data": {
      "text/html": [
       "\n",
       "<video width=\"560\" height=\"315\" controls>\n",
       "  <source src=\"images/vid3.mp4\" type=\"video/mp4\">\n",
       "</video>\n"
      ],
      "text/plain": [
       "<IPython.core.display.HTML object>"
      ]
     },
     "execution_count": 18,
     "metadata": {},
     "output_type": "execute_result"
    }
   ],
   "source": [
    "HTML(\"\"\"\n",
    "<video width=\"560\" height=\"315\" controls>\n",
    "  <source src=\"images/vid3.mp4\" type=\"video/mp4\">\n",
    "</video>\n",
    "\"\"\")"
   ]
  },
  {
   "cell_type": "markdown",
   "metadata": {
    "id": "zuJNhQKGSMHi"
   },
   "source": [
    "## Attention"
   ]
  },
  {
   "cell_type": "markdown",
   "metadata": {
    "id": "Sr5EGgNWOYX-"
   },
   "source": [
    "У нашей сети, состоящей из энкодера, который выдаёт один вектор, и декодера, есть \"узкое место\" - вектор, который получается на выходе декодера:\n",
    "\n",
    "- Энкодеру сложно информацию обо всём предложении уместить в один вектор\n",
    "- Для декодера на каждом time step скорее важна конкретная часть предложения, а не весь вектор\n",
    "\n",
    "Для того, чтобы бороться с этой проблемой, придумали механизм внимания, или attention (появился в статье [*Bahdanau et al*](https://arxiv.org/pdf/1409.0473.pdf))\n",
    "\n",
    "![](images/19.png)"
   ]
  },
  {
   "cell_type": "markdown",
   "metadata": {
    "id": "nm5_IejbOYaw"
   },
   "source": [
    "Теперь у декодера появился доступ ко всем выходам $s_i$ энкодера, а не только к последнему $s_m$\n",
    "\n",
    "На рисунке ниже: на шаге (4) декодера нам надо предсказать слово \"cat\". Наш механизм внимания должен понять, что вектор (3) из исходной последовательности $s_3$, который соответствует слову \"котя\", наиболее важен для декодера.\n",
    "\n",
    "На каждом шаге декодера механизм внимания:\n",
    "\n",
    "1. Получает свои входы. Это состояние декодера $h_t$ и все состояния энкодера $s_1,...,s_m$\n",
    "2. Считает attention scores для пар $s_i, h_t$, т.е. $score(h_t, s_i)$\n",
    "3. Считает attention weights - просто применяет софтмакс к attention scores\n",
    "4. Считает выход - просто состояния энкодера $s_i$, перевзвешенные с коэффициентами, равными attention weights\n",
    "\n",
    "![](images/20.png)\n",
    "\n",
    "![](images/21.png)"
   ]
  },
  {
   "cell_type": "markdown",
   "metadata": {
    "id": "ITbb63xrLdpP"
   },
   "source": [
    "Как посчитать функцию внимания от двух векторов одинакового размера? Есть несколько популярных способов:\n",
    "\n",
    "1. Скалярное произведение\n",
    "2. Билинейная фукция (Luong attention, ~ как скалярное произведение, только посередине матрица)\n",
    "3. Multi-layer perceptron (Bahdanau attention) - метод, предложенный в оригинальной статье\n",
    "\n",
    "![](images/22.png)"
   ]
  },
  {
   "cell_type": "markdown",
   "metadata": {
    "id": "om5nyDtrLdxU"
   },
   "source": [
    "### Seq2seq + Attention\n",
    "\n",
    "Есть разные подходы к тому, как добавлять attention в задачу seq2seq.\n",
    "Но всегда идея одна и та же: декодер теперь знает не только о финальном выходе энкодера, но и обо всех его промежуточных состояниях. Чтобы выбрать, какое именно состояние энкодера более важно, на каждом time step декодера используется attention function. С помощью неё рассчитываются коэффициенты во взвешенной сумме и получается контекстный вектор $c_0$. \n",
    "\n",
    "\n"
   ]
  },
  {
   "cell_type": "markdown",
   "metadata": {
    "id": "7zMgDhqRLd1I"
   },
   "source": [
    "![](images/23.png)\n",
    "\n",
    "*Bandahau model*\n",
    "\n",
    "![](images/24.png)\n",
    "\n",
    "*Luong model*\n",
    "\n",
    "[Видео про seq2seq+attention](https://www.youtube.com/watch?v=B3uws4cLcFw)\n"
   ]
  },
  {
   "cell_type": "code",
   "execution_count": null,
   "metadata": {},
   "outputs": [],
   "source": []
  }
 ],
 "metadata": {
  "accelerator": "GPU",
  "colab": {
   "provenance": []
  },
  "gpuClass": "standard",
  "kernelspec": {
   "display_name": "DLSeminars0",
   "language": "python",
   "name": "dl_seminars_0"
  },
  "language_info": {
   "codemirror_mode": {
    "name": "ipython",
    "version": 3
   },
   "file_extension": ".py",
   "mimetype": "text/x-python",
   "name": "python",
   "nbconvert_exporter": "python",
   "pygments_lexer": "ipython3",
   "version": "3.9.16"
  }
 },
 "nbformat": 4,
 "nbformat_minor": 1
}
