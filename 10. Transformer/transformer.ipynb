{
 "cells": [
  {
   "cell_type": "markdown",
   "metadata": {
    "id": "UHCsXyaWeaHv"
   },
   "source": [
    "# Семинар 10. Трансформер 🤖 🦾\n",
    "\n",
    "- Был представлен в статье [Attention is all you need](https://papers.nips.cc/paper/7181-attention-is-all-you-need.pdf) в 2017 г.\n",
    "- Seq2seq модель (состоит из энкодера и декодера)\n",
    "- Позволяет добиться более высокого качества перевода и быстрее обучается\n",
    "- В модели нет свёрток и реккурентностей, в основе всего лежит механизм внимания и fc-слои\n",
    "- Лучше, чем RNN, обрабатывают текст большого размера\n",
    "- RNN плохо параллелится из-за реккурентности, из-за этого сложно обучать\n",
    "\n",
    "На данный момент Трансформеры (с вариациями) де-факто являются стандартом для решения задач в NLP\n",
    "\n",
    "3 главные части, благодаря которым Трансформер так хорошо работает:\n",
    "- Positional Encoding\n",
    "- Attention\n",
    "- Self-Attention\n",
    "\n",
    "Дополнительные видео для ознакомления с темой:\n",
    "\n",
    "[Видео про Transformer](https://www.youtube.com/watch?v=TQQlZhbC5ps&list=PLTl9hO2Oobd_bzXUpzKMKA3liq2kj6LfE)\n",
    "\n",
    "[Видео Transformer: Attention layers](https://www.youtube.com/watch?v=FC8PziPmxnQ)\n",
    "\n",
    "[Видео Transfrormer: Building a Transformer](https://www.youtube.com/watch?v=J4H6A4-dvhE)"
   ]
  },
  {
   "cell_type": "markdown",
   "metadata": {
    "id": "mX1rKkWzeq_J"
   },
   "source": [
    "## Attention. Повторение"
   ]
  },
  {
   "cell_type": "markdown",
   "metadata": {
    "id": "CFv4ZCHsgdRf"
   },
   "source": [
    "![](images/1.png)\n",
    "\n",
    "![](images/2.png)"
   ]
  },
  {
   "cell_type": "markdown",
   "metadata": {},
   "source": [
    "Иллюстрация того, на каких словах акцентируется attention при переводе:\n",
    "\n",
    "![](images/3.png)"
   ]
  },
  {
   "cell_type": "markdown",
   "metadata": {
    "id": "wA1YQgoferEP"
   },
   "source": [
    "## Self-attention для RNN"
   ]
  },
  {
   "cell_type": "markdown",
   "metadata": {
    "id": "ocX29mAzwm-B"
   },
   "source": [
    "Ранее мы видели, что механизм внимания можно применить к Seq2seq моделям. Но на этом применение внимания не ограничивается. Например, можно применить внимание к обычной RNN модели: на шаге 4 кроме hidden-вектора еще используется вектор контекста $c_3$, который получен применением внимания к 3 предыдущим выходам RNN.\n",
    "Когда добавляется self-attention, RNN меньше \"забывает\" предыдущую информацию\n",
    "\n",
    "![](images/4.png)"
   ]
  },
  {
   "cell_type": "markdown",
   "metadata": {
    "id": "AMrPIfsT6_r_"
   },
   "source": [
    "# Transformer"
   ]
  },
  {
   "cell_type": "markdown",
   "metadata": {
    "id": "A3ExjKFJ6_wo"
   },
   "source": [
    "- Мы использовали механизм внимания в Seq2Seq-моделях для задачи перевода\n",
    "- Мы также видели выше, что можно применять внимание для обычных RNN (self-attention)\n",
    "- Можем ли мы вообще убрать RNN?\n",
    "\n",
    "![](images/5.png)"
   ]
  },
  {
   "cell_type": "markdown",
   "metadata": {
    "id": "JijVRIzDVljO"
   },
   "source": [
    "## Attention layer"
   ]
  },
  {
   "cell_type": "markdown",
   "metadata": {
    "id": "JmOH1QUZVlm7"
   },
   "source": [
    "Входы энкодера: $x_1, ..., x_m$\n",
    "\n",
    "Входы декодера: $x^\\prime_1, ..., x^\\prime_t$\n",
    "\n",
    "На вход вниманию теперь будут приходить не внутрение состояния экнодера и декодера, а просто их входы.\n",
    "\n",
    "**Работа внимания**\n",
    "\n",
    "Обозначения: $W_Q, W_K, W_V$ - это обучаемые матрицы; key и value основаны на входах энкодера $x_1, ..., x_m$, query на входах декодера $x^\\prime_1, ..., x^\\prime_t$\n",
    "\n",
    "- query: $q_{:j} = W_Q \\cdotp x^\\prime_j$ (to match others)\n",
    "- key: $k_{:i} = W_K · x_i$ (to be matched)\n",
    "- value: $v_{:i} = W_V · x_i$ (to be weighted averaged)\n",
    "\n",
    "Из столбцов $k_{:i}$ составляется матрица $K$, а затем коэффициенты взвешенной суммы считаются по формуле: $\\alpha_{:j} = Softmax(K^Tq_{:j}) ⊂ ℝ^m$\n",
    "\n",
    "context vector: $c_j = \\alpha_{1j} v_{:1} + ... + \\alpha_{mj} v_{:m}$ (всего $c_1, ..., c_t$)\n",
    "\n",
    "![](images/6.png)\n",
    "\n",
    "[Откуда взялись Key, Query, Value в Трансформерах](https://telegra.ph/Otkuda-vzyalis-Query-Key-Value-v-transformerah-12-20)"
   ]
  },
  {
   "cell_type": "markdown",
   "metadata": {
    "id": "ECads3yOAOat"
   },
   "source": [
    "## Attention layer for machine translation\n",
    "\n"
   ]
  },
  {
   "cell_type": "markdown",
   "metadata": {
    "id": "PoEhGxTkBI2q"
   },
   "source": [
    "Как мы можем использовать описанный выше attention для задачи перевода? Попробуем порассуждать.\n",
    "\n",
    "Пусть наша задача - переводить с английского языка на немецкий. Мы хотим сгенерировать 3е слово на немецком. Наш контекстный вектор $c_{:2}$ \"знает\" обо всём предложении на английском языке и только о 2м слове на немецком. Есть ощущение, что этого недостаточно - мы ничего не знаем про первое слово в результирующем предложении:\n",
    "\n",
    "![](images/7.png)\n",
    "\n",
    "Раньше в RNN у нас в декодере был вектор, который обновлялся на каждом time step'е, поэтому мы не теряли информацию о уже переведённой части предложения. Сейчас у нас такого вектора нет, но мы можем вспомнить про self-attention для RNN и использовать этот слой, чтобы не терять информацию"
   ]
  },
  {
   "cell_type": "markdown",
   "metadata": {
    "id": "9LXSa672gelQ"
   },
   "source": [
    "## Self-Attention layer"
   ]
  },
  {
   "cell_type": "markdown",
   "metadata": {
    "id": "tUYY47RF5nH1"
   },
   "source": [
    "Мы можем использовать self-attention, как и в примере с RNN. В таком случае коэффициентов $c_1, ..., c_m$ у нас уже будет столько же, как и длина нашей входной последовательности. Здесь, как и в обычном attention, у нас тоже есть обучаемые $W_Q, W_K, W_V$. И key, и value, и query  основаны на входах $x_1, ..., x_m$"
   ]
  },
  {
   "cell_type": "markdown",
   "metadata": {
    "id": "GtDE30pA5nLE"
   },
   "source": [
    "## Multi-head attention layer"
   ]
  },
  {
   "cell_type": "markdown",
   "metadata": {
    "id": "yxE9I3MJ5nRB"
   },
   "source": [
    "### Multi-head self-attention\n",
    "\n",
    "В обычном слое self-attention у нас три матрицы: $W_Q, W_K, W_V$. А сейчас мы хотим, чтобы у нас было $l$ независимых self-attention. Идея в том, что каждая из этих голов учится находить скрытую зависимость между векторами, и если голов много, то они могут обучиться находить разные зависимости (грамматическую зависимость, эмоциональную окраску, смысловую и т.п.). Получается, всего у нас будет $3l$ матриц в таком multi-head self-attention слое. Выходы single-head attention'ов (предположим, они имеют размерность $d\\times 1$) мы конкатенируем (получив векторы размера $ld\\times 1$)\n",
    "\n",
    "### Multi-head attention\n",
    "\n",
    "То же самое, что описано для multi-head self-attention, можно по аналогии проделать для обычного atention"
   ]
  },
  {
   "cell_type": "markdown",
   "metadata": {
    "id": "J_Z1X4T9QiOy"
   },
   "source": [
    "# Building Transformer"
   ]
  },
  {
   "cell_type": "markdown",
   "metadata": {
    "id": "mGnsGTuwQogr"
   },
   "source": [
    "- Добавляем к multihead self-attention обычный fc-слой (на рисунке ниже у каждого из `Dense` одинаковые между собой параметры)\n",
    "- Можем стакать такие слои друг на друга\n",
    "\n",
    "![](images/8.png)\n",
    "\n",
    "![](images/9.png)"
   ]
  },
  {
   "cell_type": "markdown",
   "metadata": {
    "id": "WcoGbAnKWsYu"
   },
   "source": [
    "## Encoder\n"
   ]
  },
  {
   "cell_type": "markdown",
   "metadata": {
    "id": "iSh9E2FmctV0"
   },
   "source": [
    "- На вход энкодеру приходит матрица размера $512\\times m$, где $512$ - это размерность эмбеддингов (может быть другим числом), а $m$ - это длина последовательности\n",
    "- Блоки стакаются друг на друга, между ними есть skip connection'ы\n",
    "- Веса блоков не зависимы друг от друга.\n",
    "- Всего 6 блоков, каждый $≃$ multihead self-attention (8 голов) + dense\n",
    "\n",
    "![](images/10.png)"
   ]
  },
  {
   "cell_type": "markdown",
   "metadata": {
    "id": "NRb2pmLw5ndT"
   },
   "source": [
    "## Decoder"
   ]
  },
  {
   "cell_type": "markdown",
   "metadata": {
    "id": "NKody13HdBVd"
   },
   "source": [
    "- Один блок декодера $≃$ multi-head self-attention (8 голов) + multi-head attention (между энкодером и декодером, тоже 8 голов) + dense\n",
    "- Главное отличие в том, что декодер для внимания использует только те $x^\\prime_i$, что уже сгенерированы. Например, для предсказания 3-го слова мы делаем self-attention только с векторами $x^\\prime_1, x^\\prime_2, x^\\prime_3$. В реальной жизни, когда сеть уже натренирована и мы хотим её использовать, следующих слов у нас просто нет. Чтобы сеть чему-то училась, мы симулируем отсутствие следующих векторов, закрывая их маской (поэтому self-attention для декодера называют masked).\n",
    "\n",
    "![](images/11.png)\n",
    "\n",
    "![](images/12.png)"
   ]
  },
  {
   "cell_type": "markdown",
   "metadata": {
    "id": "MsP_Kd9q5nmX"
   },
   "source": [
    "### Собираем Трансформер 🤖 🤣"
   ]
  },
  {
   "cell_type": "markdown",
   "metadata": {
    "id": "7Fj4mbwtex80"
   },
   "source": [
    "Слева - энкодер, справа - декодер. Выходы энкодера прокидываются в декодер для того, чтобы сделать с ними attention\n",
    "\n",
    "![](images/13.png)\n",
    "\n",
    "![](images/14.png)"
   ]
  },
  {
   "cell_type": "markdown",
   "metadata": {
    "id": "sZVSbH6Wq5_6"
   },
   "source": [
    "### Другие особенности модели"
   ]
  },
  {
   "cell_type": "markdown",
   "metadata": {
    "id": "cM0tIZu2rCct"
   },
   "source": [
    "- Feed Forward layer\n",
    "  - Два линейных слоя с нелинейностью (`ReLU`) между ними\n",
    "  - Дополнительно обрабатывает информацию, полученную при помощи внимания\n",
    "- Residual connections\n",
    "  - Обозначена на схеме как `Add` в `Add&Norm`\n",
    "- Layer Normalization\n",
    "  - Делает сходимость стабильнее и иногда повышает качество\n",
    "  ![](images/15.png)\n",
    "- Positional Encoding\n",
    "  Мы убрали реккурентность, и теперь у нас Трансформер не знает порядок входных токенов. Например, self-attention вообще инвариантен к перестановкам токенов. Поэтому у нас есть два набора эмбеддингов: для токенов (как обычно) и для позиций - которые мы складываем.\n",
    "  ![](images/16.png)"
   ]
  },
  {
   "cell_type": "markdown",
   "metadata": {
    "id": "MLr26yr7h44l"
   },
   "source": [
    "### Positional Encoding"
   ]
  },
  {
   "cell_type": "markdown",
   "metadata": {
    "id": "o0HBDuSZ9XTh"
   },
   "source": [
    "В RNN мы подаём слова в сеть друг за другом на каждом time step'е. В Трансформере у нас нет time step'ов, мы подаём все слова, которые есть, вместе разом, и нам надо как-то сохранить информацию о позиции слова в предложении. Для этого к вектору слова прибавляется positional embedding, в котором скрыта информация о позиции. Хочется понять, каким образом этот positional embedding делать.\n",
    "\n",
    "**Попытка №1**: кодировать int'ом позицию слова\n",
    "\n",
    "![](images/17.png)\n",
    "\n",
    "Плюсы:\n",
    "- Простой и понятный способ\n",
    "\n",
    "Минусы:\n",
    "- Для длинной последовательности числа становятся огромные, а мы помним, что мы прибавляем их к векторам. Градиенты взрываются, ничего не обучается "
   ]
  },
  {
   "cell_type": "markdown",
   "metadata": {
    "id": "T8BfwdW898uI"
   },
   "source": [
    "**Попытка №2**: кодируем первое слово нулём, последнее - единичкой, а остальные пересчитываем линейно \n",
    "\n",
    "![](images/18.png)\n",
    "\n",
    "Плюсы: градиенты не взрываются\n",
    "\n",
    "Минусы: теперь энкодинг зависит от длины последовательности. Например, в предложениях \"Мама мыла\" и \"Мама мыла раму\" для первых двух слов будет разный positional embedding. Это может сбивать с толку сетку, мы не хотим такого"
   ]
  },
  {
   "cell_type": "markdown",
   "metadata": {
    "id": "X8sU6peRh47S"
   },
   "source": [
    "**Попытка №3**: способ, который используется в классическом Трансформере\n",
    "\n",
    "Как мы уже обсуждали, первый способ с кодированием позиции int'ом был бы идеальным, если бы не взрывались градиенты из-за больших чисел. Однако есть способ закодировать последовательность числами не больше единицы - это перевести номер позиции в двоичную систему. По сути, мы это и делаем, но только в типе данных float:\n",
    "\n",
    "![](images/20.png)\n",
    "\n",
    "На рисунке выше видно, что каждый столбец в записи двоичного числа (красный, синий и т.д.) меняет 0 и 1 с какой-то своей периодичностью. Можно представить себе, что каждому столбцу соответствует своя синусоида - например, 0 будет обозначать те моменты времени, когда график синуса выше нуля, а 1 - когда меньше.\n",
    "\n",
    "Энкодинг позиции в Трансформере, основанный на синусоидальных функциях, можно описать вот такой картинкой (см. ниже). Энкодинг зависит не только от позиции слова в предложении *position*, но ещё и от координаты в эмбеддинге *depth* (если у эмбеддинга размерность 512, то для каждой из 512 будет как бы своя синусоидальная волна, как в картинке с разрядами двоичного числа). В результате получается периодичная структура:\n",
    "\n",
    "![](images/21.png)\n",
    "\n",
    "На самом деле используются не синусы, а синусы и косинусы. Объясняется это тем, что в таком случае получается выражать $\\mbox{PE}_{pos, j + k}$ линейно выражается через $\\mbox{PE}_{pos, j}$ благодаря свойству $sin(j+k) = sin(j)cos(k) + cos(j)sin(k)$\n",
    "\n",
    "Введём обозначения: $pos$ - это позиция токена, $i$ - это индекс в эмбеддинге, $d_{model}$ - размерность эмбеддинга. Тогда формула для positional embedding будет зависеть от чётности позиции:\n",
    "\n",
    "  $$\\mbox{PE}_{pos, 2i}=\\sin(pos/10000^{2i/d_{model}})$$\n",
    "  $$\\mbox{PE}_{pos, 2i+1}=\\cos(pos/10000^{2i/d_{model}})$$\n",
    "  \n",
    "![](images/19.png)"
   ]
  },
  {
   "cell_type": "markdown",
   "metadata": {
    "id": "9AwCSai89XWM"
   },
   "source": [
    "[Пост про positional encoding](https://kazemnejad.com/blog/transformer_architecture_positional_encoding/)\n",
    "\n",
    "Примечание: positional encoding можно сделать обучаемым"
   ]
  },
  {
   "cell_type": "code",
   "execution_count": null,
   "metadata": {},
   "outputs": [],
   "source": []
  }
 ],
 "metadata": {
  "accelerator": "GPU",
  "colab": {
   "provenance": []
  },
  "gpuClass": "standard",
  "kernelspec": {
   "display_name": "DLSeminars0",
   "language": "python",
   "name": "dl_seminars_0"
  },
  "language_info": {
   "codemirror_mode": {
    "name": "ipython",
    "version": 3
   },
   "file_extension": ".py",
   "mimetype": "text/x-python",
   "name": "python",
   "nbconvert_exporter": "python",
   "pygments_lexer": "ipython3",
   "version": "3.9.16"
  }
 },
 "nbformat": 4,
 "nbformat_minor": 1
}
