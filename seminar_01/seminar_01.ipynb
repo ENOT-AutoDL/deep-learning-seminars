{
 "cells": [
  {
   "cell_type": "markdown",
   "metadata": {
    "id": "X_2Xykq36qc4"
   },
   "source": [
    "# Семинар 2. Логистическая регрессия. Классификация полносвязной сетью на MNIST 🦾\n",
    "\n",
    "# Сегодня на занятии:\n",
    "- Логистическая регрессия: повторение и закрепление лекции\n",
    "- Логистическая регрессия. Пример\n",
    "- Полносвязная нейронная сеть\n",
    "- Классификация на датасете MNIST\n",
    "- Обратное распространение ошибки"
   ]
  },
  {
   "cell_type": "markdown",
   "metadata": {
    "id": "cc_5lnKOujqV"
   },
   "source": [
    "# Логистическая регрессия: повторение и закрепление лекции"
   ]
  },
  {
   "cell_type": "markdown",
   "metadata": {
    "id": "2GcBHGVU3L7l"
   },
   "source": [
    "\n",
    "Предположим, наши данные можно разделить прямой (рассмотрим простой случай). Мы хотим обучить линейную модель, которая будет своими параметрами описывать разделяющую плоскость между классами. И тогда те точки, которые окажутся сверху, будут принадлежать классу 1, а те, что снизу - классу 0:\n",
    "\n",
    "$$y = sign(Wx)$$\n",
    "\n",
    "![](images/0.png)\n",
    "\n",
    "*Разделяющая гиперплоскость между классами*\n",
    "\n",
    "Исходное уравнение:\n",
    "\n",
    "$$y = Wx$$\n",
    "\n",
    "Преобразуем левую часть, чтобы получить функцию вероятности, которая будет давать число из $ℝ$:\n",
    "\n",
    "$$ln\\frac{p}{1-p} = Wx$$\n",
    "\n",
    "Величина $ln\\frac{p}{1-p}$ еще назвается логитом\n",
    "\n",
    "Сигмоида:\n",
    "\n",
    "$$σ(y) = \\frac{1}{1+e^{-y}}$$\n",
    "\n",
    "В итоге формула для вероятности бинарной классификации:\n",
    "\n",
    "$$p(x) = \\frac{1}{1+e^{-Wx}} = σ(Wx)$$\n",
    "\n",
    "Как теперь нам научиться оптимизировать веса $W$? Применим метод максимального правдоподобия для распределения Бернулли:\n",
    "\n",
    "![](images/1.png)\n",
    "\n",
    "Чтобы получить функцию потерь, которую надо минимизировать, добавим знак минус к функции правдоподобия (которую максимизируют):\n",
    "\n",
    "$$L(W, x, y) = - ∑_i(y_i log(\\sigma(Wx_i)) + (1-y_i) log(1 - \\sigma(Wx_i)))$$\n",
    "\n",
    "По-другому можно записать так:\n",
    "\n",
    "$$L(W, x, y) = - ∑_i(y_i log(q_i) + (1-y_i) log(1 - q_i)),$$ где $q_i$ - это предсказание нашей сети"
   ]
  },
  {
   "cell_type": "markdown",
   "metadata": {
    "id": "XG1oLU_rQJWG"
   },
   "source": [
    "В отличие от линейной регрессии, у нас нет явной формулы для решения. Поэтому будем использовать просто градиентный спуск. Формула для градиента:\n",
    "\n",
    "$$\\nabla_{w} L(W, x, y) = - ∑_i x_i(y_i - \\sigma(Wx_i))$$"
   ]
  },
  {
   "cell_type": "markdown",
   "metadata": {
    "id": "_zFGUTP_Zfcn"
   },
   "source": [
    "## Многоклассовая классификация\n",
    "\n",
    "В задаче классификации на $K$ классов будем учить $K-1$ классификаторов предсказывать отношение вероятности $i$-го класса к последнему:\n",
    "\n",
    "$$ln(\\frac{p_1}{p_k}) = W_1x$$\n",
    "$$...$$\n",
    "$$ln(\\frac{p_{k-1}}{p_k}) = W_{k-1}x$$\n",
    "\n",
    "и получаем\n",
    "\n",
    "$$p_i = \\frac{e^{W_ix}}{∑_je^{W_jx}}$$\n",
    "\n",
    "Вывод функции потерь из метода максимального правдоподобия:\n",
    "\n",
    "$$L(W, y, x) = p(y|x;W) = ∏_{i=1}^Np_{1i}^{y_{1i}}...p_{ki}^{y_{ki}}$$\n",
    "$$L(W, y, x) → max_W$$\n",
    "$$ln(L(W, y, x)) → max_W$$\n",
    "$$-ln(L(W, y, x)) → min_W$$\n",
    "\n",
    "$$-∑_{i=1}^{N}y_{1i}ln(p_{1i}) + ... + y_{ki}ln(p_{ki}) → min_W$$\n",
    "$$-∑_{i=1}^{N}∑_{c=1}^{K}y_{ci}ln(p_{ci}) → min_W$$\n",
    "\n",
    "$i$-индекс в выборке, $c$-индекс класса"
   ]
  },
  {
   "cell_type": "markdown",
   "metadata": {
    "id": "CbKJw4QJ266L"
   },
   "source": [
    "# Логистическая регрессия. Пример\n",
    "\n",
    "Нагенерируем данные случайным образом:"
   ]
  },
  {
   "cell_type": "code",
   "execution_count": 6,
   "metadata": {
    "executionInfo": {
     "elapsed": 5,
     "status": "ok",
     "timestamp": 1676521539578,
     "user": {
      "displayName": "Yana Savchenko",
      "userId": "10647193167803909811"
     },
     "user_tz": -420
    },
    "id": "FTKkuWGk7EVA"
   },
   "outputs": [],
   "source": [
    "import numpy as np\n",
    "import matplotlib.pyplot as plt\n",
    "from sklearn.datasets import make_classification, make_blobs, make_moons\n",
    "from sklearn.linear_model import LogisticRegression\n",
    "\n",
    "%matplotlib inline\n",
    "plt.rcParams['figure.figsize'] = (10.0, 8.0) # set default size of plots\n",
    "plt.rcParams['image.interpolation'] = 'nearest'\n",
    "plt.rcParams['image.cmap'] = 'gray'"
   ]
  },
  {
   "cell_type": "code",
   "execution_count": 7,
   "metadata": {
    "colab": {
     "base_uri": "https://localhost:8080/",
     "height": 497
    },
    "executionInfo": {
     "elapsed": 8,
     "status": "ok",
     "timestamp": 1676521542176,
     "user": {
      "displayName": "Yana Savchenko",
      "userId": "10647193167803909811"
     },
     "user_tz": -420
    },
    "id": "js3GngUD9xsM",
    "outputId": "d2f4fff5-ed44-46c0-be87-6b725ee69f2d"
   },
   "outputs": [
    {
     "data": {
      "image/png": "[encoded data removed]",
      "text/plain": [
       "<Figure size 720x576 with 1 Axes>"
      ]
     },
     "metadata": {
      "needs_background": "light"
     },
     "output_type": "display_data"
    }
   ],
   "source": [
    "# X, y = make_blobs(n_features=2, centers=2, random_state=42)  # Y - это лейблы\n",
    "X, y = make_classification(\n",
    "    n_features=2,\n",
    "    n_redundant=0,\n",
    "    n_informative=2,\n",
    "    random_state=1, \n",
    "    n_clusters_per_class=1,\n",
    ")\n",
    "# X, y = make_moons(n_samples=100, noise=0.24)\n",
    "\n",
    "plt.scatter(X[:, 0], X[:, 1], marker=\"o\", c=y, s=25, edgecolor=\"k\")\n",
    "plt.xlabel('x1')\n",
    "plt.ylabel('x2')\n",
    "plt.show()"
   ]
  },
  {
   "cell_type": "markdown",
   "metadata": {
    "id": "qxl-MjTYe4ms"
   },
   "source": [
    "На этот раз воспользуемся готовым решением из библиотеки `sklearn`. Попробуем запустить логистическую регрессию и подогнать наши данные, а потом визуализировать разделяющую прямую для разных порогов"
   ]
  },
  {
   "cell_type": "code",
   "execution_count": 8,
   "metadata": {
    "colab": {
     "base_uri": "https://localhost:8080/"
    },
    "executionInfo": {
     "elapsed": 3,
     "status": "ok",
     "timestamp": 1676521543961,
     "user": {
      "displayName": "Yana Savchenko",
      "userId": "10647193167803909811"
     },
     "user_tz": -420
    },
    "id": "BlUJinhE-m77",
    "outputId": "93a00f73-8439-4a66-cd96-bf6a7769617a"
   },
   "outputs": [
    {
     "name": "stdout",
     "output_type": "stream",
     "text": [
      "(100, 2) (100,)\n",
      "[[-1.04948638  0.8786438 ]\n",
      " [ 0.8780991   0.89551051]\n",
      " [ 0.95928819  1.03967316]\n",
      " [-1.18013412  1.12062155]]\n",
      "[1 0 0 1]\n"
     ]
    }
   ],
   "source": [
    "print(X.shape, y.shape)\n",
    "print(X[:4], y[:4], sep='\\n')"
   ]
  },
  {
   "cell_type": "code",
   "execution_count": 9,
   "metadata": {
    "colab": {
     "base_uri": "https://localhost:8080/"
    },
    "executionInfo": {
     "elapsed": 3,
     "status": "ok",
     "timestamp": 1676521547088,
     "user": {
      "displayName": "Yana Savchenko",
      "userId": "10647193167803909811"
     },
     "user_tz": -420
    },
    "id": "nXNfPqgJNhZ6",
    "outputId": "15d62440-4c5c-4947-eef4-da41adc13e3e"
   },
   "outputs": [
    {
     "data": {
      "text/plain": [
       "LogisticRegression()"
      ]
     },
     "execution_count": 9,
     "metadata": {},
     "output_type": "execute_result"
    }
   ],
   "source": [
    "model= LogisticRegression()\n",
    "model.fit(X, y)"
   ]
  },
  {
   "cell_type": "code",
   "execution_count": 10,
   "metadata": {
    "colab": {
     "base_uri": "https://localhost:8080/"
    },
    "executionInfo": {
     "elapsed": 4,
     "status": "ok",
     "timestamp": 1676521547508,
     "user": {
      "displayName": "Yana Savchenko",
      "userId": "10647193167803909811"
     },
     "user_tz": -420
    },
    "id": "NF5s0W7ohI-w",
    "outputId": "2574ef9a-f93c-442a-929f-89282130b28d"
   },
   "outputs": [
    {
     "name": "stdout",
     "output_type": "stream",
     "text": [
      "[[-3.36656909  0.12308678]]\n",
      "[-0.13931403]\n"
     ]
    }
   ],
   "source": [
    "print(model.coef_)  # коэффициенты перед фичой 1 и фичой 2\n",
    "print(model.intercept_)  # свободный член в линейной части уравнения logit(p) = Wx + b "
   ]
  },
  {
   "cell_type": "markdown",
   "metadata": {
    "id": "vV92y1wdivfE"
   },
   "source": [
    "Формула логистической регрессии:\n",
    "\n",
    "$logit(p) = w_1x_1 + w_2x_2 + w_0$\n",
    "\n",
    "- Установливаем порог на выход регрессии (начиная с какого значения $p$ мы будем считать, что получили объект класса 1)\n",
    "- Вычисляем $logit(p)$ для этого $p$\n",
    "- Выражаем $x_2$ через $x_1$ и получаем уравнение разделяющей прямой"
   ]
  },
  {
   "cell_type": "code",
   "execution_count": 11,
   "metadata": {
    "executionInfo": {
     "elapsed": 550,
     "status": "ok",
     "timestamp": 1676521556685,
     "user": {
      "displayName": "Yana Savchenko",
      "userId": "10647193167803909811"
     },
     "user_tz": -420
    },
    "id": "t6Qe30qvcZmV"
   },
   "outputs": [],
   "source": [
    "def plot_dots_and_boundary(X, w, b, p_thr=0.5):\n",
    "    # X --> фичи\n",
    "    # w --> веса\n",
    "    # b --> сдвиги\n",
    "    \n",
    "    logit = np.log2(p_thr) - np.log2(1 - p_thr)\n",
    "    w1, w2 = w\n",
    "    x1 = X[:, 0]\n",
    "    x2 = (logit - b - w1 * x1) / w2\n",
    "\n",
    "    # рисуем исходные точки\n",
    "    plt.scatter(X[:, 0], X[:, 1], marker=\"o\", c=y, s=25, edgecolor=\"k\")\n",
    "    \n",
    "    # рисуем прямую\n",
    "    plt.plot(x1, x2, 'y-')\n",
    "    \n",
    "    plt.xlim([min(X[:,0])-3, max(X[:,0])+3])\n",
    "    plt.ylim([min(X[:,1])-3, max(X[:,1])+3])\n",
    "    plt.xlabel(\"x1\")\n",
    "    plt.ylabel(\"x2\")\n",
    "    plt.title('Decision Boundary')\n",
    "    plt.show()"
   ]
  },
  {
   "cell_type": "code",
   "execution_count": 12,
   "metadata": {
    "executionInfo": {
     "elapsed": 567,
     "status": "ok",
     "timestamp": 1676521563178,
     "user": {
      "displayName": "Yana Savchenko",
      "userId": "10647193167803909811"
     },
     "user_tz": -420
    },
    "id": "wxuKAXE6h8oC"
   },
   "outputs": [],
   "source": [
    "w = model.coef_[0]\n",
    "b = model.intercept_"
   ]
  },
  {
   "cell_type": "code",
   "execution_count": 13,
   "metadata": {
    "colab": {
     "base_uri": "https://localhost:8080/",
     "height": 513
    },
    "executionInfo": {
     "elapsed": 649,
     "status": "ok",
     "timestamp": 1676521565742,
     "user": {
      "displayName": "Yana Savchenko",
      "userId": "10647193167803909811"
     },
     "user_tz": -420
    },
    "id": "Cagber-ncZsw",
    "outputId": "bd005b30-8338-4fb9-cbb6-6e1277cba972"
   },
   "outputs": [
    {
     "data": {
      "image/png": "[encoded data removed]",
      "text/plain": [
       "<Figure size 720x576 with 1 Axes>"
      ]
     },
     "metadata": {
      "needs_background": "light"
     },
     "output_type": "display_data"
    }
   ],
   "source": [
    "plot_dots_and_boundary(X, w, b, p_thr=0.5)"
   ]
  },
  {
   "cell_type": "code",
   "execution_count": 14,
   "metadata": {
    "colab": {
     "base_uri": "https://localhost:8080/",
     "height": 513
    },
    "executionInfo": {
     "elapsed": 584,
     "status": "ok",
     "timestamp": 1676521602450,
     "user": {
      "displayName": "Yana Savchenko",
      "userId": "10647193167803909811"
     },
     "user_tz": -420
    },
    "id": "o0ynyo_0meVe",
    "outputId": "4d9e746f-b88f-4124-a1f6-575f6ea6621d"
   },
   "outputs": [
    {
     "data": {
      "image/png": "[encoded data removed]",
      "text/plain": [
       "<Figure size 720x576 with 1 Axes>"
      ]
     },
     "metadata": {
      "needs_background": "light"
     },
     "output_type": "display_data"
    }
   ],
   "source": [
    "plot_dots_and_boundary(X, w, b, p_thr=0.7)"
   ]
  },
  {
   "cell_type": "markdown",
   "metadata": {
    "id": "ynrZ2RJWu5S3"
   },
   "source": [
    "# Полносвязная нейронная сеть"
   ]
  },
  {
   "cell_type": "markdown",
   "metadata": {
    "id": "RvzgYC2l2cUA"
   },
   "source": [
    "**Нейронная сеть как ансамбль линейных классификаторов**\n",
    "\n",
    "Построим цепочку из линейных классификаторов, каждый следующий будет получать выход предыдущего - $y = σ(Wx)$ - на вход. С каждым слоем мы как бы переводим данные в некоторое скрытое пространство и делаем в нем классификацию\n",
    "\n",
    "Рассмотрим на примере  полносвязной (fully-connected) нейронной сети. Но сначала о том, что вообще такое полносвязная сеть:\n",
    "\n",
    "![](images/2.png)\n",
    "\n",
    "*Полносвязный слой. В слое с N входами и M выходами NM весов*\n",
    "\n",
    "Полносвязная сеть состоит из полносвязных слоев и функций активаций между слоями:\n",
    "\n",
    "![](images/3.png)\n",
    "\n",
    "*Полносвязная сеть*\n",
    "\n",
    "**Вопрос на подумать:** зачем нужны функции активации?"
   ]
  },
  {
   "cell_type": "markdown",
   "metadata": {
    "id": "sPao59_vvGSf"
   },
   "source": [
    "### Популярные функции активации:\n",
    "![](images/4.png)\n",
    "\n",
    "*Функции активации*\n",
    "\n",
    "Рецепт такой: берем полносвязные слои, добавляем между ними нелинейности. В самом конце сети выбираем сигмоиду (если задача бинарной классификации) или софтмакс (если классификация на много классов)"
   ]
  },
  {
   "cell_type": "markdown",
   "metadata": {
    "id": "IPhfM6gkvGcv"
   },
   "source": [
    "# Классификация на датасете MNIST\n",
    "\n",
    "Создадим и обучим первую нейронную сетку. Для этого будем пользоваться фреймворком [PyTorch](https://pytorch.org/)"
   ]
  },
  {
   "cell_type": "code",
   "execution_count": 15,
   "metadata": {
    "executionInfo": {
     "elapsed": 4497,
     "status": "ok",
     "timestamp": 1676522456997,
     "user": {
      "displayName": "Yana Savchenko",
      "userId": "10647193167803909811"
     },
     "user_tz": -420
    },
    "id": "6TK53jpW76si"
   },
   "outputs": [],
   "source": [
    "from typing import Tuple\n",
    "from random import randrange\n",
    "\n",
    "import torch\n",
    "import torch.nn as nn\n",
    "import torch.nn.functional as F\n",
    "import torchvision\n",
    "\n",
    "import matplotlib.pyplot as plt\n",
    "from tqdm import tqdm"
   ]
  },
  {
   "cell_type": "markdown",
   "metadata": {
    "id": "-YSLdvIZ8CS8"
   },
   "source": [
    "## Создание сети\n",
    "Создадим полносвязную нейронную сеть для задачи классификации рукописных цифр на датасете MNIST.\n",
    "\n",
    "Нейронная сеть будет состоять из 3-х линейных полносвязных слоев с функцией активации `ReLU`."
   ]
  },
  {
   "cell_type": "code",
   "execution_count": 17,
   "metadata": {
    "executionInfo": {
     "elapsed": 551,
     "status": "ok",
     "timestamp": 1676523190523,
     "user": {
      "displayName": "Yana Savchenko",
      "userId": "10647193167803909811"
     },
     "user_tz": -420
    },
    "id": "6cIqbO_H76vI"
   },
   "outputs": [],
   "source": [
    "class FullyConnectedNetwork(nn.Module):  # https://pytorch.org/docs/stable/generated/torch.nn.Module.html\n",
    "    def __init__(\n",
    "        self,\n",
    "        img_size: Tuple[int, int, int] = (1, 28, 28),  # (кол-во каналов, высота px, ширина px)\n",
    "        num_classes: int = 10,\n",
    "    ):\n",
    "        super().__init__()\n",
    "        # Линейный слой в качестве входа принимает вектор:\n",
    "        # https://pytorch.org/docs/stable/generated/torch.nn.Linear.html\n",
    "        #\n",
    "        # Является умножением матрицы-весов на входной вектор признаков:\n",
    "        # Почему x * A^T + b, а не A^T * x + b?\n",
    "        input_features = img_size[0] * img_size[1] * img_size[2]\n",
    "        \n",
    "        self.fc1 = nn.Linear(input_features, 128)\n",
    "        self.fc2 = nn.Linear(128, 64)\n",
    "        self.fc3 = nn.Linear(64, num_classes)\n",
    "        \n",
    "    def forward(self, x: torch.Tensor):\n",
    "        # x - имеет размерность [batch_size, *], в нашем случае [batch_size, input_features].\n",
    "        x = self.fc1(x)\n",
    "        x = F.relu(x)\n",
    "        \n",
    "        x = self.fc2(x)\n",
    "        x = F.relu(x)\n",
    "        \n",
    "        x = self.fc3(x)\n",
    "        \n",
    "        return x"
   ]
  },
  {
   "cell_type": "code",
   "execution_count": 18,
   "metadata": {
    "executionInfo": {
     "elapsed": 358,
     "status": "ok",
     "timestamp": 1676523591422,
     "user": {
      "displayName": "Yana Savchenko",
      "userId": "10647193167803909811"
     },
     "user_tz": -420
    },
    "id": "d7Q40-1e76yT"
   },
   "outputs": [],
   "source": [
    "model = FullyConnectedNetwork()"
   ]
  },
  {
   "cell_type": "code",
   "execution_count": 19,
   "metadata": {
    "colab": {
     "base_uri": "https://localhost:8080/"
    },
    "executionInfo": {
     "elapsed": 395,
     "status": "ok",
     "timestamp": 1676523655103,
     "user": {
      "displayName": "Yana Savchenko",
      "userId": "10647193167803909811"
     },
     "user_tz": -420
    },
    "id": "lJT-b91I761Y",
    "outputId": "41b29646-f487-43df-a87c-7f8f898b0780"
   },
   "outputs": [
    {
     "data": {
      "text/plain": [
       "[('fc1.weight', torch.Size([128, 784])),\n",
       " ('fc1.bias', torch.Size([128])),\n",
       " ('fc2.weight', torch.Size([64, 128])),\n",
       " ('fc2.bias', torch.Size([64])),\n",
       " ('fc3.weight', torch.Size([10, 64])),\n",
       " ('fc3.bias', torch.Size([10]))]"
      ]
     },
     "execution_count": 19,
     "metadata": {},
     "output_type": "execute_result"
    }
   ],
   "source": [
    "[(name, parameter.shape) for name, parameter in model.named_parameters()]"
   ]
  },
  {
   "cell_type": "markdown",
   "metadata": {
    "id": "gPIGiYV28dSb"
   },
   "source": [
    "## Сохранение/загрузка параметров модели\n",
    "\n",
    "Параметры, определяющие модель, можно сохранить и загрузить.\n",
    "\n",
    "Это удобно для сохранения промежуточных результатов и последующего деплоя модели."
   ]
  },
  {
   "cell_type": "code",
   "execution_count": 20,
   "metadata": {
    "colab": {
     "base_uri": "https://localhost:8080/"
    },
    "executionInfo": {
     "elapsed": 432,
     "status": "ok",
     "timestamp": 1676523717094,
     "user": {
      "displayName": "Yana Savchenko",
      "userId": "10647193167803909811"
     },
     "user_tz": -420
    },
    "id": "yl0OIdw08hYs",
    "outputId": "0486b55e-a3a8-4621-b8d7-9f3ed9bce6ad"
   },
   "outputs": [
    {
     "data": {
      "text/plain": [
       "OrderedDict([('fc1.weight',\n",
       "              tensor([[-5.6051e-03, -1.5080e-02, -4.6414e-03,  ..., -1.6608e-02,\n",
       "                       -1.0607e-02,  2.7112e-02],\n",
       "                      [ 3.2475e-02,  1.2457e-02, -3.1113e-02,  ..., -7.5096e-03,\n",
       "                       -4.1774e-05, -1.5684e-02],\n",
       "                      [ 7.1857e-03, -1.9259e-02, -2.9485e-02,  ...,  5.8410e-03,\n",
       "                       -2.7499e-02,  2.8769e-02],\n",
       "                      ...,\n",
       "                      [-1.7274e-02,  3.2343e-02, -1.6352e-02,  ..., -9.5111e-03,\n",
       "                       -5.1558e-03,  1.8290e-02],\n",
       "                      [-3.0593e-02, -3.4022e-02, -3.0560e-02,  ...,  2.5302e-03,\n",
       "                       -2.3016e-02,  5.0888e-03],\n",
       "                      [ 2.2595e-02,  9.9620e-03,  1.9848e-02,  ..., -2.7092e-02,\n",
       "                        1.9140e-03, -3.1049e-02]])),\n",
       "             ('fc1.bias',\n",
       "              tensor([-7.7866e-03, -2.5260e-02,  1.6824e-02,  1.4825e-02, -1.0084e-02,\n",
       "                      -4.9528e-03,  1.2119e-02,  2.4955e-02, -2.4403e-02,  1.7853e-02,\n",
       "                       1.8743e-02,  3.5088e-02,  2.5442e-02, -1.1392e-02,  2.7507e-02,\n",
       "                       8.5324e-03,  2.6977e-02, -3.2579e-02, -1.9515e-03, -3.5876e-03,\n",
       "                       5.8933e-04, -9.1079e-03, -1.5265e-02,  1.7058e-03, -2.1192e-03,\n",
       "                      -1.6673e-02, -1.2155e-02, -1.6349e-02, -2.8676e-02,  3.3697e-02,\n",
       "                       2.7567e-02,  1.9248e-02,  1.0397e-02, -1.3856e-02, -3.1496e-02,\n",
       "                       3.5063e-02, -3.4498e-02, -1.8361e-02,  3.5652e-02, -1.0937e-02,\n",
       "                       2.7408e-02,  6.7648e-03,  1.9880e-02,  3.5049e-02,  2.5165e-02,\n",
       "                      -1.5455e-02, -2.1585e-06,  1.9542e-02,  6.2584e-03,  7.2302e-03,\n",
       "                      -1.4344e-02,  2.9376e-02,  1.4821e-02, -1.1129e-02, -3.1144e-02,\n",
       "                      -1.2222e-02, -9.2451e-03, -3.2039e-02, -3.3162e-03,  2.6654e-02,\n",
       "                       3.4313e-02,  9.6045e-03, -1.2199e-03,  3.4555e-02,  2.8592e-02,\n",
       "                      -3.0341e-02, -2.7388e-02,  9.4257e-03,  1.3588e-02,  5.5138e-03,\n",
       "                       2.4826e-02,  3.4907e-02, -6.2974e-03,  2.3314e-02, -3.5029e-02,\n",
       "                       1.1121e-02,  3.3073e-02,  1.3734e-02, -1.7012e-02,  8.6520e-03,\n",
       "                      -6.9288e-03,  2.4936e-02, -1.6736e-02,  5.8090e-03, -1.7569e-02,\n",
       "                      -2.6139e-02,  2.1056e-02,  3.3432e-02, -1.7358e-02,  2.5193e-02,\n",
       "                      -1.0739e-02,  9.8943e-03, -2.4115e-02,  7.3233e-03,  3.2170e-02,\n",
       "                       4.5321e-03,  3.3363e-02, -2.7817e-02, -1.8181e-02, -5.8956e-03,\n",
       "                      -1.0013e-03,  1.4515e-02,  2.3801e-02,  9.5808e-03,  1.4828e-03,\n",
       "                      -1.3045e-02, -2.6547e-02,  2.6009e-02,  2.8676e-02, -1.6793e-02,\n",
       "                      -7.7140e-03, -6.3032e-03, -2.8615e-02,  8.7887e-03, -2.3919e-02,\n",
       "                      -2.1365e-02, -2.9495e-02, -4.8131e-03, -1.9707e-02,  3.0489e-02,\n",
       "                       2.2219e-02, -2.2476e-02, -2.8613e-02, -3.1956e-02, -2.1060e-02,\n",
       "                       3.2977e-02,  1.5605e-02, -1.0321e-02])),\n",
       "             ('fc2.weight',\n",
       "              tensor([[-0.0219, -0.0638,  0.0246,  ..., -0.0165,  0.0390,  0.0540],\n",
       "                      [-0.0348,  0.0305, -0.0374,  ...,  0.0509,  0.0656, -0.0098],\n",
       "                      [-0.0838, -0.0066,  0.0298,  ...,  0.0605,  0.0831,  0.0519],\n",
       "                      ...,\n",
       "                      [ 0.0802,  0.0582,  0.0266,  ..., -0.0701,  0.0387, -0.0002],\n",
       "                      [ 0.0639,  0.0780,  0.0275,  ..., -0.0652,  0.0572,  0.0189],\n",
       "                      [-0.0384,  0.0052,  0.0324,  ...,  0.0764, -0.0098,  0.0638]])),\n",
       "             ('fc2.bias',\n",
       "              tensor([ 6.5707e-02, -7.9324e-02,  4.0151e-02, -6.2741e-02,  6.0767e-02,\n",
       "                      -5.6387e-02, -2.3274e-02,  4.6304e-03,  1.9183e-02,  7.7675e-02,\n",
       "                      -3.8073e-02,  4.3792e-02, -1.4918e-02, -4.4486e-02, -6.0288e-02,\n",
       "                       1.5600e-02, -8.6782e-02, -2.2091e-02,  3.7750e-02, -8.1228e-02,\n",
       "                       8.2279e-02, -6.1757e-02, -3.2044e-02,  8.2091e-02, -7.5558e-02,\n",
       "                       3.9615e-02,  4.5898e-02, -5.9517e-02,  7.3019e-02, -2.6654e-02,\n",
       "                       1.4073e-02, -7.4432e-03, -5.1916e-02, -2.8191e-02, -5.7539e-03,\n",
       "                       4.6351e-04,  6.4127e-02, -2.3612e-02, -6.4483e-02, -2.6449e-02,\n",
       "                       7.2349e-02,  8.0738e-02, -5.9804e-02,  5.7714e-02,  1.4714e-02,\n",
       "                      -3.0556e-02, -7.1312e-02,  6.0330e-02,  4.7169e-04,  7.7608e-02,\n",
       "                       4.2747e-05,  4.2064e-02, -6.9928e-02,  1.0049e-02, -9.8230e-03,\n",
       "                       2.7930e-02, -3.8415e-04,  1.6813e-02,  6.1815e-02, -1.6397e-02,\n",
       "                       4.6600e-02, -5.0152e-02,  1.8371e-02,  3.8353e-02])),\n",
       "             ('fc3.weight',\n",
       "              tensor([[ 6.9597e-02, -8.1682e-02, -6.4741e-02,  1.1157e-01, -5.1224e-02,\n",
       "                       -2.3852e-02,  6.0611e-02, -1.1936e-01,  1.1335e-01, -1.1134e-01,\n",
       "                        1.1380e-01,  2.3948e-02,  4.5315e-02, -6.4174e-03,  1.0641e-02,\n",
       "                        2.5083e-02,  1.0165e-01,  1.2150e-01, -9.9858e-02, -2.2673e-02,\n",
       "                       -8.8737e-02, -2.0960e-02,  1.1041e-01,  6.6963e-02,  1.3517e-02,\n",
       "                        7.0830e-02, -2.5734e-02, -7.1439e-02, -5.7094e-02,  6.5815e-02,\n",
       "                        1.0817e-01,  7.7853e-02,  1.0634e-01,  3.9579e-02, -4.5463e-02,\n",
       "                        8.2266e-02, -4.9540e-02,  6.9050e-02, -4.8353e-02, -2.4791e-02,\n",
       "                        1.0148e-01,  8.9536e-02,  2.7189e-02,  9.9728e-02, -2.9673e-02,\n",
       "                       -4.8926e-02,  4.3564e-02,  1.1346e-01, -1.0182e-01,  1.5547e-03,\n",
       "                       -7.0377e-03,  1.3752e-02, -1.2050e-01,  3.6181e-02, -4.6640e-02,\n",
       "                       -9.6657e-02,  2.7692e-02, -3.6116e-02, -1.0309e-01,  4.0426e-02,\n",
       "                       -3.4948e-02, -5.3425e-03, -2.1347e-02, -9.6176e-02],\n",
       "                      [ 8.8305e-02, -2.4961e-02, -1.1657e-01,  3.2470e-02,  2.3282e-02,\n",
       "                       -1.1893e-01, -4.0403e-02,  2.1332e-02, -6.9124e-02,  1.0681e-01,\n",
       "                       -6.7323e-02,  1.0299e-02,  7.3942e-02,  3.7519e-02,  7.6590e-02,\n",
       "                       -9.3424e-02, -1.1140e-02,  2.1116e-02,  6.2034e-02,  3.1296e-03,\n",
       "                        1.2001e-01, -2.4628e-02,  5.8464e-02,  2.6791e-02, -6.8892e-02,\n",
       "                       -1.0430e-02,  7.6868e-02,  1.0313e-01, -6.0048e-02, -9.3179e-02,\n",
       "                       -5.0516e-02, -6.0261e-02, -2.4497e-02, -1.4258e-02,  4.1731e-02,\n",
       "                        1.1844e-01, -9.0731e-02, -4.1892e-02, -6.2842e-02,  9.3269e-02,\n",
       "                        9.1716e-02,  9.2364e-02,  9.5167e-02, -5.5328e-02,  9.7152e-02,\n",
       "                        8.6350e-02,  1.0591e-01, -7.9583e-02,  8.9636e-03, -5.6077e-02,\n",
       "                        1.0775e-01, -7.8629e-02, -2.4185e-05,  8.4491e-02,  1.0229e-01,\n",
       "                        4.2511e-02, -1.1358e-01, -4.7978e-02,  1.1421e-01, -1.2393e-01,\n",
       "                       -1.0367e-01,  2.6483e-02,  1.1223e-01,  2.2235e-02],\n",
       "                      [ 9.9790e-02, -5.6256e-02, -7.6670e-02, -1.2370e-01, -6.6917e-02,\n",
       "                        4.4697e-02, -9.8290e-02, -7.6241e-02, -6.6545e-02, -4.9475e-02,\n",
       "                        5.0960e-03, -2.7883e-02,  1.2355e-01,  2.9550e-02,  8.0841e-02,\n",
       "                       -2.2233e-02, -1.8520e-02,  1.1193e-01,  1.0727e-01, -9.4114e-02,\n",
       "                       -1.6091e-03, -1.9756e-02, -6.7670e-02, -1.1720e-01, -1.0045e-01,\n",
       "                        1.1792e-01, -1.1437e-01,  8.6523e-02,  2.4549e-02,  1.1883e-01,\n",
       "                       -6.6391e-02, -7.1654e-02, -7.5046e-02,  1.6401e-02,  1.1210e-01,\n",
       "                       -1.1690e-01,  7.4596e-02, -7.9841e-02, -1.0537e-01,  1.0592e-01,\n",
       "                        3.1305e-02, -6.3748e-02, -1.0503e-01,  1.8609e-02, -6.8929e-02,\n",
       "                        5.0620e-02, -7.1782e-02,  5.7632e-02,  9.7954e-02, -5.5677e-02,\n",
       "                        9.5255e-02,  5.5037e-02,  1.1348e-02, -6.9246e-02,  1.7828e-02,\n",
       "                       -9.9049e-02, -1.1304e-02,  5.2611e-02,  1.1447e-01,  5.6783e-02,\n",
       "                        8.5463e-02,  5.0665e-02,  1.1169e-01, -5.3510e-02],\n",
       "                      [-1.0952e-01,  3.3604e-02, -3.6294e-02,  5.4958e-02,  2.4312e-02,\n",
       "                        1.0605e-01,  3.6847e-03,  7.5446e-02, -1.0231e-01, -9.9380e-03,\n",
       "                        6.3764e-03,  3.1755e-02,  4.2127e-02,  7.1831e-02,  8.9379e-02,\n",
       "                       -6.7373e-02, -1.2264e-01, -5.7897e-02,  5.5345e-02, -5.4125e-02,\n",
       "                       -1.0913e-01, -1.1031e-01,  6.5374e-03, -7.8808e-02, -9.7790e-02,\n",
       "                        6.7229e-02,  3.6863e-02, -4.2363e-02,  6.3149e-02,  2.5663e-02,\n",
       "                       -1.0097e-01, -1.1811e-02, -4.9910e-02,  1.2100e-01,  1.1904e-01,\n",
       "                        1.5155e-02, -1.2248e-01, -6.9303e-02, -3.5325e-02, -4.2324e-02,\n",
       "                        6.6575e-02,  7.8248e-02,  1.1321e-01, -1.2033e-01,  1.1548e-01,\n",
       "                       -1.2336e-01, -3.6612e-02,  1.1803e-01,  9.2157e-02,  1.0513e-01,\n",
       "                        1.1724e-01,  3.3738e-02,  1.1483e-01, -7.7134e-02, -6.6426e-02,\n",
       "                        7.9455e-02,  1.7999e-04, -5.3981e-02, -2.3747e-02, -2.0541e-02,\n",
       "                        3.6473e-02,  4.8482e-02, -4.5822e-02, -1.2314e-01],\n",
       "                      [ 1.3629e-03, -7.9334e-02,  3.7792e-02,  5.3457e-02,  6.6710e-02,\n",
       "                        9.1208e-02,  7.5969e-02,  1.1511e-01, -8.6801e-02, -9.8462e-02,\n",
       "                       -4.6650e-03,  2.8749e-02,  1.1752e-01,  7.2444e-02,  3.7577e-02,\n",
       "                        5.1527e-03, -2.5348e-02,  9.5324e-02,  4.7324e-02,  1.2244e-01,\n",
       "                       -2.7292e-02, -5.8085e-02,  3.8860e-03,  5.2856e-03, -9.9092e-02,\n",
       "                        5.9887e-02,  2.9812e-02,  6.0907e-02, -4.7879e-02,  1.6202e-02,\n",
       "                        5.9457e-02,  3.6879e-02, -3.1061e-02, -4.6855e-02,  1.3263e-02,\n",
       "                        6.5425e-02, -7.9896e-02, -7.8712e-02,  6.0929e-02, -7.7587e-02,\n",
       "                        1.6226e-02,  1.2148e-02, -1.1688e-01, -8.8071e-02, -1.2046e-01,\n",
       "                        3.1083e-02,  1.1875e-01,  9.4195e-02, -2.6282e-02, -2.0050e-02,\n",
       "                       -4.2702e-02, -1.2222e-01,  1.4372e-02, -9.1972e-02,  8.2209e-02,\n",
       "                       -8.7207e-02,  3.8597e-02, -5.7177e-02, -8.7414e-02,  6.8626e-02,\n",
       "                       -5.9243e-02,  6.0804e-02, -3.6666e-02,  2.3952e-02],\n",
       "                      [-3.5110e-02, -7.7264e-02,  9.7708e-02, -3.4960e-02, -8.7496e-02,\n",
       "                        1.1905e-01,  7.0889e-02, -3.6446e-02,  7.4994e-02, -3.5906e-02,\n",
       "                        3.8125e-02,  1.0966e-01, -2.1034e-02,  2.0508e-02,  4.9058e-02,\n",
       "                       -1.4856e-02, -1.1072e-01,  1.1233e-01,  1.6780e-03,  3.4624e-02,\n",
       "                        1.1366e-01, -2.3696e-03, -2.0590e-02, -3.3071e-02, -4.7259e-02,\n",
       "                        1.3000e-02, -7.3016e-06,  1.0007e-01, -1.6948e-02, -1.1479e-01,\n",
       "                        4.2502e-02,  6.2846e-02, -9.3602e-02,  9.1548e-03, -1.1484e-01,\n",
       "                       -7.6902e-02,  6.1775e-02,  1.6671e-02,  9.0049e-02,  8.6192e-02,\n",
       "                        3.4462e-02, -7.3063e-02, -1.0269e-01,  5.7446e-02, -9.5950e-02,\n",
       "                        7.6422e-03, -8.5831e-02,  4.3280e-02,  3.9653e-02, -7.1801e-02,\n",
       "                       -2.7958e-02,  1.8055e-02, -3.9907e-02,  6.2777e-02,  8.2675e-02,\n",
       "                        7.0957e-02, -1.6523e-02, -3.8310e-02,  1.3892e-02, -5.7476e-02,\n",
       "                        1.0780e-01,  7.9079e-02,  7.2135e-03, -3.1838e-02],\n",
       "                      [-8.3831e-02, -1.1267e-01, -4.3430e-02,  1.0130e-01,  3.7034e-02,\n",
       "                       -4.1618e-02, -8.8200e-03, -2.7353e-03, -3.0599e-02,  1.9038e-02,\n",
       "                       -8.4070e-02,  6.6344e-02, -9.1040e-04,  8.5163e-02,  5.1262e-02,\n",
       "                       -2.2798e-02,  4.7747e-02, -9.2654e-02, -6.1552e-02, -8.0250e-02,\n",
       "                        6.6987e-02, -1.7073e-02, -4.7982e-02, -3.1641e-02,  6.6320e-02,\n",
       "                       -1.0031e-01,  1.1875e-01, -2.1830e-02, -7.8907e-02, -9.7409e-03,\n",
       "                       -1.2334e-01, -1.1547e-01, -5.2485e-02, -9.6648e-02,  1.2142e-01,\n",
       "                       -2.0006e-02, -4.2445e-02,  7.3438e-02, -1.5533e-02,  9.8159e-03,\n",
       "                       -1.0020e-02,  1.0254e-01,  7.7829e-02, -2.4517e-02, -1.0396e-01,\n",
       "                       -1.0363e-01,  9.9438e-02, -7.6827e-02,  2.3203e-03, -7.9457e-02,\n",
       "                       -7.4646e-02,  2.4846e-02, -1.5295e-02, -2.2270e-02, -4.6817e-02,\n",
       "                       -6.4339e-02, -6.9527e-02,  1.1908e-01,  8.4956e-02, -9.5407e-02,\n",
       "                        3.3654e-02,  7.9767e-02, -2.9229e-02,  1.1590e-01],\n",
       "                      [-1.0479e-01, -4.1307e-02, -1.2390e-01, -4.4595e-03, -1.8307e-02,\n",
       "                        3.8020e-02, -7.8704e-02, -1.1946e-01, -1.2279e-02, -1.1671e-01,\n",
       "                        2.5827e-02,  1.0016e-01,  1.1006e-01,  7.4268e-02, -2.7812e-02,\n",
       "                        4.0308e-02,  5.5484e-03, -8.0609e-02, -1.0169e-01,  1.1639e-01,\n",
       "                        4.0521e-02, -1.2336e-01, -7.8722e-02,  1.9311e-03, -1.1364e-01,\n",
       "                       -3.7051e-02,  1.7519e-03, -9.3330e-02, -1.8379e-02,  2.2782e-02,\n",
       "                       -1.2108e-01,  5.6412e-02,  9.1000e-02,  9.1342e-03,  5.5466e-02,\n",
       "                        6.7600e-02, -1.1298e-01,  4.5249e-03,  2.5386e-02, -5.1146e-02,\n",
       "                        5.8975e-02,  8.9095e-02,  3.3324e-02,  6.1060e-02, -9.7049e-02,\n",
       "                        4.7338e-02, -2.2913e-02, -8.9448e-02,  2.6432e-02, -6.1390e-02,\n",
       "                        2.3417e-02,  1.3744e-02, -5.0910e-02,  3.9911e-02,  7.4155e-02,\n",
       "                       -1.1842e-01,  9.6254e-02, -5.1260e-02, -8.4105e-02, -8.7210e-02,\n",
       "                        7.8214e-02,  6.8056e-03, -7.2888e-02, -2.7541e-02],\n",
       "                      [ 3.3654e-02, -5.4885e-02,  8.8791e-02,  1.3128e-02,  2.2816e-02,\n",
       "                       -5.4905e-02,  1.0926e-01, -6.8602e-02, -7.0738e-02,  4.6249e-02,\n",
       "                       -1.0210e-01,  2.4503e-02, -1.1530e-01, -9.8175e-02, -4.5058e-02,\n",
       "                        1.2198e-02,  1.1923e-01, -1.0394e-01,  3.1735e-02, -3.0394e-02,\n",
       "                        4.7283e-02,  4.6651e-02, -2.9785e-02, -5.0018e-02,  5.7134e-02,\n",
       "                        5.0652e-02,  7.9898e-02, -1.0518e-02, -6.5851e-02, -5.1630e-02,\n",
       "                        9.7346e-04, -8.7795e-02,  2.8662e-02,  7.6277e-02,  3.9423e-02,\n",
       "                        7.3178e-02,  1.0729e-01, -2.7210e-02, -5.8762e-02, -1.3894e-02,\n",
       "                       -5.9293e-02,  7.5217e-02,  7.6009e-02, -1.1106e-01, -1.1885e-01,\n",
       "                       -2.1317e-02,  3.4843e-02, -1.4125e-02, -1.1048e-01,  5.4393e-02,\n",
       "                        1.7027e-02,  1.9751e-02,  2.2286e-02, -3.8109e-02, -6.9673e-02,\n",
       "                        5.9668e-02,  1.2158e-01, -7.6628e-02,  2.8893e-02, -6.0385e-02,\n",
       "                        1.3920e-02, -2.4483e-02,  2.7518e-03,  1.0763e-02],\n",
       "                      [ 8.3074e-02,  8.4412e-02,  1.2148e-01,  7.1681e-02,  7.6996e-02,\n",
       "                       -8.6696e-02, -1.1541e-01, -9.4451e-03,  5.2981e-02, -1.1973e-02,\n",
       "                       -6.2258e-02, -4.8076e-02,  1.0128e-01, -1.1553e-02,  2.4691e-02,\n",
       "                       -4.1524e-02,  4.4957e-02, -1.2091e-01, -9.6799e-02,  1.1980e-02,\n",
       "                       -4.3519e-02, -1.0878e-01,  2.6796e-02, -9.6567e-02,  1.1161e-01,\n",
       "                       -2.5282e-02,  7.0002e-03,  8.8257e-03, -2.4870e-03, -3.8601e-02,\n",
       "                        4.9287e-02, -6.6576e-03, -1.0539e-01,  1.1620e-01, -1.1385e-01,\n",
       "                       -3.8445e-03, -2.2762e-03,  4.5639e-03, -8.7059e-02,  3.9372e-02,\n",
       "                       -9.5255e-02,  5.0555e-02,  2.5576e-02,  3.7944e-03, -9.5937e-02,\n",
       "                       -1.0531e-01,  3.0966e-02, -4.8206e-02,  9.1278e-02, -6.7359e-02,\n",
       "                        6.2869e-02, -5.5821e-02, -9.8232e-02, -1.1094e-01, -4.3728e-02,\n",
       "                        5.9314e-02,  9.9494e-02, -3.4746e-02, -3.4919e-02, -8.2789e-02,\n",
       "                       -8.0506e-02,  1.5895e-02,  1.0807e-01, -1.2199e-01]])),\n",
       "             ('fc3.bias',\n",
       "              tensor([ 0.0432,  0.0081, -0.1209, -0.0285, -0.0264,  0.0081, -0.0480,  0.0970,\n",
       "                       0.0186, -0.0515]))])"
      ]
     },
     "execution_count": 20,
     "metadata": {},
     "output_type": "execute_result"
    }
   ],
   "source": [
    "model.state_dict()  # Ключ - имя параметра, значение - тензор"
   ]
  },
  {
   "cell_type": "code",
   "execution_count": 21,
   "metadata": {
    "executionInfo": {
     "elapsed": 554,
     "status": "ok",
     "timestamp": 1676523770253,
     "user": {
      "displayName": "Yana Savchenko",
      "userId": "10647193167803909811"
     },
     "user_tz": -420
    },
    "id": "ygj3hBN18l4d"
   },
   "outputs": [],
   "source": [
    "torch.save(  # https://pytorch.org/tutorials/beginner/saving_loading_models.html\n",
    "    obj=model.state_dict(),\n",
    "    f='weights.pt',\n",
    ")"
   ]
  },
  {
   "cell_type": "code",
   "execution_count": 23,
   "metadata": {
    "colab": {
     "base_uri": "https://localhost:8080/"
    },
    "executionInfo": {
     "elapsed": 491,
     "status": "ok",
     "timestamp": 1676523785791,
     "user": {
      "displayName": "Yana Savchenko",
      "userId": "10647193167803909811"
     },
     "user_tz": -420
    },
    "id": "qGAfEiIN8nbd",
    "outputId": "5fde845f-696d-4f1d-cade-b73ad2b75deb"
   },
   "outputs": [
    {
     "data": {
      "text/plain": [
       "OrderedDict([('fc1.weight',\n",
       "              tensor([[-5.6051e-03, -1.5080e-02, -4.6414e-03,  ..., -1.6608e-02,\n",
       "                       -1.0607e-02,  2.7112e-02],\n",
       "                      [ 3.2475e-02,  1.2457e-02, -3.1113e-02,  ..., -7.5096e-03,\n",
       "                       -4.1774e-05, -1.5684e-02],\n",
       "                      [ 7.1857e-03, -1.9259e-02, -2.9485e-02,  ...,  5.8410e-03,\n",
       "                       -2.7499e-02,  2.8769e-02],\n",
       "                      ...,\n",
       "                      [-1.7274e-02,  3.2343e-02, -1.6352e-02,  ..., -9.5111e-03,\n",
       "                       -5.1558e-03,  1.8290e-02],\n",
       "                      [-3.0593e-02, -3.4022e-02, -3.0560e-02,  ...,  2.5302e-03,\n",
       "                       -2.3016e-02,  5.0888e-03],\n",
       "                      [ 2.2595e-02,  9.9620e-03,  1.9848e-02,  ..., -2.7092e-02,\n",
       "                        1.9140e-03, -3.1049e-02]])),\n",
       "             ('fc1.bias',\n",
       "              tensor([-7.7866e-03, -2.5260e-02,  1.6824e-02,  1.4825e-02, -1.0084e-02,\n",
       "                      -4.9528e-03,  1.2119e-02,  2.4955e-02, -2.4403e-02,  1.7853e-02,\n",
       "                       1.8743e-02,  3.5088e-02,  2.5442e-02, -1.1392e-02,  2.7507e-02,\n",
       "                       8.5324e-03,  2.6977e-02, -3.2579e-02, -1.9515e-03, -3.5876e-03,\n",
       "                       5.8933e-04, -9.1079e-03, -1.5265e-02,  1.7058e-03, -2.1192e-03,\n",
       "                      -1.6673e-02, -1.2155e-02, -1.6349e-02, -2.8676e-02,  3.3697e-02,\n",
       "                       2.7567e-02,  1.9248e-02,  1.0397e-02, -1.3856e-02, -3.1496e-02,\n",
       "                       3.5063e-02, -3.4498e-02, -1.8361e-02,  3.5652e-02, -1.0937e-02,\n",
       "                       2.7408e-02,  6.7648e-03,  1.9880e-02,  3.5049e-02,  2.5165e-02,\n",
       "                      -1.5455e-02, -2.1585e-06,  1.9542e-02,  6.2584e-03,  7.2302e-03,\n",
       "                      -1.4344e-02,  2.9376e-02,  1.4821e-02, -1.1129e-02, -3.1144e-02,\n",
       "                      -1.2222e-02, -9.2451e-03, -3.2039e-02, -3.3162e-03,  2.6654e-02,\n",
       "                       3.4313e-02,  9.6045e-03, -1.2199e-03,  3.4555e-02,  2.8592e-02,\n",
       "                      -3.0341e-02, -2.7388e-02,  9.4257e-03,  1.3588e-02,  5.5138e-03,\n",
       "                       2.4826e-02,  3.4907e-02, -6.2974e-03,  2.3314e-02, -3.5029e-02,\n",
       "                       1.1121e-02,  3.3073e-02,  1.3734e-02, -1.7012e-02,  8.6520e-03,\n",
       "                      -6.9288e-03,  2.4936e-02, -1.6736e-02,  5.8090e-03, -1.7569e-02,\n",
       "                      -2.6139e-02,  2.1056e-02,  3.3432e-02, -1.7358e-02,  2.5193e-02,\n",
       "                      -1.0739e-02,  9.8943e-03, -2.4115e-02,  7.3233e-03,  3.2170e-02,\n",
       "                       4.5321e-03,  3.3363e-02, -2.7817e-02, -1.8181e-02, -5.8956e-03,\n",
       "                      -1.0013e-03,  1.4515e-02,  2.3801e-02,  9.5808e-03,  1.4828e-03,\n",
       "                      -1.3045e-02, -2.6547e-02,  2.6009e-02,  2.8676e-02, -1.6793e-02,\n",
       "                      -7.7140e-03, -6.3032e-03, -2.8615e-02,  8.7887e-03, -2.3919e-02,\n",
       "                      -2.1365e-02, -2.9495e-02, -4.8131e-03, -1.9707e-02,  3.0489e-02,\n",
       "                       2.2219e-02, -2.2476e-02, -2.8613e-02, -3.1956e-02, -2.1060e-02,\n",
       "                       3.2977e-02,  1.5605e-02, -1.0321e-02])),\n",
       "             ('fc2.weight',\n",
       "              tensor([[-0.0219, -0.0638,  0.0246,  ..., -0.0165,  0.0390,  0.0540],\n",
       "                      [-0.0348,  0.0305, -0.0374,  ...,  0.0509,  0.0656, -0.0098],\n",
       "                      [-0.0838, -0.0066,  0.0298,  ...,  0.0605,  0.0831,  0.0519],\n",
       "                      ...,\n",
       "                      [ 0.0802,  0.0582,  0.0266,  ..., -0.0701,  0.0387, -0.0002],\n",
       "                      [ 0.0639,  0.0780,  0.0275,  ..., -0.0652,  0.0572,  0.0189],\n",
       "                      [-0.0384,  0.0052,  0.0324,  ...,  0.0764, -0.0098,  0.0638]])),\n",
       "             ('fc2.bias',\n",
       "              tensor([ 6.5707e-02, -7.9324e-02,  4.0151e-02, -6.2741e-02,  6.0767e-02,\n",
       "                      -5.6387e-02, -2.3274e-02,  4.6304e-03,  1.9183e-02,  7.7675e-02,\n",
       "                      -3.8073e-02,  4.3792e-02, -1.4918e-02, -4.4486e-02, -6.0288e-02,\n",
       "                       1.5600e-02, -8.6782e-02, -2.2091e-02,  3.7750e-02, -8.1228e-02,\n",
       "                       8.2279e-02, -6.1757e-02, -3.2044e-02,  8.2091e-02, -7.5558e-02,\n",
       "                       3.9615e-02,  4.5898e-02, -5.9517e-02,  7.3019e-02, -2.6654e-02,\n",
       "                       1.4073e-02, -7.4432e-03, -5.1916e-02, -2.8191e-02, -5.7539e-03,\n",
       "                       4.6351e-04,  6.4127e-02, -2.3612e-02, -6.4483e-02, -2.6449e-02,\n",
       "                       7.2349e-02,  8.0738e-02, -5.9804e-02,  5.7714e-02,  1.4714e-02,\n",
       "                      -3.0556e-02, -7.1312e-02,  6.0330e-02,  4.7169e-04,  7.7608e-02,\n",
       "                       4.2747e-05,  4.2064e-02, -6.9928e-02,  1.0049e-02, -9.8230e-03,\n",
       "                       2.7930e-02, -3.8415e-04,  1.6813e-02,  6.1815e-02, -1.6397e-02,\n",
       "                       4.6600e-02, -5.0152e-02,  1.8371e-02,  3.8353e-02])),\n",
       "             ('fc3.weight',\n",
       "              tensor([[ 6.9597e-02, -8.1682e-02, -6.4741e-02,  1.1157e-01, -5.1224e-02,\n",
       "                       -2.3852e-02,  6.0611e-02, -1.1936e-01,  1.1335e-01, -1.1134e-01,\n",
       "                        1.1380e-01,  2.3948e-02,  4.5315e-02, -6.4174e-03,  1.0641e-02,\n",
       "                        2.5083e-02,  1.0165e-01,  1.2150e-01, -9.9858e-02, -2.2673e-02,\n",
       "                       -8.8737e-02, -2.0960e-02,  1.1041e-01,  6.6963e-02,  1.3517e-02,\n",
       "                        7.0830e-02, -2.5734e-02, -7.1439e-02, -5.7094e-02,  6.5815e-02,\n",
       "                        1.0817e-01,  7.7853e-02,  1.0634e-01,  3.9579e-02, -4.5463e-02,\n",
       "                        8.2266e-02, -4.9540e-02,  6.9050e-02, -4.8353e-02, -2.4791e-02,\n",
       "                        1.0148e-01,  8.9536e-02,  2.7189e-02,  9.9728e-02, -2.9673e-02,\n",
       "                       -4.8926e-02,  4.3564e-02,  1.1346e-01, -1.0182e-01,  1.5547e-03,\n",
       "                       -7.0377e-03,  1.3752e-02, -1.2050e-01,  3.6181e-02, -4.6640e-02,\n",
       "                       -9.6657e-02,  2.7692e-02, -3.6116e-02, -1.0309e-01,  4.0426e-02,\n",
       "                       -3.4948e-02, -5.3425e-03, -2.1347e-02, -9.6176e-02],\n",
       "                      [ 8.8305e-02, -2.4961e-02, -1.1657e-01,  3.2470e-02,  2.3282e-02,\n",
       "                       -1.1893e-01, -4.0403e-02,  2.1332e-02, -6.9124e-02,  1.0681e-01,\n",
       "                       -6.7323e-02,  1.0299e-02,  7.3942e-02,  3.7519e-02,  7.6590e-02,\n",
       "                       -9.3424e-02, -1.1140e-02,  2.1116e-02,  6.2034e-02,  3.1296e-03,\n",
       "                        1.2001e-01, -2.4628e-02,  5.8464e-02,  2.6791e-02, -6.8892e-02,\n",
       "                       -1.0430e-02,  7.6868e-02,  1.0313e-01, -6.0048e-02, -9.3179e-02,\n",
       "                       -5.0516e-02, -6.0261e-02, -2.4497e-02, -1.4258e-02,  4.1731e-02,\n",
       "                        1.1844e-01, -9.0731e-02, -4.1892e-02, -6.2842e-02,  9.3269e-02,\n",
       "                        9.1716e-02,  9.2364e-02,  9.5167e-02, -5.5328e-02,  9.7152e-02,\n",
       "                        8.6350e-02,  1.0591e-01, -7.9583e-02,  8.9636e-03, -5.6077e-02,\n",
       "                        1.0775e-01, -7.8629e-02, -2.4185e-05,  8.4491e-02,  1.0229e-01,\n",
       "                        4.2511e-02, -1.1358e-01, -4.7978e-02,  1.1421e-01, -1.2393e-01,\n",
       "                       -1.0367e-01,  2.6483e-02,  1.1223e-01,  2.2235e-02],\n",
       "                      [ 9.9790e-02, -5.6256e-02, -7.6670e-02, -1.2370e-01, -6.6917e-02,\n",
       "                        4.4697e-02, -9.8290e-02, -7.6241e-02, -6.6545e-02, -4.9475e-02,\n",
       "                        5.0960e-03, -2.7883e-02,  1.2355e-01,  2.9550e-02,  8.0841e-02,\n",
       "                       -2.2233e-02, -1.8520e-02,  1.1193e-01,  1.0727e-01, -9.4114e-02,\n",
       "                       -1.6091e-03, -1.9756e-02, -6.7670e-02, -1.1720e-01, -1.0045e-01,\n",
       "                        1.1792e-01, -1.1437e-01,  8.6523e-02,  2.4549e-02,  1.1883e-01,\n",
       "                       -6.6391e-02, -7.1654e-02, -7.5046e-02,  1.6401e-02,  1.1210e-01,\n",
       "                       -1.1690e-01,  7.4596e-02, -7.9841e-02, -1.0537e-01,  1.0592e-01,\n",
       "                        3.1305e-02, -6.3748e-02, -1.0503e-01,  1.8609e-02, -6.8929e-02,\n",
       "                        5.0620e-02, -7.1782e-02,  5.7632e-02,  9.7954e-02, -5.5677e-02,\n",
       "                        9.5255e-02,  5.5037e-02,  1.1348e-02, -6.9246e-02,  1.7828e-02,\n",
       "                       -9.9049e-02, -1.1304e-02,  5.2611e-02,  1.1447e-01,  5.6783e-02,\n",
       "                        8.5463e-02,  5.0665e-02,  1.1169e-01, -5.3510e-02],\n",
       "                      [-1.0952e-01,  3.3604e-02, -3.6294e-02,  5.4958e-02,  2.4312e-02,\n",
       "                        1.0605e-01,  3.6847e-03,  7.5446e-02, -1.0231e-01, -9.9380e-03,\n",
       "                        6.3764e-03,  3.1755e-02,  4.2127e-02,  7.1831e-02,  8.9379e-02,\n",
       "                       -6.7373e-02, -1.2264e-01, -5.7897e-02,  5.5345e-02, -5.4125e-02,\n",
       "                       -1.0913e-01, -1.1031e-01,  6.5374e-03, -7.8808e-02, -9.7790e-02,\n",
       "                        6.7229e-02,  3.6863e-02, -4.2363e-02,  6.3149e-02,  2.5663e-02,\n",
       "                       -1.0097e-01, -1.1811e-02, -4.9910e-02,  1.2100e-01,  1.1904e-01,\n",
       "                        1.5155e-02, -1.2248e-01, -6.9303e-02, -3.5325e-02, -4.2324e-02,\n",
       "                        6.6575e-02,  7.8248e-02,  1.1321e-01, -1.2033e-01,  1.1548e-01,\n",
       "                       -1.2336e-01, -3.6612e-02,  1.1803e-01,  9.2157e-02,  1.0513e-01,\n",
       "                        1.1724e-01,  3.3738e-02,  1.1483e-01, -7.7134e-02, -6.6426e-02,\n",
       "                        7.9455e-02,  1.7999e-04, -5.3981e-02, -2.3747e-02, -2.0541e-02,\n",
       "                        3.6473e-02,  4.8482e-02, -4.5822e-02, -1.2314e-01],\n",
       "                      [ 1.3629e-03, -7.9334e-02,  3.7792e-02,  5.3457e-02,  6.6710e-02,\n",
       "                        9.1208e-02,  7.5969e-02,  1.1511e-01, -8.6801e-02, -9.8462e-02,\n",
       "                       -4.6650e-03,  2.8749e-02,  1.1752e-01,  7.2444e-02,  3.7577e-02,\n",
       "                        5.1527e-03, -2.5348e-02,  9.5324e-02,  4.7324e-02,  1.2244e-01,\n",
       "                       -2.7292e-02, -5.8085e-02,  3.8860e-03,  5.2856e-03, -9.9092e-02,\n",
       "                        5.9887e-02,  2.9812e-02,  6.0907e-02, -4.7879e-02,  1.6202e-02,\n",
       "                        5.9457e-02,  3.6879e-02, -3.1061e-02, -4.6855e-02,  1.3263e-02,\n",
       "                        6.5425e-02, -7.9896e-02, -7.8712e-02,  6.0929e-02, -7.7587e-02,\n",
       "                        1.6226e-02,  1.2148e-02, -1.1688e-01, -8.8071e-02, -1.2046e-01,\n",
       "                        3.1083e-02,  1.1875e-01,  9.4195e-02, -2.6282e-02, -2.0050e-02,\n",
       "                       -4.2702e-02, -1.2222e-01,  1.4372e-02, -9.1972e-02,  8.2209e-02,\n",
       "                       -8.7207e-02,  3.8597e-02, -5.7177e-02, -8.7414e-02,  6.8626e-02,\n",
       "                       -5.9243e-02,  6.0804e-02, -3.6666e-02,  2.3952e-02],\n",
       "                      [-3.5110e-02, -7.7264e-02,  9.7708e-02, -3.4960e-02, -8.7496e-02,\n",
       "                        1.1905e-01,  7.0889e-02, -3.6446e-02,  7.4994e-02, -3.5906e-02,\n",
       "                        3.8125e-02,  1.0966e-01, -2.1034e-02,  2.0508e-02,  4.9058e-02,\n",
       "                       -1.4856e-02, -1.1072e-01,  1.1233e-01,  1.6780e-03,  3.4624e-02,\n",
       "                        1.1366e-01, -2.3696e-03, -2.0590e-02, -3.3071e-02, -4.7259e-02,\n",
       "                        1.3000e-02, -7.3016e-06,  1.0007e-01, -1.6948e-02, -1.1479e-01,\n",
       "                        4.2502e-02,  6.2846e-02, -9.3602e-02,  9.1548e-03, -1.1484e-01,\n",
       "                       -7.6902e-02,  6.1775e-02,  1.6671e-02,  9.0049e-02,  8.6192e-02,\n",
       "                        3.4462e-02, -7.3063e-02, -1.0269e-01,  5.7446e-02, -9.5950e-02,\n",
       "                        7.6422e-03, -8.5831e-02,  4.3280e-02,  3.9653e-02, -7.1801e-02,\n",
       "                       -2.7958e-02,  1.8055e-02, -3.9907e-02,  6.2777e-02,  8.2675e-02,\n",
       "                        7.0957e-02, -1.6523e-02, -3.8310e-02,  1.3892e-02, -5.7476e-02,\n",
       "                        1.0780e-01,  7.9079e-02,  7.2135e-03, -3.1838e-02],\n",
       "                      [-8.3831e-02, -1.1267e-01, -4.3430e-02,  1.0130e-01,  3.7034e-02,\n",
       "                       -4.1618e-02, -8.8200e-03, -2.7353e-03, -3.0599e-02,  1.9038e-02,\n",
       "                       -8.4070e-02,  6.6344e-02, -9.1040e-04,  8.5163e-02,  5.1262e-02,\n",
       "                       -2.2798e-02,  4.7747e-02, -9.2654e-02, -6.1552e-02, -8.0250e-02,\n",
       "                        6.6987e-02, -1.7073e-02, -4.7982e-02, -3.1641e-02,  6.6320e-02,\n",
       "                       -1.0031e-01,  1.1875e-01, -2.1830e-02, -7.8907e-02, -9.7409e-03,\n",
       "                       -1.2334e-01, -1.1547e-01, -5.2485e-02, -9.6648e-02,  1.2142e-01,\n",
       "                       -2.0006e-02, -4.2445e-02,  7.3438e-02, -1.5533e-02,  9.8159e-03,\n",
       "                       -1.0020e-02,  1.0254e-01,  7.7829e-02, -2.4517e-02, -1.0396e-01,\n",
       "                       -1.0363e-01,  9.9438e-02, -7.6827e-02,  2.3203e-03, -7.9457e-02,\n",
       "                       -7.4646e-02,  2.4846e-02, -1.5295e-02, -2.2270e-02, -4.6817e-02,\n",
       "                       -6.4339e-02, -6.9527e-02,  1.1908e-01,  8.4956e-02, -9.5407e-02,\n",
       "                        3.3654e-02,  7.9767e-02, -2.9229e-02,  1.1590e-01],\n",
       "                      [-1.0479e-01, -4.1307e-02, -1.2390e-01, -4.4595e-03, -1.8307e-02,\n",
       "                        3.8020e-02, -7.8704e-02, -1.1946e-01, -1.2279e-02, -1.1671e-01,\n",
       "                        2.5827e-02,  1.0016e-01,  1.1006e-01,  7.4268e-02, -2.7812e-02,\n",
       "                        4.0308e-02,  5.5484e-03, -8.0609e-02, -1.0169e-01,  1.1639e-01,\n",
       "                        4.0521e-02, -1.2336e-01, -7.8722e-02,  1.9311e-03, -1.1364e-01,\n",
       "                       -3.7051e-02,  1.7519e-03, -9.3330e-02, -1.8379e-02,  2.2782e-02,\n",
       "                       -1.2108e-01,  5.6412e-02,  9.1000e-02,  9.1342e-03,  5.5466e-02,\n",
       "                        6.7600e-02, -1.1298e-01,  4.5249e-03,  2.5386e-02, -5.1146e-02,\n",
       "                        5.8975e-02,  8.9095e-02,  3.3324e-02,  6.1060e-02, -9.7049e-02,\n",
       "                        4.7338e-02, -2.2913e-02, -8.9448e-02,  2.6432e-02, -6.1390e-02,\n",
       "                        2.3417e-02,  1.3744e-02, -5.0910e-02,  3.9911e-02,  7.4155e-02,\n",
       "                       -1.1842e-01,  9.6254e-02, -5.1260e-02, -8.4105e-02, -8.7210e-02,\n",
       "                        7.8214e-02,  6.8056e-03, -7.2888e-02, -2.7541e-02],\n",
       "                      [ 3.3654e-02, -5.4885e-02,  8.8791e-02,  1.3128e-02,  2.2816e-02,\n",
       "                       -5.4905e-02,  1.0926e-01, -6.8602e-02, -7.0738e-02,  4.6249e-02,\n",
       "                       -1.0210e-01,  2.4503e-02, -1.1530e-01, -9.8175e-02, -4.5058e-02,\n",
       "                        1.2198e-02,  1.1923e-01, -1.0394e-01,  3.1735e-02, -3.0394e-02,\n",
       "                        4.7283e-02,  4.6651e-02, -2.9785e-02, -5.0018e-02,  5.7134e-02,\n",
       "                        5.0652e-02,  7.9898e-02, -1.0518e-02, -6.5851e-02, -5.1630e-02,\n",
       "                        9.7346e-04, -8.7795e-02,  2.8662e-02,  7.6277e-02,  3.9423e-02,\n",
       "                        7.3178e-02,  1.0729e-01, -2.7210e-02, -5.8762e-02, -1.3894e-02,\n",
       "                       -5.9293e-02,  7.5217e-02,  7.6009e-02, -1.1106e-01, -1.1885e-01,\n",
       "                       -2.1317e-02,  3.4843e-02, -1.4125e-02, -1.1048e-01,  5.4393e-02,\n",
       "                        1.7027e-02,  1.9751e-02,  2.2286e-02, -3.8109e-02, -6.9673e-02,\n",
       "                        5.9668e-02,  1.2158e-01, -7.6628e-02,  2.8893e-02, -6.0385e-02,\n",
       "                        1.3920e-02, -2.4483e-02,  2.7518e-03,  1.0763e-02],\n",
       "                      [ 8.3074e-02,  8.4412e-02,  1.2148e-01,  7.1681e-02,  7.6996e-02,\n",
       "                       -8.6696e-02, -1.1541e-01, -9.4451e-03,  5.2981e-02, -1.1973e-02,\n",
       "                       -6.2258e-02, -4.8076e-02,  1.0128e-01, -1.1553e-02,  2.4691e-02,\n",
       "                       -4.1524e-02,  4.4957e-02, -1.2091e-01, -9.6799e-02,  1.1980e-02,\n",
       "                       -4.3519e-02, -1.0878e-01,  2.6796e-02, -9.6567e-02,  1.1161e-01,\n",
       "                       -2.5282e-02,  7.0002e-03,  8.8257e-03, -2.4870e-03, -3.8601e-02,\n",
       "                        4.9287e-02, -6.6576e-03, -1.0539e-01,  1.1620e-01, -1.1385e-01,\n",
       "                       -3.8445e-03, -2.2762e-03,  4.5639e-03, -8.7059e-02,  3.9372e-02,\n",
       "                       -9.5255e-02,  5.0555e-02,  2.5576e-02,  3.7944e-03, -9.5937e-02,\n",
       "                       -1.0531e-01,  3.0966e-02, -4.8206e-02,  9.1278e-02, -6.7359e-02,\n",
       "                        6.2869e-02, -5.5821e-02, -9.8232e-02, -1.1094e-01, -4.3728e-02,\n",
       "                        5.9314e-02,  9.9494e-02, -3.4746e-02, -3.4919e-02, -8.2789e-02,\n",
       "                       -8.0506e-02,  1.5895e-02,  1.0807e-01, -1.2199e-01]])),\n",
       "             ('fc3.bias',\n",
       "              tensor([ 0.0432,  0.0081, -0.1209, -0.0285, -0.0264,  0.0081, -0.0480,  0.0970,\n",
       "                       0.0186, -0.0515]))])"
      ]
     },
     "execution_count": 23,
     "metadata": {},
     "output_type": "execute_result"
    }
   ],
   "source": [
    "loaded_state_dict = torch.load('weights.pt')\n",
    "loaded_state_dict"
   ]
  },
  {
   "cell_type": "code",
   "execution_count": 24,
   "metadata": {
    "colab": {
     "base_uri": "https://localhost:8080/"
    },
    "executionInfo": {
     "elapsed": 5,
     "status": "ok",
     "timestamp": 1676523787663,
     "user": {
      "displayName": "Yana Savchenko",
      "userId": "10647193167803909811"
     },
     "user_tz": -420
    },
    "id": "T0b1-Zeh8neM",
    "outputId": "fdce6db7-26e9-492d-80e4-31b8899308cf"
   },
   "outputs": [
    {
     "data": {
      "text/plain": [
       "<All keys matched successfully>"
      ]
     },
     "execution_count": 24,
     "metadata": {},
     "output_type": "execute_result"
    }
   ],
   "source": [
    "model.load_state_dict(loaded_state_dict)  # Загрузили в модель веса"
   ]
  },
  {
   "cell_type": "markdown",
   "metadata": {
    "id": "o4feOBvM85AV"
   },
   "source": [
    "## Подготовка данных"
   ]
  },
  {
   "cell_type": "code",
   "execution_count": 26,
   "metadata": {
    "executionInfo": {
     "elapsed": 372,
     "status": "ok",
     "timestamp": 1676523942759,
     "user": {
      "displayName": "Yana Savchenko",
      "userId": "10647193167803909811"
     },
     "user_tz": -420
    },
    "id": "y78HVO-w81g_"
   },
   "outputs": [],
   "source": [
    "# Обработка входного изображения:\n",
    "transform = torchvision.transforms.Compose([\n",
    "    torchvision.transforms.ToTensor(),  # (0 - 1)\n",
    "    torchvision.transforms.Normalize(  # (-1, 1)\n",
    "        mean=[0.5],\n",
    "        std=[0.5],\n",
    "    ),\n",
    "])"
   ]
  },
  {
   "cell_type": "code",
   "execution_count": 27,
   "metadata": {
    "colab": {
     "base_uri": "https://localhost:8080/",
     "height": 484,
     "referenced_widgets": [
      "c29fbcb29f6a4deb932319cd20aa02ea",
      "7ea66e23ec984620b28060df704017ef",
      "b0e52225ac3d4af19f890e9fef91b293",
      "7302ce260f444f2e9dbc79c751c39722",
      "2df8e3ad1b7940b7b7f45a4d5522e178",
      "75c6dcccd38544289942bbd5642b1bd9",
      "cbbd7e8f57324535a00ef6e3d9517aae",
      "1d681516d1524a0d9f311edc3a014653",
      "b019d016d1ea487f9b003e566591e4bf",
      "6352071a0cc0496688ae639b07ff55c2",
      "464f7897d2954b9a8912572fb3bcd7cc",
      "dbab355b606f43f0bc7fd5763974d1bc",
      "5e60168e77f7401fb35ac3dc03273fd8",
      "11be0bb81b6e439ba8fb0608bf6893f7",
      "c13af1361cbc43b9be129ccb0b9c8dc3",
      "44c6bcc32bcf49fe834597bb57ebd7ab",
      "2f10db6331b54effa7b82340f7b38ff0",
      "3b8ffd33b50b4585b8768ffc6015d05d",
      "fde8465f4ad44755b601e2d4289445c4",
      "0c6360f0f3a24cab9e242eb30b4ac165",
      "ee3187c9c15b4b098041ab13beae5f8c",
      "c55a02fdafdc4a04abf7da18207a1d0e",
      "7b65783dc2a840ec9d30dcd3dd33704f",
      "327d7d57053842c6a72ab5982f5deeb7",
      "4787aeca89cd4b8eaad50132c3e6232a",
      "8a23cd3aef1c4ac9a4a8ede71cd6a7e7",
      "eef502552cc64cbc9772aaa1433f1081",
      "e56d66c87f6140c2a6ec40ed3478c3fc",
      "4f58277337e2408ba8cae5adfda4f671",
      "78f570b4afd24db49bbfdc9d648df7be",
      "ac7ebdb3c2e94ecdad07f01976e81223",
      "e7d76bb264cb4cecacf79c0edd5927b2",
      "c39fe0a53eca419aa4bf9c8441fcc198",
      "c91d1e24027d4f7dac51bebdc0c99dcd",
      "ed58a35a117a456ab07e4363a023a928",
      "3da10d7bb72b44a1a11a3efecbef8cb6",
      "7bca476feff04c7ab0a8929f6ba1a5f8",
      "e53db42b14494350b4b2366b212b1def",
      "a75fde6ed7484f74b3996c65237920bc",
      "a72ac6aacb894cb68e0563f16867609b",
      "8ebe8b5144ce4d88a71c80b02243af73",
      "a8b9539b94604e8da303d1d34f2b5541",
      "0f3ef49b40c14778a5e7a6d0d4c4c1b3",
      "59b29a5ff8a347faaf670b8da704ec00"
     ]
    },
    "executionInfo": {
     "elapsed": 945,
     "status": "ok",
     "timestamp": 1676523947500,
     "user": {
      "displayName": "Yana Savchenko",
      "userId": "10647193167803909811"
     },
     "user_tz": -420
    },
    "id": "pm99XIiO81kV",
    "outputId": "64dbd8d7-2af5-43e1-ac5a-f923943b2a91"
   },
   "outputs": [
    {
     "name": "stdout",
     "output_type": "stream",
     "text": [
      "Downloading http://yann.lecun.com/exdb/mnist/train-images-idx3-ubyte.gz\n",
      "Downloading http://yann.lecun.com/exdb/mnist/train-images-idx3-ubyte.gz to datasets/MNIST/raw/train-images-idx3-ubyte.gz\n"
     ]
    },
    {
     "data": {
      "application/vnd.jupyter.widget-view+json": {
       "model_id": "c29fbcb29f6a4deb932319cd20aa02ea",
       "version_major": 2,
       "version_minor": 0
      },
      "text/plain": [
       "  0%|          | 0/9912422 [00:00<?, ?it/s]"
      ]
     },
     "metadata": {},
     "output_type": "display_data"
    },
    {
     "name": "stdout",
     "output_type": "stream",
     "text": [
      "Extracting datasets/MNIST/raw/train-images-idx3-ubyte.gz to datasets/MNIST/raw\n",
      "\n",
      "Downloading http://yann.lecun.com/exdb/mnist/train-labels-idx1-ubyte.gz\n",
      "Downloading http://yann.lecun.com/exdb/mnist/train-labels-idx1-ubyte.gz to datasets/MNIST/raw/train-labels-idx1-ubyte.gz\n"
     ]
    },
    {
     "data": {
      "application/vnd.jupyter.widget-view+json": {
       "model_id": "dbab355b606f43f0bc7fd5763974d1bc",
       "version_major": 2,
       "version_minor": 0
      },
      "text/plain": [
       "  0%|          | 0/28881 [00:00<?, ?it/s]"
      ]
     },
     "metadata": {},
     "output_type": "display_data"
    },
    {
     "name": "stdout",
     "output_type": "stream",
     "text": [
      "Extracting datasets/MNIST/raw/train-labels-idx1-ubyte.gz to datasets/MNIST/raw\n",
      "\n",
      "Downloading http://yann.lecun.com/exdb/mnist/t10k-images-idx3-ubyte.gz\n",
      "Downloading http://yann.lecun.com/exdb/mnist/t10k-images-idx3-ubyte.gz to datasets/MNIST/raw/t10k-images-idx3-ubyte.gz\n"
     ]
    },
    {
     "data": {
      "application/vnd.jupyter.widget-view+json": {
       "model_id": "7b65783dc2a840ec9d30dcd3dd33704f",
       "version_major": 2,
       "version_minor": 0
      },
      "text/plain": [
       "  0%|          | 0/1648877 [00:00<?, ?it/s]"
      ]
     },
     "metadata": {},
     "output_type": "display_data"
    },
    {
     "name": "stdout",
     "output_type": "stream",
     "text": [
      "Extracting datasets/MNIST/raw/t10k-images-idx3-ubyte.gz to datasets/MNIST/raw\n",
      "\n",
      "Downloading http://yann.lecun.com/exdb/mnist/t10k-labels-idx1-ubyte.gz\n",
      "Downloading http://yann.lecun.com/exdb/mnist/t10k-labels-idx1-ubyte.gz to datasets/MNIST/raw/t10k-labels-idx1-ubyte.gz\n"
     ]
    },
    {
     "data": {
      "application/vnd.jupyter.widget-view+json": {
       "model_id": "c91d1e24027d4f7dac51bebdc0c99dcd",
       "version_major": 2,
       "version_minor": 0
      },
      "text/plain": [
       "  0%|          | 0/4542 [00:00<?, ?it/s]"
      ]
     },
     "metadata": {},
     "output_type": "display_data"
    },
    {
     "name": "stdout",
     "output_type": "stream",
     "text": [
      "Extracting datasets/MNIST/raw/t10k-labels-idx1-ubyte.gz to datasets/MNIST/raw\n",
      "\n"
     ]
    },
    {
     "name": "stderr",
     "output_type": "stream",
     "text": [
      "/usr/local/lib/python3.8/dist-packages/torch/utils/data/dataloader.py:554: UserWarning: This DataLoader will create 4 worker processes in total. Our suggested max number of worker in current system is 2, which is smaller than what this DataLoader is going to create. Please be aware that excessive worker creation might get DataLoader running slow or even freeze, lower the worker number to avoid potential slowness/freeze if necessary.\n",
      "  warnings.warn(_create_warning_msg(\n"
     ]
    }
   ],
   "source": [
    "# В PyTorch есть 2 основных класса для работы с тренировочными данными:\n",
    "#\n",
    "# 1. Dataset: https://pytorch.org/docs/stable/data.html#torch.utils.data.Dataset\n",
    "# Загружает и обрабатывает данные.\n",
    "train_dataset = torchvision.datasets.MNIST(  # MNIST - база изображений рукописных цифр.\n",
    "    root='datasets',\n",
    "    download=True,\n",
    "    train=True,\n",
    "    transform=transform,\n",
    ")\n",
    "\n",
    "# 2. Dataloader: https://pytorch.org/docs/stable/data.html#torch.utils.data.DataLoader\n",
    "# Производит пакетный (batch) поток данных.\n",
    "train_dataloader = torch.utils.data.DataLoader(\n",
    "    dataset=train_dataset,\n",
    "    batch_size=256,\n",
    "    shuffle=True,\n",
    "    num_workers=4,\n",
    ")"
   ]
  },
  {
   "cell_type": "code",
   "execution_count": 28,
   "metadata": {
    "executionInfo": {
     "elapsed": 898,
     "status": "ok",
     "timestamp": 1676523963203,
     "user": {
      "displayName": "Yana Savchenko",
      "userId": "10647193167803909811"
     },
     "user_tz": -420
    },
    "id": "uk6Mfwkr81pU"
   },
   "outputs": [],
   "source": [
    "valid_dataset = torchvision.datasets.MNIST(\n",
    "    root='datasets',\n",
    "    download=True,\n",
    "    train=False,\n",
    "    transform=transform,\n",
    ")\n",
    "\n",
    "valid_dataloader = torch.utils.data.DataLoader(\n",
    "    dataset=valid_dataset,\n",
    "    batch_size=256,\n",
    "    shuffle=True,\n",
    "    num_workers=4,\n",
    ")"
   ]
  },
  {
   "cell_type": "code",
   "execution_count": 29,
   "metadata": {
    "executionInfo": {
     "elapsed": 362,
     "status": "ok",
     "timestamp": 1676523986494,
     "user": {
      "displayName": "Yana Savchenko",
      "userId": "10647193167803909811"
     },
     "user_tz": -420
    },
    "id": "Qnw7vJJp9UH-"
   },
   "outputs": [],
   "source": [
    "batch, _ = next(iter(train_dataloader))"
   ]
  },
  {
   "cell_type": "code",
   "execution_count": 30,
   "metadata": {
    "colab": {
     "base_uri": "https://localhost:8080/"
    },
    "executionInfo": {
     "elapsed": 381,
     "status": "ok",
     "timestamp": 1676523988913,
     "user": {
      "displayName": "Yana Savchenko",
      "userId": "10647193167803909811"
     },
     "user_tz": -420
    },
    "id": "2c1ry2259ULE",
    "outputId": "b7e4da8d-a832-4ed3-ec20-4bac5acd5db4"
   },
   "outputs": [
    {
     "data": {
      "text/plain": [
       "torch.Size([256, 1, 28, 28])"
      ]
     },
     "execution_count": 30,
     "metadata": {},
     "output_type": "execute_result"
    }
   ],
   "source": [
    "batch.shape"
   ]
  },
  {
   "cell_type": "code",
   "execution_count": 31,
   "metadata": {
    "colab": {
     "base_uri": "https://localhost:8080/",
     "height": 585
    },
    "executionInfo": {
     "elapsed": 2160,
     "status": "ok",
     "timestamp": 1676524084734,
     "user": {
      "displayName": "Yana Savchenko",
      "userId": "10647193167803909811"
     },
     "user_tz": -420
    },
    "id": "ygYbEjaD9UNe",
    "outputId": "e7229be8-7599-4917-d34a-0c1a43e454ff"
   },
   "outputs": [
    {
     "data": {
      "image/png": "[encoded data removed]",
      "text/plain": [
       "<Figure size 720x576 with 9 Axes>"
      ]
     },
     "metadata": {
      "needs_background": "light"
     },
     "output_type": "display_data"
    }
   ],
   "source": [
    "figure = plt.figure()\n",
    "\n",
    "for index in range(9):\n",
    "    plt.subplot(3, 3, index + 1)\n",
    "    plt.tight_layout()\n",
    "    plt.imshow(batch[index][0], cmap='gray', interpolation='none')"
   ]
  },
  {
   "cell_type": "markdown",
   "metadata": {
    "id": "ICqPH3LV9crq"
   },
   "source": [
    "## Обучение"
   ]
  },
  {
   "cell_type": "code",
   "execution_count": null,
   "metadata": {
    "id": "9Qh0gRyb9UQM"
   },
   "outputs": [],
   "source": [
    "criterion = nn.CrossEntropyLoss()  # https://pytorch.org/docs/stable/generated/torch.nn.NLLLoss.html\n",
    "\n",
    "optimizer = torch.optim.SGD(  # https://pytorch.org/docs/stable/generated/torch.optim.SGD.html\n",
    "    params=model.parameters(),  # Параметры, которые будут обучаться в процессе тренировки сети\n",
    "    lr=0.01,\n",
    "    momentum=0.9,\n",
    ")\n",
    "\n",
    "\n",
    "def train_step() -> float:\n",
    "    model.train()\n",
    "    \n",
    "    running_loss = 0.\n",
    "    for images, labels in train_dataloader:\n",
    "        images = images.cuda()\n",
    "        labels = labels.cuda()\n",
    "        images = images.view(images.shape[0], -1)  # [256, 1, 28, 28] -> [256, 1 * 28 * 28]\n",
    "        \n",
    "        # Удаляем накопленные ранее градиенты.\n",
    "        # parameter.grad = 0\n",
    "        optimizer.zero_grad()\n",
    "        \n",
    "        # Делаем проход (forward pass).\n",
    "        # Состояние модели `train` обеспечивает сохранение промежуточных результатов вычислений.\n",
    "        # Эти сохраненные значения будут использованы ниже для вычисления градиента функции потерь.\n",
    "        output = model(images)\n",
    "        \n",
    "        # Вычисляем функцию потерь на основе предсказания модели.\n",
    "        loss = criterion(output, labels)\n",
    "\n",
    "        # Вычисляем градиент: направление, в котором функция потерь возрастает максимально быстро.\n",
    "        # parameter.grad += dloss / dparameter\n",
    "        loss.backward()\n",
    "\n",
    "        # parameter += -lr * parameter.grad\n",
    "        # \n",
    "        # PyTorch SGD:\n",
    "        # velocity = momentum * velocity + parameter.grad\n",
    "        # parameter += - lr * velocity\n",
    "        optimizer.step()\n",
    "        \n",
    "        # Накапливаем статистику.\n",
    "        running_loss += loss\n",
    "    \n",
    "    # Контекстный менеджер `torch.no_grad` позволяет отключить вычисление градиентов.\n",
    "    # Вычисления, в которые входят обучаемые параметры, не имеющие отношения к сети повлияют на процесс обучения,\n",
    "    # если для них будут накапливаться градиенты.\n",
    "    # Экономия памяти.\n",
    "    with torch.no_grad():\n",
    "        train_loss = running_loss / len(train_dataloader)\n",
    "    return train_loss.item()\n",
    "\n",
    "\n",
    "def valid_step() -> Tuple[float, float]:\n",
    "    model.eval()\n",
    "\n",
    "    correct_total = 0.\n",
    "    running_loss = 0.\n",
    "    with torch.no_grad():\n",
    "        for images, labels in valid_dataloader:\n",
    "            images = images.cuda()\n",
    "            labels = labels.cuda()\n",
    "            images = images.view(images.shape[0], -1)\n",
    "\n",
    "            output = model(images)\n",
    "            \n",
    "            prediction = output.max(  # [bs, num_classes] -> [bs, 1]\n",
    "                dim=1,\n",
    "                keepdim=True,\n",
    "            )[1] # # .argmax(dim=1)\n",
    "            correct_total += prediction.eq(labels.view_as(prediction)).sum()\n",
    "            \n",
    "            loss = criterion(output, labels)\n",
    "            running_loss += loss\n",
    "        \n",
    "    valid_loss = running_loss / len(valid_dataloader)\n",
    "    accuracy = correct_total / len(valid_dataloader.dataset)\n",
    "    return valid_loss.item(), accuracy.item()"
   ]
  },
  {
   "cell_type": "code",
   "execution_count": null,
   "metadata": {
    "id": "2I7UlkeZ9USw"
   },
   "outputs": [],
   "source": [
    "train_losses = []\n",
    "valid_losses = []\n",
    "valid_accs = []"
   ]
  },
  {
   "cell_type": "code",
   "execution_count": null,
   "metadata": {
    "colab": {
     "base_uri": "https://localhost:8080/"
    },
    "executionInfo": {
     "elapsed": 731444,
     "status": "ok",
     "timestamp": 1676498513331,
     "user": {
      "displayName": "Yana Savchenko",
      "userId": "10647193167803909811"
     },
     "user_tz": -420
    },
    "id": "l-F6jtlh9t-J",
    "outputId": "abbeacfa-a432-45c9-ec65-7ac540c28177"
   },
   "outputs": [
    {
     "name": "stderr",
     "output_type": "stream",
     "text": [
      "Avg. train/valid loss: 0.0057/0.0752: 100%|██████████| 50/50 [12:11<00:00, 14.62s/it]\n"
     ]
    }
   ],
   "source": [
    "epochs = 50\n",
    "model.cuda()  # model.to('cuda:0')\n",
    "\n",
    "for _ in (pbar := tqdm(range(epochs))):\n",
    "    train_loss = train_step()\n",
    "    valid_loss, valid_acc = valid_step()\n",
    "    \n",
    "    train_losses.append(train_loss)\n",
    "    valid_losses.append(valid_loss)\n",
    "    valid_accs.append(valid_acc)\n",
    "    \n",
    "    pbar.set_description(f'Avg. train/valid loss: {train_loss:.4f}/{valid_loss:.4f}')"
   ]
  },
  {
   "cell_type": "code",
   "execution_count": null,
   "metadata": {
    "colab": {
     "base_uri": "https://localhost:8080/",
     "height": 732
    },
    "executionInfo": {
     "elapsed": 36,
     "status": "ok",
     "timestamp": 1676498513332,
     "user": {
      "displayName": "Yana Savchenko",
      "userId": "10647193167803909811"
     },
     "user_tz": -420
    },
    "id": "lg_woYzg_G9Y",
    "outputId": "10e7d042-7504-4133-86e1-109f99ff54fc"
   },
   "outputs": [
    {
     "data": {
      "text/plain": [
       "Text(0, 0.5, 'Loss')"
      ]
     },
     "execution_count": 51,
     "metadata": {},
     "output_type": "execute_result"
    },
    {
     "data": {
      "image/png": "[encoded data removed]",
      "text/plain": [
       "<Figure size 1152x864 with 1 Axes>"
      ]
     },
     "metadata": {
      "needs_background": "light"
     },
     "output_type": "display_data"
    }
   ],
   "source": [
    "fig = plt.figure(figsize=(16, 12))\n",
    "\n",
    "plt.plot(train_losses[4:], label='train')\n",
    "plt.plot(valid_losses[4:], label='valid')\n",
    "plt.legend()\n",
    "plt.xlabel('Iterations')\n",
    "plt.ylabel('Loss')"
   ]
  },
  {
   "cell_type": "code",
   "execution_count": null,
   "metadata": {
    "colab": {
     "base_uri": "https://localhost:8080/",
     "height": 732
    },
    "executionInfo": {
     "elapsed": 28,
     "status": "ok",
     "timestamp": 1676498513336,
     "user": {
      "displayName": "Yana Savchenko",
      "userId": "10647193167803909811"
     },
     "user_tz": -420
    },
    "id": "G6FzNZpN_HH5",
    "outputId": "32ee7cf3-7fe4-418b-ba2f-6aaf957430f0"
   },
   "outputs": [
    {
     "data": {
      "text/plain": [
       "Text(0, 0.5, 'Accuracy')"
      ]
     },
     "execution_count": 52,
     "metadata": {},
     "output_type": "execute_result"
    },
    {
     "data": {
      "image/png": "[encoded data removed]",
      "text/plain": [
       "<Figure size 1152x864 with 1 Axes>"
      ]
     },
     "metadata": {
      "needs_background": "light"
     },
     "output_type": "display_data"
    }
   ],
   "source": [
    "fig = plt.figure(figsize=(16, 12))\n",
    "\n",
    "plt.plot(valid_accs)\n",
    "plt.xlabel('Iterations')\n",
    "plt.ylabel('Accuracy')"
   ]
  },
  {
   "cell_type": "code",
   "execution_count": null,
   "metadata": {
    "colab": {
     "base_uri": "https://localhost:8080/",
     "height": 283
    },
    "executionInfo": {
     "elapsed": 677,
     "status": "ok",
     "timestamp": 1676498513991,
     "user": {
      "displayName": "Yana Savchenko",
      "userId": "10647193167803909811"
     },
     "user_tz": -420
    },
    "id": "uy3Iysxt_HMY",
    "outputId": "35482f7b-b868-4369-baed-0b9cc59f3993"
   },
   "outputs": [
    {
     "data": {
      "text/plain": [
       "<matplotlib.image.AxesImage at 0x7fe0a9e79460>"
      ]
     },
     "execution_count": 53,
     "metadata": {},
     "output_type": "execute_result"
    },
    {
     "data": {
      "image/png": "[encoded data removed]",
      "text/plain": [
       "<Figure size 432x288 with 1 Axes>"
      ]
     },
     "metadata": {
      "needs_background": "light"
     },
     "output_type": "display_data"
    }
   ],
   "source": [
    "batch, _ = next(iter(train_dataloader))\n",
    "sample = batch[randrange(0, 255)]\n",
    "plt.imshow(sample[0], cmap='gray', interpolation='none')"
   ]
  },
  {
   "cell_type": "code",
   "execution_count": null,
   "metadata": {
    "colab": {
     "base_uri": "https://localhost:8080/"
    },
    "executionInfo": {
     "elapsed": 25,
     "status": "ok",
     "timestamp": 1676498513993,
     "user": {
      "displayName": "Yana Savchenko",
      "userId": "10647193167803909811"
     },
     "user_tz": -420
    },
    "id": "HM-OQZYUCM-j",
    "outputId": "43c99326-d147-490b-d544-b987eacb6dce"
   },
   "outputs": [
    {
     "data": {
      "text/plain": [
       "FullyConnectedNetwork(\n",
       "  (fc1): Linear(in_features=784, out_features=128, bias=True)\n",
       "  (fc2): Linear(in_features=128, out_features=64, bias=True)\n",
       "  (fc3): Linear(in_features=64, out_features=10, bias=True)\n",
       ")"
      ]
     },
     "execution_count": 54,
     "metadata": {},
     "output_type": "execute_result"
    }
   ],
   "source": [
    "model.cpu()"
   ]
  },
  {
   "cell_type": "code",
   "execution_count": null,
   "metadata": {
    "id": "IsC-6nxs_HQA"
   },
   "outputs": [],
   "source": [
    "prediction = model(sample.view(sample.shape[0], -1))"
   ]
  },
  {
   "cell_type": "code",
   "execution_count": null,
   "metadata": {
    "colab": {
     "base_uri": "https://localhost:8080/"
    },
    "executionInfo": {
     "elapsed": 22,
     "status": "ok",
     "timestamp": 1676498513996,
     "user": {
      "displayName": "Yana Savchenko",
      "userId": "10647193167803909811"
     },
     "user_tz": -420
    },
    "id": "EdVbHmC__HTl",
    "outputId": "1f7898db-d5ec-47db-a2df-5438df4584d4"
   },
   "outputs": [
    {
     "data": {
      "text/plain": [
       "tensor([[-7.2245, 16.2220, -2.9094, -8.4230,  6.0215, -4.0992,  0.0399,  4.2468,\n",
       "          1.5978, -9.6569]], grad_fn=<AddmmBackward0>)"
      ]
     },
     "execution_count": 56,
     "metadata": {},
     "output_type": "execute_result"
    }
   ],
   "source": [
    "prediction"
   ]
  },
  {
   "cell_type": "code",
   "execution_count": null,
   "metadata": {
    "colab": {
     "base_uri": "https://localhost:8080/"
    },
    "executionInfo": {
     "elapsed": 18,
     "status": "ok",
     "timestamp": 1676498513997,
     "user": {
      "displayName": "Yana Savchenko",
      "userId": "10647193167803909811"
     },
     "user_tz": -420
    },
    "id": "I9K-IAuA9uBE",
    "outputId": "622061b7-44f8-479a-a9d2-44111048d120"
   },
   "outputs": [
    {
     "data": {
      "text/plain": [
       "1"
      ]
     },
     "execution_count": 57,
     "metadata": {},
     "output_type": "execute_result"
    }
   ],
   "source": [
    "# .argmax(dim=1)\n",
    "prediction.max(\n",
    "    dim=1,\n",
    "    keepdim=True,\n",
    ")[1].item()"
   ]
  },
  {
   "cell_type": "markdown",
   "metadata": {
    "id": "N_r_9qYVvGgD"
   },
   "source": [
    "# Обратное распространение ошибки\n",
    "\n",
    "Как считать градиент функции потерь (лосса) по весам?\n",
    "\n",
    "![](images/5.png)\n",
    "\n",
    "*Прямой проход*\n",
    "\n",
    "![](images/6.png)\n",
    "\n",
    "*Обратный проход*\n",
    "\n",
    "Во время обратного распространения ошибки алгоритм считает градиенты лосса по входам слоев (начиная с конца). Чтобы посчитать градиент по предыдущему слою, нужно домножить градиент для текущего слоя на соответствующую частную производную.\n",
    "\n",
    "На примере:\n",
    "\n",
    "![](images/7.png)\n",
    "\n",
    "*Пример вычисления градиентов*"
   ]
  },
  {
   "cell_type": "code",
   "execution_count": null,
   "metadata": {},
   "outputs": [],
   "source": []
  }
 ],
 "metadata": {
  "accelerator": "GPU",
  "colab": {
   "provenance": []
  },
  "gpuClass": "standard",
  "kernelspec": {
   "display_name": "Python 3 (ipykernel)",
   "language": "python",
   "name": "python3"
  },
  "language_info": {
   "codemirror_mode": {
    "name": "ipython",
    "version": 3
   },
   "file_extension": ".py",
   "mimetype": "text/x-python",
   "name": "python",
   "nbconvert_exporter": "python",
   "pygments_lexer": "ipython3",
   "version": "3.7.13"
  },
  "widgets": {
   "application/vnd.jupyter.widget-state+json": {
    "0c6360f0f3a24cab9e242eb30b4ac165": {
     "model_module": "@jupyter-widgets/controls",
     "model_module_version": "1.5.0",
     "model_name": "ProgressStyleModel",
     "state": {
      "_model_module": "@jupyter-widgets/controls",
      "_model_module_version": "1.5.0",
      "_model_name": "ProgressStyleModel",
      "_view_count": null,
      "_view_module": "@jupyter-widgets/base",
      "_view_module_version": "1.2.0",
      "_view_name": "StyleView",
      "bar_color": null,
      "description_width": ""
     }
    },
    "0f3ef49b40c14778a5e7a6d0d4c4c1b3": {
     "model_module": "@jupyter-widgets/base",
     "model_module_version": "1.2.0",
     "model_name": "LayoutModel",
     "state": {
      "_model_module": "@jupyter-widgets/base",
      "_model_module_version": "1.2.0",
      "_model_name": "LayoutModel",
      "_view_count": null,
      "_view_module": "@jupyter-widgets/base",
      "_view_module_version": "1.2.0",
      "_view_name": "LayoutView",
      "align_content": null,
      "align_items": null,
      "align_self": null,
      "border": null,
      "bottom": null,
      "display": null,
      "flex": null,
      "flex_flow": null,
      "grid_area": null,
      "grid_auto_columns": null,
      "grid_auto_flow": null,
      "grid_auto_rows": null,
      "grid_column": null,
      "grid_gap": null,
      "grid_row": null,
      "grid_template_areas": null,
      "grid_template_columns": null,
      "grid_template_rows": null,
      "height": null,
      "justify_content": null,
      "justify_items": null,
      "left": null,
      "margin": null,
      "max_height": null,
      "max_width": null,
      "min_height": null,
      "min_width": null,
      "object_fit": null,
      "object_position": null,
      "order": null,
      "overflow": null,
      "overflow_x": null,
      "overflow_y": null,
      "padding": null,
      "right": null,
      "top": null,
      "visibility": null,
      "width": null
     }
    },
    "11be0bb81b6e439ba8fb0608bf6893f7": {
     "model_module": "@jupyter-widgets/controls",
     "model_module_version": "1.5.0",
     "model_name": "FloatProgressModel",
     "state": {
      "_dom_classes": [],
      "_model_module": "@jupyter-widgets/controls",
      "_model_module_version": "1.5.0",
      "_model_name": "FloatProgressModel",
      "_view_count": null,
      "_view_module": "@jupyter-widgets/controls",
      "_view_module_version": "1.5.0",
      "_view_name": "ProgressView",
      "bar_style": "success",
      "description": "",
      "description_tooltip": null,
      "layout": "IPY_MODEL_fde8465f4ad44755b601e2d4289445c4",
      "max": 28881,
      "min": 0,
      "orientation": "horizontal",
      "style": "IPY_MODEL_0c6360f0f3a24cab9e242eb30b4ac165",
      "value": 28881
     }
    },
    "1d681516d1524a0d9f311edc3a014653": {
     "model_module": "@jupyter-widgets/base",
     "model_module_version": "1.2.0",
     "model_name": "LayoutModel",
     "state": {
      "_model_module": "@jupyter-widgets/base",
      "_model_module_version": "1.2.0",
      "_model_name": "LayoutModel",
      "_view_count": null,
      "_view_module": "@jupyter-widgets/base",
      "_view_module_version": "1.2.0",
      "_view_name": "LayoutView",
      "align_content": null,
      "align_items": null,
      "align_self": null,
      "border": null,
      "bottom": null,
      "display": null,
      "flex": null,
      "flex_flow": null,
      "grid_area": null,
      "grid_auto_columns": null,
      "grid_auto_flow": null,
      "grid_auto_rows": null,
      "grid_column": null,
      "grid_gap": null,
      "grid_row": null,
      "grid_template_areas": null,
      "grid_template_columns": null,
      "grid_template_rows": null,
      "height": null,
      "justify_content": null,
      "justify_items": null,
      "left": null,
      "margin": null,
      "max_height": null,
      "max_width": null,
      "min_height": null,
      "min_width": null,
      "object_fit": null,
      "object_position": null,
      "order": null,
      "overflow": null,
      "overflow_x": null,
      "overflow_y": null,
      "padding": null,
      "right": null,
      "top": null,
      "visibility": null,
      "width": null
     }
    },
    "2df8e3ad1b7940b7b7f45a4d5522e178": {
     "model_module": "@jupyter-widgets/base",
     "model_module_version": "1.2.0",
     "model_name": "LayoutModel",
     "state": {
      "_model_module": "@jupyter-widgets/base",
      "_model_module_version": "1.2.0",
      "_model_name": "LayoutModel",
      "_view_count": null,
      "_view_module": "@jupyter-widgets/base",
      "_view_module_version": "1.2.0",
      "_view_name": "LayoutView",
      "align_content": null,
      "align_items": null,
      "align_self": null,
      "border": null,
      "bottom": null,
      "display": null,
      "flex": null,
      "flex_flow": null,
      "grid_area": null,
      "grid_auto_columns": null,
      "grid_auto_flow": null,
      "grid_auto_rows": null,
      "grid_column": null,
      "grid_gap": null,
      "grid_row": null,
      "grid_template_areas": null,
      "grid_template_columns": null,
      "grid_template_rows": null,
      "height": null,
      "justify_content": null,
      "justify_items": null,
      "left": null,
      "margin": null,
      "max_height": null,
      "max_width": null,
      "min_height": null,
      "min_width": null,
      "object_fit": null,
      "object_position": null,
      "order": null,
      "overflow": null,
      "overflow_x": null,
      "overflow_y": null,
      "padding": null,
      "right": null,
      "top": null,
      "visibility": null,
      "width": null
     }
    },
    "2f10db6331b54effa7b82340f7b38ff0": {
     "model_module": "@jupyter-widgets/base",
     "model_module_version": "1.2.0",
     "model_name": "LayoutModel",
     "state": {
      "_model_module": "@jupyter-widgets/base",
      "_model_module_version": "1.2.0",
      "_model_name": "LayoutModel",
      "_view_count": null,
      "_view_module": "@jupyter-widgets/base",
      "_view_module_version": "1.2.0",
      "_view_name": "LayoutView",
      "align_content": null,
      "align_items": null,
      "align_self": null,
      "border": null,
      "bottom": null,
      "display": null,
      "flex": null,
      "flex_flow": null,
      "grid_area": null,
      "grid_auto_columns": null,
      "grid_auto_flow": null,
      "grid_auto_rows": null,
      "grid_column": null,
      "grid_gap": null,
      "grid_row": null,
      "grid_template_areas": null,
      "grid_template_columns": null,
      "grid_template_rows": null,
      "height": null,
      "justify_content": null,
      "justify_items": null,
      "left": null,
      "margin": null,
      "max_height": null,
      "max_width": null,
      "min_height": null,
      "min_width": null,
      "object_fit": null,
      "object_position": null,
      "order": null,
      "overflow": null,
      "overflow_x": null,
      "overflow_y": null,
      "padding": null,
      "right": null,
      "top": null,
      "visibility": null,
      "width": null
     }
    },
    "327d7d57053842c6a72ab5982f5deeb7": {
     "model_module": "@jupyter-widgets/controls",
     "model_module_version": "1.5.0",
     "model_name": "HTMLModel",
     "state": {
      "_dom_classes": [],
      "_model_module": "@jupyter-widgets/controls",
      "_model_module_version": "1.5.0",
      "_model_name": "HTMLModel",
      "_view_count": null,
      "_view_module": "@jupyter-widgets/controls",
      "_view_module_version": "1.5.0",
      "_view_name": "HTMLView",
      "description": "",
      "description_tooltip": null,
      "layout": "IPY_MODEL_e56d66c87f6140c2a6ec40ed3478c3fc",
      "placeholder": "​",
      "style": "IPY_MODEL_4f58277337e2408ba8cae5adfda4f671",
      "value": "100%"
     }
    },
    "3b8ffd33b50b4585b8768ffc6015d05d": {
     "model_module": "@jupyter-widgets/controls",
     "model_module_version": "1.5.0",
     "model_name": "DescriptionStyleModel",
     "state": {
      "_model_module": "@jupyter-widgets/controls",
      "_model_module_version": "1.5.0",
      "_model_name": "DescriptionStyleModel",
      "_view_count": null,
      "_view_module": "@jupyter-widgets/base",
      "_view_module_version": "1.2.0",
      "_view_name": "StyleView",
      "description_width": ""
     }
    },
    "3da10d7bb72b44a1a11a3efecbef8cb6": {
     "model_module": "@jupyter-widgets/controls",
     "model_module_version": "1.5.0",
     "model_name": "FloatProgressModel",
     "state": {
      "_dom_classes": [],
      "_model_module": "@jupyter-widgets/controls",
      "_model_module_version": "1.5.0",
      "_model_name": "FloatProgressModel",
      "_view_count": null,
      "_view_module": "@jupyter-widgets/controls",
      "_view_module_version": "1.5.0",
      "_view_name": "ProgressView",
      "bar_style": "success",
      "description": "",
      "description_tooltip": null,
      "layout": "IPY_MODEL_8ebe8b5144ce4d88a71c80b02243af73",
      "max": 4542,
      "min": 0,
      "orientation": "horizontal",
      "style": "IPY_MODEL_a8b9539b94604e8da303d1d34f2b5541",
      "value": 4542
     }
    },
    "44c6bcc32bcf49fe834597bb57ebd7ab": {
     "model_module": "@jupyter-widgets/base",
     "model_module_version": "1.2.0",
     "model_name": "LayoutModel",
     "state": {
      "_model_module": "@jupyter-widgets/base",
      "_model_module_version": "1.2.0",
      "_model_name": "LayoutModel",
      "_view_count": null,
      "_view_module": "@jupyter-widgets/base",
      "_view_module_version": "1.2.0",
      "_view_name": "LayoutView",
      "align_content": null,
      "align_items": null,
      "align_self": null,
      "border": null,
      "bottom": null,
      "display": null,
      "flex": null,
      "flex_flow": null,
      "grid_area": null,
      "grid_auto_columns": null,
      "grid_auto_flow": null,
      "grid_auto_rows": null,
      "grid_column": null,
      "grid_gap": null,
      "grid_row": null,
      "grid_template_areas": null,
      "grid_template_columns": null,
      "grid_template_rows": null,
      "height": null,
      "justify_content": null,
      "justify_items": null,
      "left": null,
      "margin": null,
      "max_height": null,
      "max_width": null,
      "min_height": null,
      "min_width": null,
      "object_fit": null,
      "object_position": null,
      "order": null,
      "overflow": null,
      "overflow_x": null,
      "overflow_y": null,
      "padding": null,
      "right": null,
      "top": null,
      "visibility": null,
      "width": null
     }
    },
    "464f7897d2954b9a8912572fb3bcd7cc": {
     "model_module": "@jupyter-widgets/controls",
     "model_module_version": "1.5.0",
     "model_name": "DescriptionStyleModel",
     "state": {
      "_model_module": "@jupyter-widgets/controls",
      "_model_module_version": "1.5.0",
      "_model_name": "DescriptionStyleModel",
      "_view_count": null,
      "_view_module": "@jupyter-widgets/base",
      "_view_module_version": "1.2.0",
      "_view_name": "StyleView",
      "description_width": ""
     }
    },
    "4787aeca89cd4b8eaad50132c3e6232a": {
     "model_module": "@jupyter-widgets/controls",
     "model_module_version": "1.5.0",
     "model_name": "FloatProgressModel",
     "state": {
      "_dom_classes": [],
      "_model_module": "@jupyter-widgets/controls",
      "_model_module_version": "1.5.0",
      "_model_name": "FloatProgressModel",
      "_view_count": null,
      "_view_module": "@jupyter-widgets/controls",
      "_view_module_version": "1.5.0",
      "_view_name": "ProgressView",
      "bar_style": "success",
      "description": "",
      "description_tooltip": null,
      "layout": "IPY_MODEL_78f570b4afd24db49bbfdc9d648df7be",
      "max": 1648877,
      "min": 0,
      "orientation": "horizontal",
      "style": "IPY_MODEL_ac7ebdb3c2e94ecdad07f01976e81223",
      "value": 1648877
     }
    },
    "4f58277337e2408ba8cae5adfda4f671": {
     "model_module": "@jupyter-widgets/controls",
     "model_module_version": "1.5.0",
     "model_name": "DescriptionStyleModel",
     "state": {
      "_model_module": "@jupyter-widgets/controls",
      "_model_module_version": "1.5.0",
      "_model_name": "DescriptionStyleModel",
      "_view_count": null,
      "_view_module": "@jupyter-widgets/base",
      "_view_module_version": "1.2.0",
      "_view_name": "StyleView",
      "description_width": ""
     }
    },
    "59b29a5ff8a347faaf670b8da704ec00": {
     "model_module": "@jupyter-widgets/controls",
     "model_module_version": "1.5.0",
     "model_name": "DescriptionStyleModel",
     "state": {
      "_model_module": "@jupyter-widgets/controls",
      "_model_module_version": "1.5.0",
      "_model_name": "DescriptionStyleModel",
      "_view_count": null,
      "_view_module": "@jupyter-widgets/base",
      "_view_module_version": "1.2.0",
      "_view_name": "StyleView",
      "description_width": ""
     }
    },
    "5e60168e77f7401fb35ac3dc03273fd8": {
     "model_module": "@jupyter-widgets/controls",
     "model_module_version": "1.5.0",
     "model_name": "HTMLModel",
     "state": {
      "_dom_classes": [],
      "_model_module": "@jupyter-widgets/controls",
      "_model_module_version": "1.5.0",
      "_model_name": "HTMLModel",
      "_view_count": null,
      "_view_module": "@jupyter-widgets/controls",
      "_view_module_version": "1.5.0",
      "_view_name": "HTMLView",
      "description": "",
      "description_tooltip": null,
      "layout": "IPY_MODEL_2f10db6331b54effa7b82340f7b38ff0",
      "placeholder": "​",
      "style": "IPY_MODEL_3b8ffd33b50b4585b8768ffc6015d05d",
      "value": "100%"
     }
    },
    "6352071a0cc0496688ae639b07ff55c2": {
     "model_module": "@jupyter-widgets/base",
     "model_module_version": "1.2.0",
     "model_name": "LayoutModel",
     "state": {
      "_model_module": "@jupyter-widgets/base",
      "_model_module_version": "1.2.0",
      "_model_name": "LayoutModel",
      "_view_count": null,
      "_view_module": "@jupyter-widgets/base",
      "_view_module_version": "1.2.0",
      "_view_name": "LayoutView",
      "align_content": null,
      "align_items": null,
      "align_self": null,
      "border": null,
      "bottom": null,
      "display": null,
      "flex": null,
      "flex_flow": null,
      "grid_area": null,
      "grid_auto_columns": null,
      "grid_auto_flow": null,
      "grid_auto_rows": null,
      "grid_column": null,
      "grid_gap": null,
      "grid_row": null,
      "grid_template_areas": null,
      "grid_template_columns": null,
      "grid_template_rows": null,
      "height": null,
      "justify_content": null,
      "justify_items": null,
      "left": null,
      "margin": null,
      "max_height": null,
      "max_width": null,
      "min_height": null,
      "min_width": null,
      "object_fit": null,
      "object_position": null,
      "order": null,
      "overflow": null,
      "overflow_x": null,
      "overflow_y": null,
      "padding": null,
      "right": null,
      "top": null,
      "visibility": null,
      "width": null
     }
    },
    "7302ce260f444f2e9dbc79c751c39722": {
     "model_module": "@jupyter-widgets/controls",
     "model_module_version": "1.5.0",
     "model_name": "HTMLModel",
     "state": {
      "_dom_classes": [],
      "_model_module": "@jupyter-widgets/controls",
      "_model_module_version": "1.5.0",
      "_model_name": "HTMLModel",
      "_view_count": null,
      "_view_module": "@jupyter-widgets/controls",
      "_view_module_version": "1.5.0",
      "_view_name": "HTMLView",
      "description": "",
      "description_tooltip": null,
      "layout": "IPY_MODEL_6352071a0cc0496688ae639b07ff55c2",
      "placeholder": "​",
      "style": "IPY_MODEL_464f7897d2954b9a8912572fb3bcd7cc",
      "value": " 9912422/9912422 [00:00&lt;00:00, 177085209.19it/s]"
     }
    },
    "75c6dcccd38544289942bbd5642b1bd9": {
     "model_module": "@jupyter-widgets/base",
     "model_module_version": "1.2.0",
     "model_name": "LayoutModel",
     "state": {
      "_model_module": "@jupyter-widgets/base",
      "_model_module_version": "1.2.0",
      "_model_name": "LayoutModel",
      "_view_count": null,
      "_view_module": "@jupyter-widgets/base",
      "_view_module_version": "1.2.0",
      "_view_name": "LayoutView",
      "align_content": null,
      "align_items": null,
      "align_self": null,
      "border": null,
      "bottom": null,
      "display": null,
      "flex": null,
      "flex_flow": null,
      "grid_area": null,
      "grid_auto_columns": null,
      "grid_auto_flow": null,
      "grid_auto_rows": null,
      "grid_column": null,
      "grid_gap": null,
      "grid_row": null,
      "grid_template_areas": null,
      "grid_template_columns": null,
      "grid_template_rows": null,
      "height": null,
      "justify_content": null,
      "justify_items": null,
      "left": null,
      "margin": null,
      "max_height": null,
      "max_width": null,
      "min_height": null,
      "min_width": null,
      "object_fit": null,
      "object_position": null,
      "order": null,
      "overflow": null,
      "overflow_x": null,
      "overflow_y": null,
      "padding": null,
      "right": null,
      "top": null,
      "visibility": null,
      "width": null
     }
    },
    "78f570b4afd24db49bbfdc9d648df7be": {
     "model_module": "@jupyter-widgets/base",
     "model_module_version": "1.2.0",
     "model_name": "LayoutModel",
     "state": {
      "_model_module": "@jupyter-widgets/base",
      "_model_module_version": "1.2.0",
      "_model_name": "LayoutModel",
      "_view_count": null,
      "_view_module": "@jupyter-widgets/base",
      "_view_module_version": "1.2.0",
      "_view_name": "LayoutView",
      "align_content": null,
      "align_items": null,
      "align_self": null,
      "border": null,
      "bottom": null,
      "display": null,
      "flex": null,
      "flex_flow": null,
      "grid_area": null,
      "grid_auto_columns": null,
      "grid_auto_flow": null,
      "grid_auto_rows": null,
      "grid_column": null,
      "grid_gap": null,
      "grid_row": null,
      "grid_template_areas": null,
      "grid_template_columns": null,
      "grid_template_rows": null,
      "height": null,
      "justify_content": null,
      "justify_items": null,
      "left": null,
      "margin": null,
      "max_height": null,
      "max_width": null,
      "min_height": null,
      "min_width": null,
      "object_fit": null,
      "object_position": null,
      "order": null,
      "overflow": null,
      "overflow_x": null,
      "overflow_y": null,
      "padding": null,
      "right": null,
      "top": null,
      "visibility": null,
      "width": null
     }
    },
    "7b65783dc2a840ec9d30dcd3dd33704f": {
     "model_module": "@jupyter-widgets/controls",
     "model_module_version": "1.5.0",
     "model_name": "HBoxModel",
     "state": {
      "_dom_classes": [],
      "_model_module": "@jupyter-widgets/controls",
      "_model_module_version": "1.5.0",
      "_model_name": "HBoxModel",
      "_view_count": null,
      "_view_module": "@jupyter-widgets/controls",
      "_view_module_version": "1.5.0",
      "_view_name": "HBoxView",
      "box_style": "",
      "children": [
       "IPY_MODEL_327d7d57053842c6a72ab5982f5deeb7",
       "IPY_MODEL_4787aeca89cd4b8eaad50132c3e6232a",
       "IPY_MODEL_8a23cd3aef1c4ac9a4a8ede71cd6a7e7"
      ],
      "layout": "IPY_MODEL_eef502552cc64cbc9772aaa1433f1081"
     }
    },
    "7bca476feff04c7ab0a8929f6ba1a5f8": {
     "model_module": "@jupyter-widgets/controls",
     "model_module_version": "1.5.0",
     "model_name": "HTMLModel",
     "state": {
      "_dom_classes": [],
      "_model_module": "@jupyter-widgets/controls",
      "_model_module_version": "1.5.0",
      "_model_name": "HTMLModel",
      "_view_count": null,
      "_view_module": "@jupyter-widgets/controls",
      "_view_module_version": "1.5.0",
      "_view_name": "HTMLView",
      "description": "",
      "description_tooltip": null,
      "layout": "IPY_MODEL_0f3ef49b40c14778a5e7a6d0d4c4c1b3",
      "placeholder": "​",
      "style": "IPY_MODEL_59b29a5ff8a347faaf670b8da704ec00",
      "value": " 4542/4542 [00:00&lt;00:00, 288390.94it/s]"
     }
    },
    "7ea66e23ec984620b28060df704017ef": {
     "model_module": "@jupyter-widgets/controls",
     "model_module_version": "1.5.0",
     "model_name": "HTMLModel",
     "state": {
      "_dom_classes": [],
      "_model_module": "@jupyter-widgets/controls",
      "_model_module_version": "1.5.0",
      "_model_name": "HTMLModel",
      "_view_count": null,
      "_view_module": "@jupyter-widgets/controls",
      "_view_module_version": "1.5.0",
      "_view_name": "HTMLView",
      "description": "",
      "description_tooltip": null,
      "layout": "IPY_MODEL_75c6dcccd38544289942bbd5642b1bd9",
      "placeholder": "​",
      "style": "IPY_MODEL_cbbd7e8f57324535a00ef6e3d9517aae",
      "value": "100%"
     }
    },
    "8a23cd3aef1c4ac9a4a8ede71cd6a7e7": {
     "model_module": "@jupyter-widgets/controls",
     "model_module_version": "1.5.0",
     "model_name": "HTMLModel",
     "state": {
      "_dom_classes": [],
      "_model_module": "@jupyter-widgets/controls",
      "_model_module_version": "1.5.0",
      "_model_name": "HTMLModel",
      "_view_count": null,
      "_view_module": "@jupyter-widgets/controls",
      "_view_module_version": "1.5.0",
      "_view_name": "HTMLView",
      "description": "",
      "description_tooltip": null,
      "layout": "IPY_MODEL_e7d76bb264cb4cecacf79c0edd5927b2",
      "placeholder": "​",
      "style": "IPY_MODEL_c39fe0a53eca419aa4bf9c8441fcc198",
      "value": " 1648877/1648877 [00:00&lt;00:00, 40396797.86it/s]"
     }
    },
    "8ebe8b5144ce4d88a71c80b02243af73": {
     "model_module": "@jupyter-widgets/base",
     "model_module_version": "1.2.0",
     "model_name": "LayoutModel",
     "state": {
      "_model_module": "@jupyter-widgets/base",
      "_model_module_version": "1.2.0",
      "_model_name": "LayoutModel",
      "_view_count": null,
      "_view_module": "@jupyter-widgets/base",
      "_view_module_version": "1.2.0",
      "_view_name": "LayoutView",
      "align_content": null,
      "align_items": null,
      "align_self": null,
      "border": null,
      "bottom": null,
      "display": null,
      "flex": null,
      "flex_flow": null,
      "grid_area": null,
      "grid_auto_columns": null,
      "grid_auto_flow": null,
      "grid_auto_rows": null,
      "grid_column": null,
      "grid_gap": null,
      "grid_row": null,
      "grid_template_areas": null,
      "grid_template_columns": null,
      "grid_template_rows": null,
      "height": null,
      "justify_content": null,
      "justify_items": null,
      "left": null,
      "margin": null,
      "max_height": null,
      "max_width": null,
      "min_height": null,
      "min_width": null,
      "object_fit": null,
      "object_position": null,
      "order": null,
      "overflow": null,
      "overflow_x": null,
      "overflow_y": null,
      "padding": null,
      "right": null,
      "top": null,
      "visibility": null,
      "width": null
     }
    },
    "a72ac6aacb894cb68e0563f16867609b": {
     "model_module": "@jupyter-widgets/controls",
     "model_module_version": "1.5.0",
     "model_name": "DescriptionStyleModel",
     "state": {
      "_model_module": "@jupyter-widgets/controls",
      "_model_module_version": "1.5.0",
      "_model_name": "DescriptionStyleModel",
      "_view_count": null,
      "_view_module": "@jupyter-widgets/base",
      "_view_module_version": "1.2.0",
      "_view_name": "StyleView",
      "description_width": ""
     }
    },
    "a75fde6ed7484f74b3996c65237920bc": {
     "model_module": "@jupyter-widgets/base",
     "model_module_version": "1.2.0",
     "model_name": "LayoutModel",
     "state": {
      "_model_module": "@jupyter-widgets/base",
      "_model_module_version": "1.2.0",
      "_model_name": "LayoutModel",
      "_view_count": null,
      "_view_module": "@jupyter-widgets/base",
      "_view_module_version": "1.2.0",
      "_view_name": "LayoutView",
      "align_content": null,
      "align_items": null,
      "align_self": null,
      "border": null,
      "bottom": null,
      "display": null,
      "flex": null,
      "flex_flow": null,
      "grid_area": null,
      "grid_auto_columns": null,
      "grid_auto_flow": null,
      "grid_auto_rows": null,
      "grid_column": null,
      "grid_gap": null,
      "grid_row": null,
      "grid_template_areas": null,
      "grid_template_columns": null,
      "grid_template_rows": null,
      "height": null,
      "justify_content": null,
      "justify_items": null,
      "left": null,
      "margin": null,
      "max_height": null,
      "max_width": null,
      "min_height": null,
      "min_width": null,
      "object_fit": null,
      "object_position": null,
      "order": null,
      "overflow": null,
      "overflow_x": null,
      "overflow_y": null,
      "padding": null,
      "right": null,
      "top": null,
      "visibility": null,
      "width": null
     }
    },
    "a8b9539b94604e8da303d1d34f2b5541": {
     "model_module": "@jupyter-widgets/controls",
     "model_module_version": "1.5.0",
     "model_name": "ProgressStyleModel",
     "state": {
      "_model_module": "@jupyter-widgets/controls",
      "_model_module_version": "1.5.0",
      "_model_name": "ProgressStyleModel",
      "_view_count": null,
      "_view_module": "@jupyter-widgets/base",
      "_view_module_version": "1.2.0",
      "_view_name": "StyleView",
      "bar_color": null,
      "description_width": ""
     }
    },
    "ac7ebdb3c2e94ecdad07f01976e81223": {
     "model_module": "@jupyter-widgets/controls",
     "model_module_version": "1.5.0",
     "model_name": "ProgressStyleModel",
     "state": {
      "_model_module": "@jupyter-widgets/controls",
      "_model_module_version": "1.5.0",
      "_model_name": "ProgressStyleModel",
      "_view_count": null,
      "_view_module": "@jupyter-widgets/base",
      "_view_module_version": "1.2.0",
      "_view_name": "StyleView",
      "bar_color": null,
      "description_width": ""
     }
    },
    "b019d016d1ea487f9b003e566591e4bf": {
     "model_module": "@jupyter-widgets/controls",
     "model_module_version": "1.5.0",
     "model_name": "ProgressStyleModel",
     "state": {
      "_model_module": "@jupyter-widgets/controls",
      "_model_module_version": "1.5.0",
      "_model_name": "ProgressStyleModel",
      "_view_count": null,
      "_view_module": "@jupyter-widgets/base",
      "_view_module_version": "1.2.0",
      "_view_name": "StyleView",
      "bar_color": null,
      "description_width": ""
     }
    },
    "b0e52225ac3d4af19f890e9fef91b293": {
     "model_module": "@jupyter-widgets/controls",
     "model_module_version": "1.5.0",
     "model_name": "FloatProgressModel",
     "state": {
      "_dom_classes": [],
      "_model_module": "@jupyter-widgets/controls",
      "_model_module_version": "1.5.0",
      "_model_name": "FloatProgressModel",
      "_view_count": null,
      "_view_module": "@jupyter-widgets/controls",
      "_view_module_version": "1.5.0",
      "_view_name": "ProgressView",
      "bar_style": "success",
      "description": "",
      "description_tooltip": null,
      "layout": "IPY_MODEL_1d681516d1524a0d9f311edc3a014653",
      "max": 9912422,
      "min": 0,
      "orientation": "horizontal",
      "style": "IPY_MODEL_b019d016d1ea487f9b003e566591e4bf",
      "value": 9912422
     }
    },
    "c13af1361cbc43b9be129ccb0b9c8dc3": {
     "model_module": "@jupyter-widgets/controls",
     "model_module_version": "1.5.0",
     "model_name": "HTMLModel",
     "state": {
      "_dom_classes": [],
      "_model_module": "@jupyter-widgets/controls",
      "_model_module_version": "1.5.0",
      "_model_name": "HTMLModel",
      "_view_count": null,
      "_view_module": "@jupyter-widgets/controls",
      "_view_module_version": "1.5.0",
      "_view_name": "HTMLView",
      "description": "",
      "description_tooltip": null,
      "layout": "IPY_MODEL_ee3187c9c15b4b098041ab13beae5f8c",
      "placeholder": "​",
      "style": "IPY_MODEL_c55a02fdafdc4a04abf7da18207a1d0e",
      "value": " 28881/28881 [00:00&lt;00:00, 1096548.33it/s]"
     }
    },
    "c29fbcb29f6a4deb932319cd20aa02ea": {
     "model_module": "@jupyter-widgets/controls",
     "model_module_version": "1.5.0",
     "model_name": "HBoxModel",
     "state": {
      "_dom_classes": [],
      "_model_module": "@jupyter-widgets/controls",
      "_model_module_version": "1.5.0",
      "_model_name": "HBoxModel",
      "_view_count": null,
      "_view_module": "@jupyter-widgets/controls",
      "_view_module_version": "1.5.0",
      "_view_name": "HBoxView",
      "box_style": "",
      "children": [
       "IPY_MODEL_7ea66e23ec984620b28060df704017ef",
       "IPY_MODEL_b0e52225ac3d4af19f890e9fef91b293",
       "IPY_MODEL_7302ce260f444f2e9dbc79c751c39722"
      ],
      "layout": "IPY_MODEL_2df8e3ad1b7940b7b7f45a4d5522e178"
     }
    },
    "c39fe0a53eca419aa4bf9c8441fcc198": {
     "model_module": "@jupyter-widgets/controls",
     "model_module_version": "1.5.0",
     "model_name": "DescriptionStyleModel",
     "state": {
      "_model_module": "@jupyter-widgets/controls",
      "_model_module_version": "1.5.0",
      "_model_name": "DescriptionStyleModel",
      "_view_count": null,
      "_view_module": "@jupyter-widgets/base",
      "_view_module_version": "1.2.0",
      "_view_name": "StyleView",
      "description_width": ""
     }
    },
    "c55a02fdafdc4a04abf7da18207a1d0e": {
     "model_module": "@jupyter-widgets/controls",
     "model_module_version": "1.5.0",
     "model_name": "DescriptionStyleModel",
     "state": {
      "_model_module": "@jupyter-widgets/controls",
      "_model_module_version": "1.5.0",
      "_model_name": "DescriptionStyleModel",
      "_view_count": null,
      "_view_module": "@jupyter-widgets/base",
      "_view_module_version": "1.2.0",
      "_view_name": "StyleView",
      "description_width": ""
     }
    },
    "c91d1e24027d4f7dac51bebdc0c99dcd": {
     "model_module": "@jupyter-widgets/controls",
     "model_module_version": "1.5.0",
     "model_name": "HBoxModel",
     "state": {
      "_dom_classes": [],
      "_model_module": "@jupyter-widgets/controls",
      "_model_module_version": "1.5.0",
      "_model_name": "HBoxModel",
      "_view_count": null,
      "_view_module": "@jupyter-widgets/controls",
      "_view_module_version": "1.5.0",
      "_view_name": "HBoxView",
      "box_style": "",
      "children": [
       "IPY_MODEL_ed58a35a117a456ab07e4363a023a928",
       "IPY_MODEL_3da10d7bb72b44a1a11a3efecbef8cb6",
       "IPY_MODEL_7bca476feff04c7ab0a8929f6ba1a5f8"
      ],
      "layout": "IPY_MODEL_e53db42b14494350b4b2366b212b1def"
     }
    },
    "cbbd7e8f57324535a00ef6e3d9517aae": {
     "model_module": "@jupyter-widgets/controls",
     "model_module_version": "1.5.0",
     "model_name": "DescriptionStyleModel",
     "state": {
      "_model_module": "@jupyter-widgets/controls",
      "_model_module_version": "1.5.0",
      "_model_name": "DescriptionStyleModel",
      "_view_count": null,
      "_view_module": "@jupyter-widgets/base",
      "_view_module_version": "1.2.0",
      "_view_name": "StyleView",
      "description_width": ""
     }
    },
    "dbab355b606f43f0bc7fd5763974d1bc": {
     "model_module": "@jupyter-widgets/controls",
     "model_module_version": "1.5.0",
     "model_name": "HBoxModel",
     "state": {
      "_dom_classes": [],
      "_model_module": "@jupyter-widgets/controls",
      "_model_module_version": "1.5.0",
      "_model_name": "HBoxModel",
      "_view_count": null,
      "_view_module": "@jupyter-widgets/controls",
      "_view_module_version": "1.5.0",
      "_view_name": "HBoxView",
      "box_style": "",
      "children": [
       "IPY_MODEL_5e60168e77f7401fb35ac3dc03273fd8",
       "IPY_MODEL_11be0bb81b6e439ba8fb0608bf6893f7",
       "IPY_MODEL_c13af1361cbc43b9be129ccb0b9c8dc3"
      ],
      "layout": "IPY_MODEL_44c6bcc32bcf49fe834597bb57ebd7ab"
     }
    },
    "e53db42b14494350b4b2366b212b1def": {
     "model_module": "@jupyter-widgets/base",
     "model_module_version": "1.2.0",
     "model_name": "LayoutModel",
     "state": {
      "_model_module": "@jupyter-widgets/base",
      "_model_module_version": "1.2.0",
      "_model_name": "LayoutModel",
      "_view_count": null,
      "_view_module": "@jupyter-widgets/base",
      "_view_module_version": "1.2.0",
      "_view_name": "LayoutView",
      "align_content": null,
      "align_items": null,
      "align_self": null,
      "border": null,
      "bottom": null,
      "display": null,
      "flex": null,
      "flex_flow": null,
      "grid_area": null,
      "grid_auto_columns": null,
      "grid_auto_flow": null,
      "grid_auto_rows": null,
      "grid_column": null,
      "grid_gap": null,
      "grid_row": null,
      "grid_template_areas": null,
      "grid_template_columns": null,
      "grid_template_rows": null,
      "height": null,
      "justify_content": null,
      "justify_items": null,
      "left": null,
      "margin": null,
      "max_height": null,
      "max_width": null,
      "min_height": null,
      "min_width": null,
      "object_fit": null,
      "object_position": null,
      "order": null,
      "overflow": null,
      "overflow_x": null,
      "overflow_y": null,
      "padding": null,
      "right": null,
      "top": null,
      "visibility": null,
      "width": null
     }
    },
    "e56d66c87f6140c2a6ec40ed3478c3fc": {
     "model_module": "@jupyter-widgets/base",
     "model_module_version": "1.2.0",
     "model_name": "LayoutModel",
     "state": {
      "_model_module": "@jupyter-widgets/base",
      "_model_module_version": "1.2.0",
      "_model_name": "LayoutModel",
      "_view_count": null,
      "_view_module": "@jupyter-widgets/base",
      "_view_module_version": "1.2.0",
      "_view_name": "LayoutView",
      "align_content": null,
      "align_items": null,
      "align_self": null,
      "border": null,
      "bottom": null,
      "display": null,
      "flex": null,
      "flex_flow": null,
      "grid_area": null,
      "grid_auto_columns": null,
      "grid_auto_flow": null,
      "grid_auto_rows": null,
      "grid_column": null,
      "grid_gap": null,
      "grid_row": null,
      "grid_template_areas": null,
      "grid_template_columns": null,
      "grid_template_rows": null,
      "height": null,
      "justify_content": null,
      "justify_items": null,
      "left": null,
      "margin": null,
      "max_height": null,
      "max_width": null,
      "min_height": null,
      "min_width": null,
      "object_fit": null,
      "object_position": null,
      "order": null,
      "overflow": null,
      "overflow_x": null,
      "overflow_y": null,
      "padding": null,
      "right": null,
      "top": null,
      "visibility": null,
      "width": null
     }
    },
    "e7d76bb264cb4cecacf79c0edd5927b2": {
     "model_module": "@jupyter-widgets/base",
     "model_module_version": "1.2.0",
     "model_name": "LayoutModel",
     "state": {
      "_model_module": "@jupyter-widgets/base",
      "_model_module_version": "1.2.0",
      "_model_name": "LayoutModel",
      "_view_count": null,
      "_view_module": "@jupyter-widgets/base",
      "_view_module_version": "1.2.0",
      "_view_name": "LayoutView",
      "align_content": null,
      "align_items": null,
      "align_self": null,
      "border": null,
      "bottom": null,
      "display": null,
      "flex": null,
      "flex_flow": null,
      "grid_area": null,
      "grid_auto_columns": null,
      "grid_auto_flow": null,
      "grid_auto_rows": null,
      "grid_column": null,
      "grid_gap": null,
      "grid_row": null,
      "grid_template_areas": null,
      "grid_template_columns": null,
      "grid_template_rows": null,
      "height": null,
      "justify_content": null,
      "justify_items": null,
      "left": null,
      "margin": null,
      "max_height": null,
      "max_width": null,
      "min_height": null,
      "min_width": null,
      "object_fit": null,
      "object_position": null,
      "order": null,
      "overflow": null,
      "overflow_x": null,
      "overflow_y": null,
      "padding": null,
      "right": null,
      "top": null,
      "visibility": null,
      "width": null
     }
    },
    "ed58a35a117a456ab07e4363a023a928": {
     "model_module": "@jupyter-widgets/controls",
     "model_module_version": "1.5.0",
     "model_name": "HTMLModel",
     "state": {
      "_dom_classes": [],
      "_model_module": "@jupyter-widgets/controls",
      "_model_module_version": "1.5.0",
      "_model_name": "HTMLModel",
      "_view_count": null,
      "_view_module": "@jupyter-widgets/controls",
      "_view_module_version": "1.5.0",
      "_view_name": "HTMLView",
      "description": "",
      "description_tooltip": null,
      "layout": "IPY_MODEL_a75fde6ed7484f74b3996c65237920bc",
      "placeholder": "​",
      "style": "IPY_MODEL_a72ac6aacb894cb68e0563f16867609b",
      "value": "100%"
     }
    },
    "ee3187c9c15b4b098041ab13beae5f8c": {
     "model_module": "@jupyter-widgets/base",
     "model_module_version": "1.2.0",
     "model_name": "LayoutModel",
     "state": {
      "_model_module": "@jupyter-widgets/base",
      "_model_module_version": "1.2.0",
      "_model_name": "LayoutModel",
      "_view_count": null,
      "_view_module": "@jupyter-widgets/base",
      "_view_module_version": "1.2.0",
      "_view_name": "LayoutView",
      "align_content": null,
      "align_items": null,
      "align_self": null,
      "border": null,
      "bottom": null,
      "display": null,
      "flex": null,
      "flex_flow": null,
      "grid_area": null,
      "grid_auto_columns": null,
      "grid_auto_flow": null,
      "grid_auto_rows": null,
      "grid_column": null,
      "grid_gap": null,
      "grid_row": null,
      "grid_template_areas": null,
      "grid_template_columns": null,
      "grid_template_rows": null,
      "height": null,
      "justify_content": null,
      "justify_items": null,
      "left": null,
      "margin": null,
      "max_height": null,
      "max_width": null,
      "min_height": null,
      "min_width": null,
      "object_fit": null,
      "object_position": null,
      "order": null,
      "overflow": null,
      "overflow_x": null,
      "overflow_y": null,
      "padding": null,
      "right": null,
      "top": null,
      "visibility": null,
      "width": null
     }
    },
    "eef502552cc64cbc9772aaa1433f1081": {
     "model_module": "@jupyter-widgets/base",
     "model_module_version": "1.2.0",
     "model_name": "LayoutModel",
     "state": {
      "_model_module": "@jupyter-widgets/base",
      "_model_module_version": "1.2.0",
      "_model_name": "LayoutModel",
      "_view_count": null,
      "_view_module": "@jupyter-widgets/base",
      "_view_module_version": "1.2.0",
      "_view_name": "LayoutView",
      "align_content": null,
      "align_items": null,
      "align_self": null,
      "border": null,
      "bottom": null,
      "display": null,
      "flex": null,
      "flex_flow": null,
      "grid_area": null,
      "grid_auto_columns": null,
      "grid_auto_flow": null,
      "grid_auto_rows": null,
      "grid_column": null,
      "grid_gap": null,
      "grid_row": null,
      "grid_template_areas": null,
      "grid_template_columns": null,
      "grid_template_rows": null,
      "height": null,
      "justify_content": null,
      "justify_items": null,
      "left": null,
      "margin": null,
      "max_height": null,
      "max_width": null,
      "min_height": null,
      "min_width": null,
      "object_fit": null,
      "object_position": null,
      "order": null,
      "overflow": null,
      "overflow_x": null,
      "overflow_y": null,
      "padding": null,
      "right": null,
      "top": null,
      "visibility": null,
      "width": null
     }
    },
    "fde8465f4ad44755b601e2d4289445c4": {
     "model_module": "@jupyter-widgets/base",
     "model_module_version": "1.2.0",
     "model_name": "LayoutModel",
     "state": {
      "_model_module": "@jupyter-widgets/base",
      "_model_module_version": "1.2.0",
      "_model_name": "LayoutModel",
      "_view_count": null,
      "_view_module": "@jupyter-widgets/base",
      "_view_module_version": "1.2.0",
      "_view_name": "LayoutView",
      "align_content": null,
      "align_items": null,
      "align_self": null,
      "border": null,
      "bottom": null,
      "display": null,
      "flex": null,
      "flex_flow": null,
      "grid_area": null,
      "grid_auto_columns": null,
      "grid_auto_flow": null,
      "grid_auto_rows": null,
      "grid_column": null,
      "grid_gap": null,
      "grid_row": null,
      "grid_template_areas": null,
      "grid_template_columns": null,
      "grid_template_rows": null,
      "height": null,
      "justify_content": null,
      "justify_items": null,
      "left": null,
      "margin": null,
      "max_height": null,
      "max_width": null,
      "min_height": null,
      "min_width": null,
      "object_fit": null,
      "object_position": null,
      "order": null,
      "overflow": null,
      "overflow_x": null,
      "overflow_y": null,
      "padding": null,
      "right": null,
      "top": null,
      "visibility": null,
      "width": null
     }
    }
   }
  }
 },
 "nbformat": 4,
 "nbformat_minor": 1
}
