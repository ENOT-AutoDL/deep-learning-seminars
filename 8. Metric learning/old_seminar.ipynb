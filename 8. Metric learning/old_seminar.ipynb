{
 "cells": [
  {
   "cell_type": "code",
   "execution_count": null,
   "id": "cf2be82e",
   "metadata": {},
   "outputs": [],
   "source": [
    "import torch.nn as nn\n",
    "import torchvision\n",
    "import torch\n",
    "from tqdm import tqdm\n",
    "import matplotlib.pyplot as plt\n",
    "from IPython.display import Image\n",
    "import torch.nn.functional as F\n",
    "import numpy as np"
   ]
  },
  {
   "cell_type": "markdown",
   "id": "923243a3",
   "metadata": {},
   "source": [
    "# Autoencoders"
   ]
  },
  {
   "cell_type": "code",
   "execution_count": null,
   "id": "d7a42478",
   "metadata": {},
   "outputs": [],
   "source": [
    "Image(url= \"https://analyticsindiamag.com/wp-content/uploads/2020/07/The-structure-of-proposed-Convolutional-AutoEncoders-CAE-for-MNIST-In-the-middle-there.png\")"
   ]
  },
  {
   "cell_type": "code",
   "execution_count": null,
   "id": "9718c819",
   "metadata": {},
   "outputs": [],
   "source": [
    "Image(url=\"https://assets-global.website-files.com/5d7b77b063a9066d83e1209c/60bbe71203425680a535a476_pasted%20image%200.png\")"
   ]
  },
  {
   "cell_type": "markdown",
   "id": "7bc6ae78",
   "metadata": {},
   "source": [
    "* Compression\n",
    "* Denoizing\n",
    "* Super resolution\n",
    "* Inpainting\n",
    "* Deep fake"
   ]
  },
  {
   "cell_type": "code",
   "execution_count": null,
   "id": "52fe440d",
   "metadata": {},
   "outputs": [],
   "source": [
    "class Autoencoder(nn.Module):\n",
    "    def __init__(self, input_features, code_size=10):\n",
    "        super().__init__()\n",
    "        self.encoder_hidden_layer = nn.Linear(in_features=input_features, out_features=128)\n",
    "        self.encoder_output_layer = nn.Linear(in_features=128, out_features=code_size)\n",
    "        self.decoder_hidden_layer = nn.Linear(in_features=code_size, out_features=128)\n",
    "        self.decoder_output_layer = nn.Linear(in_features=128, out_features=input_features)\n",
    "\n",
    "    def forward(self, x):\n",
    "        x = self.encoder_hidden_layer(x)\n",
    "        x = torch.relu(x)\n",
    "        x = self.encoder_output_layer(x)\n",
    "        x = torch.relu(x)\n",
    "        x = self.decoder_hidden_layer(x)\n",
    "        x = torch.relu(x)\n",
    "        x = self.decoder_output_layer(x)\n",
    "        x = torch.relu(x)\n",
    "        return x"
   ]
  },
  {
   "cell_type": "code",
   "execution_count": null,
   "id": "db74cf43",
   "metadata": {},
   "outputs": [],
   "source": [
    "train_dataset = torchvision.datasets.MNIST(\n",
    "    root='datasets',\n",
    "    download=True,\n",
    "    train=True,\n",
    "    transform=torchvision.transforms.ToTensor(),\n",
    ")\n",
    "\n",
    "train_dataloader = torch.utils.data.DataLoader(\n",
    "    dataset=train_dataset,\n",
    "    batch_size=128,\n",
    "    shuffle=True,\n",
    "    num_workers=16,\n",
    "    pin_memory=True,\n",
    ")\n",
    "\n",
    "valid_dataset = torchvision.datasets.MNIST(\n",
    "    root='datasets',\n",
    "    download=True,\n",
    "    train=False,\n",
    "    transform=torchvision.transforms.ToTensor(),\n",
    ")\n",
    "\n",
    "valid_dataloader = torch.utils.data.DataLoader(\n",
    "    dataset=valid_dataset,\n",
    "    batch_size=128,\n",
    "    shuffle=True,\n",
    "    num_workers=16,\n",
    ")"
   ]
  },
  {
   "cell_type": "code",
   "execution_count": null,
   "id": "84f27ea2",
   "metadata": {},
   "outputs": [],
   "source": [
    "device = torch.device(\"cuda\" if torch.cuda.is_available() else \"cpu\")"
   ]
  },
  {
   "cell_type": "code",
   "execution_count": null,
   "id": "baec6c7b",
   "metadata": {},
   "outputs": [],
   "source": [
    "model = Autoencoder(input_features=784, code_size=10).to(device)"
   ]
  },
  {
   "cell_type": "code",
   "execution_count": null,
   "id": "6586f134",
   "metadata": {},
   "outputs": [],
   "source": [
    "batch, _ = next(iter(train_dataloader))\n",
    "\n",
    "figure = plt.figure()\n",
    "\n",
    "for index in range(4):\n",
    "    plt.subplot(2, 2, index + 1)\n",
    "    plt.tight_layout()\n",
    "    plt.imshow(batch[index][0], cmap='gray', interpolation='none')"
   ]
  },
  {
   "cell_type": "code",
   "execution_count": null,
   "id": "267186f8",
   "metadata": {},
   "outputs": [],
   "source": [
    "sample = batch[4]\n",
    "prediction = model(sample.view(sample.shape[0], -1).to(device))\n",
    "plt.imshow(prediction.detach().cpu().reshape(28, 28), cmap='gray', interpolation='none')"
   ]
  },
  {
   "cell_type": "code",
   "execution_count": null,
   "id": "e1b44dc0",
   "metadata": {},
   "outputs": [],
   "source": [
    "criterion = nn.MSELoss()\n",
    "optimizer = torch.optim.Adam(params=model.parameters(), lr=1e-3)\n",
    "\n",
    "\n",
    "def train_step() -> float:\n",
    "    model.train()\n",
    "    \n",
    "    loss = 0.\n",
    "    for images, _ in train_dataloader:\n",
    "        images = images.view(-1, 784).to(device)\n",
    "        \n",
    "        optimizer.zero_grad()\n",
    "        output = model(images)\n",
    "        train_loss = criterion(output, images)\n",
    "        train_loss.backward()\n",
    "        optimizer.step()\n",
    "        loss += train_loss.item()\n",
    "    \n",
    "    with torch.no_grad():\n",
    "        loss /= len(train_dataloader)\n",
    "    return loss"
   ]
  },
  {
   "cell_type": "code",
   "execution_count": null,
   "id": "cb65ce24",
   "metadata": {},
   "outputs": [],
   "source": [
    "epochs = 10\n",
    "\n",
    "for _ in range(epochs):\n",
    "    loss = train_step()    \n",
    "    print(f'Avg. loss: {loss:.4f}')"
   ]
  },
  {
   "cell_type": "code",
   "execution_count": null,
   "id": "e3290c24",
   "metadata": {},
   "outputs": [],
   "source": [
    "batch, _ = next(iter(valid_dataloader))"
   ]
  },
  {
   "cell_type": "code",
   "execution_count": null,
   "id": "55591499",
   "metadata": {},
   "outputs": [],
   "source": [
    "sample = batch[index]\n",
    "\n",
    "figure = plt.figure()\n",
    "\n",
    "plt.subplot(1, 2, 1)\n",
    "plt.tight_layout()\n",
    "\n",
    "plt.imshow(sample[0], cmap='gray', interpolation='none')\n",
    "    \n",
    "plt.subplot(1, 2, 2)\n",
    "plt.tight_layout()\n",
    "prediction = model(sample.view(sample.shape[0], -1).to(device)).detach().cpu().reshape(28, 28)\n",
    "plt.imshow(prediction, cmap='gray', interpolation='none')\n",
    "\n",
    "index += 1"
   ]
  },
  {
   "cell_type": "markdown",
   "id": "c71618ce",
   "metadata": {},
   "source": [
    "***"
   ]
  },
  {
   "cell_type": "code",
   "execution_count": null,
   "id": "9e120cb6",
   "metadata": {},
   "outputs": [],
   "source": [
    "class Decoder(nn.Module):\n",
    "    def __init__(self):\n",
    "        super().__init__()\n",
    "        self.decoder_hidden_layer = model.decoder_hidden_layer\n",
    "        self.decoder_output_layer = model.decoder_output_layer\n",
    "\n",
    "    def forward(self, x):\n",
    "        x = self.decoder_hidden_layer(x)\n",
    "        x = torch.sigmoid(x)\n",
    "        x = self.decoder_output_layer(x)\n",
    "        x = torch.sigmoid(x)\n",
    "        return x"
   ]
  },
  {
   "cell_type": "code",
   "execution_count": null,
   "id": "800c3bed",
   "metadata": {},
   "outputs": [],
   "source": [
    "h = Decoder()"
   ]
  },
  {
   "cell_type": "code",
   "execution_count": null,
   "id": "641eddb3",
   "metadata": {},
   "outputs": [],
   "source": [
    "h(torch.full((1, ), 0.13).to(device)).shape"
   ]
  },
  {
   "cell_type": "code",
   "execution_count": null,
   "id": "81d042aa",
   "metadata": {},
   "outputs": [],
   "source": [
    "sample = h(torch.full((1, ), 0.15).to(device)).detach().cpu().reshape(28, 28)\n",
    "\n",
    "plt.imshow(sample, cmap='gray', interpolation='none')"
   ]
  },
  {
   "cell_type": "code",
   "execution_count": null,
   "id": "e194a40e",
   "metadata": {},
   "outputs": [],
   "source": [
    "%matplotlib notebook"
   ]
  },
  {
   "cell_type": "code",
   "execution_count": null,
   "id": "0827ffde",
   "metadata": {},
   "outputs": [],
   "source": [
    "from matplotlib.animation import FuncAnimation"
   ]
  },
  {
   "cell_type": "code",
   "execution_count": null,
   "id": "15acc22a",
   "metadata": {},
   "outputs": [],
   "source": [
    "fig = plt.figure()\n",
    "ax = fig.gca()\n",
    "img = ax.imshow(h(torch.full((1, ), 1e-5).to(device)).detach().cpu().reshape(28, 28))\n",
    "\n",
    "def animate(frame_num):\n",
    "    p = frame_num / 1000.\n",
    "    img.set_data(h(torch.full((1, ), p).to(device)).detach().cpu().reshape(28, 28))\n",
    "\n",
    "anim = FuncAnimation(fig, animate, frames=1000, interval=1)"
   ]
  },
  {
   "cell_type": "markdown",
   "id": "f16c274a",
   "metadata": {},
   "source": [
    "***"
   ]
  },
  {
   "cell_type": "markdown",
   "id": "538fb43c",
   "metadata": {},
   "source": [
    "# VAE"
   ]
  },
  {
   "cell_type": "code",
   "execution_count": null,
   "id": "018907c7",
   "metadata": {},
   "outputs": [],
   "source": [
    "Image(url= \"https://miro.medium.com/max/1400/1*ohh8pBpSsMl3LmN0USxrLg.png\")"
   ]
  },
  {
   "cell_type": "code",
   "execution_count": null,
   "id": "d88e05a4",
   "metadata": {},
   "outputs": [],
   "source": [
    "class VariationalEncoder(nn.Module):\n",
    "    def __init__(self, latent_dims):  \n",
    "        super(VariationalEncoder, self).__init__()\n",
    "        self.conv1 = nn.Conv2d(1, 8, 3, stride=2, padding=1)\n",
    "        self.conv2 = nn.Conv2d(8, 16, 3, stride=2, padding=1)\n",
    "        self.batch2 = nn.BatchNorm2d(16)\n",
    "        self.conv3 = nn.Conv2d(16, 32, 3, stride=2, padding=0)  \n",
    "        self.linear1 = nn.Linear(3*3*32, 128)\n",
    "        self.linear2 = nn.Linear(128, latent_dims)\n",
    "        self.linear3 = nn.Linear(128, latent_dims)\n",
    "\n",
    "        self.N = torch.distributions.Normal(0, 1)\n",
    "        self.kl = 0\n",
    "\n",
    "    def forward(self, x):\n",
    "        x = x.to(device)\n",
    "        x = F.relu(self.conv1(x))\n",
    "        x = F.relu(self.batch2(self.conv2(x)))\n",
    "        x = F.relu(self.conv3(x))\n",
    "        x = torch.flatten(x, start_dim=1)\n",
    "        x = F.relu(self.linear1(x))\n",
    "        mu =  self.linear2(x)\n",
    "        sigma = torch.exp(self.linear3(x))\n",
    "        z = mu + sigma*self.N.sample(mu.shape)\n",
    "        self.kl = (sigma**2 + mu**2 - torch.log(sigma) - 1/2).sum()\n",
    "        return z    "
   ]
  },
  {
   "cell_type": "code",
   "execution_count": null,
   "id": "fa0f74c9",
   "metadata": {},
   "outputs": [],
   "source": [
    "class Decoder(nn.Module):\n",
    "    \n",
    "    def __init__(self, latent_dims):\n",
    "        super().__init__()\n",
    "\n",
    "        self.decoder_lin = nn.Sequential(\n",
    "            nn.Linear(latent_dims, 128),\n",
    "            nn.ReLU(True),\n",
    "            nn.Linear(128, 3 * 3 * 32),\n",
    "            nn.ReLU(True)\n",
    "        )\n",
    "\n",
    "        self.unflatten = nn.Unflatten(dim=1, unflattened_size=(32, 3, 3))\n",
    "\n",
    "        self.decoder_conv = nn.Sequential(\n",
    "            nn.ConvTranspose2d(32, 16, 3, stride=2, output_padding=0),\n",
    "            nn.BatchNorm2d(16),\n",
    "            nn.ReLU(True),\n",
    "            nn.ConvTranspose2d(16, 8, 3, stride=2, padding=1, output_padding=1),\n",
    "            nn.BatchNorm2d(8),\n",
    "            nn.ReLU(True),\n",
    "            nn.ConvTranspose2d(8, 1, 3, stride=2, padding=1, output_padding=1)\n",
    "        )\n",
    "        \n",
    "    def forward(self, x):\n",
    "        x = self.decoder_lin(x)\n",
    "        x = self.unflatten(x)\n",
    "        x = self.decoder_conv(x)\n",
    "        x = torch.sigmoid(x)\n",
    "        return x"
   ]
  },
  {
   "cell_type": "code",
   "execution_count": null,
   "id": "53fc4458",
   "metadata": {},
   "outputs": [],
   "source": [
    "class VariationalAutoencoder(nn.Module):\n",
    "    def __init__(self, latent_dims):\n",
    "        super(VariationalAutoencoder, self).__init__()\n",
    "        self.encoder = VariationalEncoder(latent_dims)\n",
    "        self.decoder = Decoder(latent_dims)\n",
    "\n",
    "    def forward(self, x):\n",
    "        z = self.encoder(x)\n",
    "        return self.decoder(z)"
   ]
  },
  {
   "cell_type": "code",
   "execution_count": null,
   "id": "9b58f730",
   "metadata": {},
   "outputs": [],
   "source": [
    "vae = VariationalAutoencoder(latent_dims=4)"
   ]
  },
  {
   "cell_type": "code",
   "execution_count": null,
   "id": "7214a9e6",
   "metadata": {},
   "outputs": [],
   "source": [
    "optimizer= torch.optim.Adam(vae.parameters(), lr=1e-3, weight_decay=1e-5)"
   ]
  },
  {
   "cell_type": "code",
   "execution_count": null,
   "id": "fe5ecf91",
   "metadata": {},
   "outputs": [],
   "source": [
    "def train_epoch():\n",
    "    vae.train()\n",
    "    train_loss = 0.0\n",
    "    for x, _ in train_dataloader: \n",
    "        x_hat = vae(x)\n",
    "        loss = ((x - x_hat)**2).sum() + vae.encoder.kl\n",
    "        optimizer.zero_grad()\n",
    "        loss.backward()\n",
    "        optimizer.step()\n",
    "        train_loss+=loss.item()\n",
    "\n",
    "    return train_loss / len(train_dataloader.dataset)"
   ]
  },
  {
   "cell_type": "code",
   "execution_count": null,
   "id": "7bead20d",
   "metadata": {},
   "outputs": [],
   "source": [
    "num_epochs = 3\n",
    "\n",
    "for epoch in range(num_epochs):\n",
    "    loss = train_epoch()\n",
    "    print(f'Avg. loss: {loss:.4f}')"
   ]
  },
  {
   "cell_type": "code",
   "execution_count": null,
   "id": "f61aaf5a",
   "metadata": {
    "scrolled": true
   },
   "outputs": [],
   "source": [
    "def show_image(img):\n",
    "    npimg = img.numpy()\n",
    "    plt.imshow(np.transpose(npimg, (1, 2, 0)))\n",
    "\n",
    "\n",
    "vae.eval()\n",
    "\n",
    "with torch.no_grad():\n",
    "\n",
    "    # sample latent vectors from the normal distribution\n",
    "    latent = torch.randn(128, 4, device=device)\n",
    "\n",
    "    # reconstruct images from the latent vectors\n",
    "    img_recon = vae.decoder(latent)\n",
    "    img_recon = img_recon.cpu()\n",
    "\n",
    "    fig, ax = plt.subplots(figsize=(20, 8.5))\n",
    "    show_image(torchvision.utils.make_grid(img_recon.data[:100],10,5))\n",
    "    plt.show()"
   ]
  },
  {
   "cell_type": "markdown",
   "id": "d0cd3492",
   "metadata": {},
   "source": [
    "# GAN"
   ]
  },
  {
   "cell_type": "code",
   "execution_count": null,
   "id": "a2298aa3",
   "metadata": {},
   "outputs": [],
   "source": [
    "Image(url= \"https://miro.medium.com/max/1400/1*M_YipQF_oC6owsU1VVrfhg.jpeg\")"
   ]
  }
 ],
 "metadata": {
  "kernelspec": {
   "display_name": "Python 3 (ipykernel)",
   "language": "python",
   "name": "python3"
  },
  "language_info": {
   "codemirror_mode": {
    "name": "ipython",
    "version": 3
   },
   "file_extension": ".py",
   "mimetype": "text/x-python",
   "name": "python",
   "nbconvert_exporter": "python",
   "pygments_lexer": "ipython3",
   "version": "3.9.7"
  }
 },
 "nbformat": 4,
 "nbformat_minor": 5
}
