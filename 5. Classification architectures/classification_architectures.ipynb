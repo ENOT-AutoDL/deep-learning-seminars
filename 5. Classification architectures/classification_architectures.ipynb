{
 "cells": [
  {
   "cell_type": "markdown",
   "metadata": {
    "id": "l6gP536z0kzW"
   },
   "source": [
    "# Семинар 5 🏯 Архитектуры сверточных нейронных сетей 🏯"
   ]
  },
  {
   "cell_type": "markdown",
   "metadata": {
    "id": "__Kuncl30kzj"
   },
   "source": [
    "Рассмотрим основные архитектуры сверточных нейронных сетей, с чего они начинались и как они эволюционировали.\n",
    "Эти модели могут использоваться по-разному: для классификации или для извлечения признаков (детекция, сегментация и т.д.)"
   ]
  },
  {
   "cell_type": "markdown",
   "metadata": {
    "id": "0RAyyOz60kzr"
   },
   "source": [
    "# LeNet (Yann LeCun (Bell Labs, now Meta) et al. in 1989)\n",
    "\n",
    "- Первое успешное применение обратного распространения на практике.\n",
    "Задача - распознавание рукописных цифр zip-кода для почты США (accuracy на `MNIST` составляет около 98%)\n",
    "\n",
    "- На `Cifar-10` около 60%\n",
    "\n",
    "- Архитектура: 2 x conv (kernel=5x5), 2 x padding(stride=2), 3 x FC. Активация - сигмоида\n",
    "\n",
    "- 60k trainable parameters\n",
    "\n",
    "[О LeNet на medium.com](https://medium.com/mlearning-ai/lenet-and-mnist-handwritten-digit-classification-354f5646c590)"
   ]
  },
  {
   "cell_type": "markdown",
   "metadata": {
    "id": "XLIG5VN-3Eoa"
   },
   "source": [
    "![](images/0.png)"
   ]
  },
  {
   "cell_type": "code",
   "execution_count": null,
   "metadata": {
    "id": "VXo9c0rE0kzz"
   },
   "outputs": [],
   "source": [
    "import torch\n",
    "from torch import nn\n",
    "\n",
    "le_net = nn.Sequential(\n",
    "    nn.Conv2d(1, 6, kernel_size=5, padding=2), \n",
    "    nn.Sigmoid(),\n",
    "    nn.AvgPool2d(kernel_size=2, stride=2),\n",
    "    nn.Conv2d(6, 16, kernel_size=5), \n",
    "    nn.Sigmoid(),\n",
    "    nn.AvgPool2d(kernel_size=2, stride=2),\n",
    "    nn.Flatten(),\n",
    "    nn.Linear(16 * 5 * 5, 120), \n",
    "    nn.Sigmoid(),\n",
    "    nn.Linear(120, 84), \n",
    "    nn.Sigmoid(),\n",
    "    nn.Linear(84, 10),\n",
    ")"
   ]
  },
  {
   "cell_type": "markdown",
   "metadata": {
    "id": "0WkYgzQYFmWC"
   },
   "source": [
    "# Датасет ImageNet"
   ]
  },
  {
   "cell_type": "markdown",
   "metadata": {
    "id": "t-rjWrlxFcES"
   },
   "source": [
    "- Классификация изображений, задача [`Imagenet`](https://www.image-net.org/) (1000 классов, 1М изображений). Примеры классов: животные (например, собаки разной породы), техника, автомобили, разные предметы\n",
    "\n",
    "- Human-level performance на этом датасете: top-5 error rate: 5.1%\n",
    "\n",
    "- SOTA на этом датасете: top-5 error rate: ~ 1% (то есть нейросети уже превзошли человека человека)\n",
    "\n",
    "- Начиная с `AlexNet`, ошибка нейронок сильно уменьшилась"
   ]
  },
  {
   "cell_type": "markdown",
   "metadata": {
    "id": "HteyQEUbKNGR"
   },
   "source": [
    "![](images/1.png)"
   ]
  },
  {
   "cell_type": "markdown",
   "metadata": {},
   "source": [
    "![](images/2.png)"
   ]
  },
  {
   "cell_type": "markdown",
   "metadata": {
    "id": "z1-ONlS50kz3"
   },
   "source": [
    "# [AlexNet](https://proceedings.neurips.cc/paper/2012/file/c399862d3b9d6b76c8436e924a68c45b-Paper.pdf) (Alex Krizhevsky, Ilya Sutskever and Geoffrey Hinton, 2012)"
   ]
  },
  {
   "cell_type": "markdown",
   "metadata": {
    "id": "s5qZyCShIKEE"
   },
   "source": [
    "![](images/3.png)"
   ]
  },
  {
   "cell_type": "markdown",
   "metadata": {
    "id": "cQPOR_QSFRvO"
   },
   "source": [
    "- Как `Lenet`, но больше\n",
    "- ~ 15% top-5 error rate на Imagenet\n",
    "- 60 M параметров\n",
    "- Активация: ReLU\n",
    "- Обучалась на нескольких GPU (на тот момент не влезала на одну GPU, учили на двух)\n",
    "- Пулинг с оверлапом (просто потестили и заметили, что метрика так получается выше)\n",
    "- Dropout, чтобы не переобучаться\n",
    "\n",
    "[Об AlexNet](https://neurohive.io/ru/vidy-nejrosetej/alexnet-svjortochnaja-nejronnaja-set-dlja-raspoznavanija-izobrazhenij/)"
   ]
  },
  {
   "cell_type": "code",
   "execution_count": null,
   "metadata": {
    "id": "sR5oKI5V0k0G"
   },
   "outputs": [],
   "source": [
    "alex_net = nn.Sequential(\n",
    "    # Here, we use a larger 11 x 11 window to capture objects. At the same\n",
    "    # time, we use a stride of 4 to greatly reduce the height and width of the\n",
    "    # output. Here, the number of output channels is much larger than that in\n",
    "    # LeNet\n",
    "    nn.Conv2d(1, 96, kernel_size=11, stride=4, padding=1),\n",
    "    nn.ReLU(),\n",
    "    nn.MaxPool2d(kernel_size=3, stride=2),\n",
    "    # Make the convolution window smaller, set padding to 2 for consistent\n",
    "    # height and width across the input and output, and increase the number of\n",
    "    # output channels\n",
    "    nn.Conv2d(96, 256, kernel_size=5, padding=2),\n",
    "    nn.ReLU(),\n",
    "    nn.MaxPool2d(kernel_size=3, stride=2),\n",
    "    # Use three successive convolutional layers and a smaller convolution\n",
    "    # window. Except for the final convolutional layer, the number of output\n",
    "    # channels is further increased. Pooling layers are not used to reduce the\n",
    "    # height and width of input after the first two convolutional layers\n",
    "    nn.Conv2d(256, 384, kernel_size=3, padding=1),\n",
    "    nn.ReLU(),\n",
    "    nn.Conv2d(384, 384, kernel_size=3, padding=1),\n",
    "    nn.ReLU(),\n",
    "    nn.Conv2d(384, 256, kernel_size=3, padding=1),\n",
    "    nn.ReLU(),\n",
    "    nn.MaxPool2d(kernel_size=3, stride=2),\n",
    "    nn.Flatten(),\n",
    "    # Here, the number of outputs of the fully-connected layer is several\n",
    "    # times larger than that in LeNet. Use the dropout layer to mitigate\n",
    "    # overfitting\n",
    "    nn.Linear(6400, 4096),\n",
    "    nn.ReLU(),\n",
    "    nn.Dropout(p=0.5),\n",
    "    nn.Linear(4096, 4096),\n",
    "    nn.ReLU(),\n",
    "    nn.Dropout(p=0.5),\n",
    "    # Output layer. Since we are using Fashion-MNIST, the number of classes is\n",
    "    # 10, instead of 1000 as in the paper\n",
    "    nn.Linear(4096, 10),\n",
    ")"
   ]
  },
  {
   "cell_type": "markdown",
   "metadata": {
    "id": "hBPgVJpQ0k0T"
   },
   "source": [
    "# [VGG](https://arxiv.org/abs/1409.1556) (Karen Simonyan, Andrew Zisserman, 2014)"
   ]
  },
  {
   "cell_type": "markdown",
   "metadata": {
    "id": "cULEW0Y7NmY6"
   },
   "source": [
    "- Улучшенная версия `AlexNet` - свертки 11x11 и 5x5 заменены на 3x3\n",
    "- Исследовали влияние глубины сети на метрику на `ImageNet`, подобрали 2 архитектуры: `VGG-16` и `VGG-19`\n",
    "- conv3x3 → conv3x3 → maxpool → conv3x3 → conv3x3 → maxpool → ... → FC\n",
    "- 6.8% top-5 error rate\n",
    "- ~ 140M параметров\n",
    "- тяжелая (VGG-16 весит около 500 Мб, а ResNet-18 45 Мб)\n",
    "- не получается сделать очень глубокой\n",
    "\n",
    "[О VGG на towards data science](https://towardsdatascience.com/vgg-neural-networks-the-next-step-after-alexnet-3f91fa9ffe2c)\n",
    "\n",
    "*Упражнение: покажите, что рецептивное поле свёрток 5x5 и двух последовательных свёрток 3x3 равны. Как при этом различается число операций?*"
   ]
  },
  {
   "cell_type": "markdown",
   "metadata": {
    "id": "F5_Cj71xM8xN"
   },
   "source": [
    "![](images/4.png)"
   ]
  },
  {
   "cell_type": "markdown",
   "metadata": {
    "id": "88vL0IPQ0k0X"
   },
   "source": [
    "![](images/5.png)"
   ]
  },
  {
   "cell_type": "markdown",
   "metadata": {
    "id": "rNYJeC0TYlFb"
   },
   "source": [
    "Чтобы поменять число классов для своей задачи, переопределите последний FC-слой у модели:"
   ]
  },
  {
   "cell_type": "code",
   "execution_count": null,
   "metadata": {
    "colab": {
     "base_uri": "https://localhost:8080/"
    },
    "executionInfo": {
     "elapsed": 3178,
     "status": "ok",
     "timestamp": 1679422508523,
     "user": {
      "displayName": "Yana Savchenko",
      "userId": "10647193167803909811"
     },
     "user_tz": -420
    },
    "id": "itcSnA3FW41R",
    "outputId": "1b9b7db8-c1d7-4d30-a410-ba11a20506d8"
   },
   "outputs": [
    {
     "data": {
      "text/plain": [
       "VGG(\n",
       "  (features): Sequential(\n",
       "    (0): Conv2d(3, 64, kernel_size=(3, 3), stride=(1, 1), padding=(1, 1))\n",
       "    (1): ReLU(inplace=True)\n",
       "    (2): Conv2d(64, 64, kernel_size=(3, 3), stride=(1, 1), padding=(1, 1))\n",
       "    (3): ReLU(inplace=True)\n",
       "    (4): MaxPool2d(kernel_size=2, stride=2, padding=0, dilation=1, ceil_mode=False)\n",
       "    (5): Conv2d(64, 128, kernel_size=(3, 3), stride=(1, 1), padding=(1, 1))\n",
       "    (6): ReLU(inplace=True)\n",
       "    (7): Conv2d(128, 128, kernel_size=(3, 3), stride=(1, 1), padding=(1, 1))\n",
       "    (8): ReLU(inplace=True)\n",
       "    (9): MaxPool2d(kernel_size=2, stride=2, padding=0, dilation=1, ceil_mode=False)\n",
       "    (10): Conv2d(128, 256, kernel_size=(3, 3), stride=(1, 1), padding=(1, 1))\n",
       "    (11): ReLU(inplace=True)\n",
       "    (12): Conv2d(256, 256, kernel_size=(3, 3), stride=(1, 1), padding=(1, 1))\n",
       "    (13): ReLU(inplace=True)\n",
       "    (14): Conv2d(256, 256, kernel_size=(3, 3), stride=(1, 1), padding=(1, 1))\n",
       "    (15): ReLU(inplace=True)\n",
       "    (16): MaxPool2d(kernel_size=2, stride=2, padding=0, dilation=1, ceil_mode=False)\n",
       "    (17): Conv2d(256, 512, kernel_size=(3, 3), stride=(1, 1), padding=(1, 1))\n",
       "    (18): ReLU(inplace=True)\n",
       "    (19): Conv2d(512, 512, kernel_size=(3, 3), stride=(1, 1), padding=(1, 1))\n",
       "    (20): ReLU(inplace=True)\n",
       "    (21): Conv2d(512, 512, kernel_size=(3, 3), stride=(1, 1), padding=(1, 1))\n",
       "    (22): ReLU(inplace=True)\n",
       "    (23): MaxPool2d(kernel_size=2, stride=2, padding=0, dilation=1, ceil_mode=False)\n",
       "    (24): Conv2d(512, 512, kernel_size=(3, 3), stride=(1, 1), padding=(1, 1))\n",
       "    (25): ReLU(inplace=True)\n",
       "    (26): Conv2d(512, 512, kernel_size=(3, 3), stride=(1, 1), padding=(1, 1))\n",
       "    (27): ReLU(inplace=True)\n",
       "    (28): Conv2d(512, 512, kernel_size=(3, 3), stride=(1, 1), padding=(1, 1))\n",
       "    (29): ReLU(inplace=True)\n",
       "    (30): MaxPool2d(kernel_size=2, stride=2, padding=0, dilation=1, ceil_mode=False)\n",
       "  )\n",
       "  (avgpool): AdaptiveAvgPool2d(output_size=(7, 7))\n",
       "  (classifier): Sequential(\n",
       "    (0): Linear(in_features=25088, out_features=4096, bias=True)\n",
       "    (1): ReLU(inplace=True)\n",
       "    (2): Dropout(p=0.5, inplace=False)\n",
       "    (3): Linear(in_features=4096, out_features=4096, bias=True)\n",
       "    (4): ReLU(inplace=True)\n",
       "    (5): Dropout(p=0.5, inplace=False)\n",
       "    (6): Linear(in_features=4096, out_features=1000, bias=True)\n",
       "  )\n",
       ")"
      ]
     },
     "execution_count": 10,
     "metadata": {},
     "output_type": "execute_result"
    }
   ],
   "source": [
    "from torchvision.models import vgg16\n",
    "model = vgg16()\n",
    "model"
   ]
  },
  {
   "cell_type": "code",
   "execution_count": null,
   "metadata": {
    "id": "M7yml-bKYwfc"
   },
   "outputs": [],
   "source": [
    "model.classifier[6] = nn.Linear(in_features=4096, out_features=42)"
   ]
  },
  {
   "cell_type": "markdown",
   "metadata": {
    "id": "SWhWwMIz0k0h"
   },
   "source": [
    "# [GoogLeNet (Inception V1, 2014)](https://arxiv.org/abs/1409.4842)"
   ]
  },
  {
   "cell_type": "markdown",
   "metadata": {
    "id": "BSzbjWCzZsi7"
   },
   "source": [
    "![](images/we_need_to_go_deeper.jpg)"
   ]
  },
  {
   "cell_type": "markdown",
   "metadata": {
    "id": "GR-K4DEg0VKT"
   },
   "source": [
    "`GoogLeNet` выиграла `ImageNet Recognition Challenge` в 2014 с top5 error rate=6,67% (для сравнения, у `AlexNet` 15% top5 errror rate). У `AlexNet` 60M параметров, и исследователи из Google решили придумать, как сделать её поменьше и попрактичнее. Вот как они рассуждали:\n",
    "\n",
    "- Самый простой способ сделать сеть точнее - это увеличить её размер (то есть ширину и глубину)\n",
    "- К сожалению, с увеличением размера сети она становится более подверженной переобучению (попросту потому, что у большой сети больше параметров) и у нее растет вычислительная сложность\n",
    "- Есть еще проблема разных масштабов: предположим, что мы учим нейросеть для классификации животных. Область картинки, по которой мы принимаем решение о классе, может быть очень разного масштаба (см. рисунок ниже). Из-за этого непонятно, какой kernel size брать, побольше или поменьше (побольше - когда собачка занимает почти весь кадр, поменьше - когда очень маленькую часть)\n",
    "- А давайте не будем выбирать kernel size - возьмем просто много разных для разных масштабов. Так мы сможем работать с разным масштабом фичей.\n",
    "- Чтобы вычислительная сложность не страдала, будем пользоваться трюками - например, перед свертками $5\\times 5$ вставлять свертку $1\\times 1$ для изменения числа каналов.\n",
    "- Перед inception-блоком вставляем свертку $1\\times 1$ для уменьшения числа каналов\n",
    "- Для уменьшения изображения inception-блоки чередуются с `maxpool` со страйдом 2\n",
    "- Сделаем параллельные ветки для фичей разного размера → наша сеть станет скорее не глубокой, а широкой\n",
    "- Не делаем скрытого fc-слоя вообще. Берем global average pooling, а после него сразу ставим финальный fc-слой\n",
    "\n",
    "[О разных версиях Inception на towards data science](https://towardsdatascience.com/a-simple-guide-to-the-versions-of-the-inception-network-7fc52b863202)"
   ]
  },
  {
   "cell_type": "markdown",
   "metadata": {
    "id": "z-Ofr7Mewm0l"
   },
   "source": [
    "![](images/6.png)"
   ]
  },
  {
   "cell_type": "markdown",
   "metadata": {
    "id": "znZTXabM8dvl"
   },
   "source": [
    "![](images/7.png)\n",
    "\n",
    "*Inception module, наивная версия. В разных ветках используется паддинг same*"
   ]
  },
  {
   "cell_type": "markdown",
   "metadata": {
    "id": "EE-llbzu-SWE"
   },
   "source": [
    "![](images/8.png)\n",
    "\n",
    "*Здесь уже вставлены свертки $1\\times 1$ для уменьшения количества каналов*"
   ]
  },
  {
   "cell_type": "code",
   "execution_count": null,
   "metadata": {
    "id": "LvxN6ZCO9TtC"
   },
   "outputs": [],
   "source": [
    "class Inception(nn.Module):\n",
    "    # `c1`--`c4` are the number of output channels for each path\n",
    "    def __init__(self, in_channels, c1, c2, c3, c4, **kwargs):\n",
    "        super(Inception, self).__init__(**kwargs)\n",
    "        # Path 1 is a single 1 x 1 convolutional layer\n",
    "        self.p1_1 = nn.Conv2d(in_channels, c1, kernel_size=1)\n",
    "        # Path 2 is a 1 x 1 convolutional layer followed by a 3 x 3\n",
    "        # convolutional layer\n",
    "        self.p2_1 = nn.Conv2d(in_channels, c2[0], kernel_size=1)\n",
    "        self.p2_2 = nn.Conv2d(c2[0], c2[1], kernel_size=3, padding=1)\n",
    "        # Path 3 is a 1 x 1 convolutional layer followed by a 5 x 5\n",
    "        # convolutional layer\n",
    "        self.p3_1 = nn.Conv2d(in_channels, c3[0], kernel_size=1)\n",
    "        self.p3_2 = nn.Conv2d(c3[0], c3[1], kernel_size=5, padding=2)\n",
    "        # Path 4 is a 3 x 3 maximum pooling layer followed by a 1 x 1\n",
    "        # convolutional layer\n",
    "        self.p4_1 = nn.MaxPool2d(kernel_size=3, stride=1, padding=1)\n",
    "        self.p4_2 = nn.Conv2d(in_channels, c4, kernel_size=1)\n",
    "\n",
    "    def forward(self, x):\n",
    "        p1 = F.relu(self.p1_1(x))\n",
    "        p2 = F.relu(self.p2_2(F.relu(self.p2_1(x))))\n",
    "        p3 = F.relu(self.p3_2(F.relu(self.p3_1(x))))\n",
    "        p4 = F.relu(self.p4_2(self.p4_1(x)))\n",
    "        # Concatenate the outputs on the channel dimension\n",
    "        return torch.cat((p1, p2, p3, p4), dim=1)"
   ]
  },
  {
   "cell_type": "markdown",
   "metadata": {
    "id": "xOPNcM69DQSo"
   },
   "source": [
    "![](images/9.png)\n",
    "\n",
    "*GoogLeNet (InceptionV1), архитектура сети. Обведены в прямоугольник два дополнительных классификатора (сделаны для борьбы с затухающими градиентами)*"
   ]
  },
  {
   "cell_type": "markdown",
   "metadata": {
    "id": "DH3WBRxLBxF7"
   },
   "source": [
    "# [InceptionV2](https://arxiv.org/pdf/1512.00567v3.pdf)"
   ]
  },
  {
   "cell_type": "markdown",
   "metadata": {
    "id": "0jiMCMDLEU6i"
   },
   "source": [
    "Авторы предложили ряд улучшений для архитектуры `InceptionV1`:\n",
    "\n",
    "- Факторизуем свертки $5\\times5$ на две свертки $3\\times3$\n",
    "- Факторизуем свертки $n\\times n$ на две свертки $n× 1$ и $1\\times n$\n",
    "\n",
    "![](images/10.png)\n",
    "\n",
    "*Доп. вопрос: как такие факторизации сверток изменят количество вычислительных операций?*"
   ]
  },
  {
   "cell_type": "markdown",
   "metadata": {
    "id": "52f8mIeW0k1D"
   },
   "source": [
    "# [ResNet](https://arxiv.org/abs/1512.03385) (Kaiming He, Xiangyu Zhang, 2015)"
   ]
  },
  {
   "cell_type": "markdown",
   "metadata": {
    "id": "ynuIa7vHtqnM"
   },
   "source": [
    "После `LeNet` появлялись все новые и новые архитектуры, сети становились глубже и показывали большие точности. Возникал вопрос: а что если просто сделать нейросеть очень глубокой, наверное, станет ещё лучше?\n",
    "\n",
    "Оказывается, что это не так: с добавлением слоёв точность сначала насыщается (то есть перестаёт меняться), а потом начинает ухудшаться. И это не проблема переобучения, потому что на тренировочном датасете точность тоже становится хуже:\n",
    "\n",
    "![](images/11.png)\n",
    "\n",
    "*Training error сетей с 20 и 56 слоями на датасете CIFAR-10*\n",
    "\n",
    "В чём идея `ResNet`: \n",
    "- Пусть у нас есть сеть, которая хорошо выучилась на нашем датасете. Мы можем добавить к архитектуре предыдущей сети несколько слоёв и попытаться её обучать. По-хорошему, наша новая архитектура должна быть не хуже предыдущей, потому что сеть может при помощи дополнительных слоёв, которые мы добавили, просто выучить тождественное преобразование.\n",
    "- На практике такая сеть будет иметь худшую точность\n",
    "- Попробуем помочь сети: блок сети будет теперь учить добавку к исходным данным $y = x + F(x)$ (блок со skip connection)\n",
    "- Когда сеть еще не натренированная, то градиенту проще протечь на предыдущие слои за счёт единички: $E^\\prime_x = E^\\prime_y (1+F^\\prime_x)$\n",
    "\n",
    "![](images/12.png)\n",
    "\n",
    "*Доп. вопросы:*\n",
    "\n",
    "*- Какие веса/сдвиги должна выучить сеть, чтобы получить тождественное преобразование $y = x + F(x)$?*\n",
    "\n",
    "*- Как течет градиент, если у нас есть несколько веток или skip connection?*\n"
   ]
  },
  {
   "cell_type": "markdown",
   "metadata": {
    "id": "cvnG9zMgAv6_"
   },
   "source": [
    "### ResNet-блоки"
   ]
  },
  {
   "cell_type": "markdown",
   "metadata": {
    "id": "iLaLQt8lCR8r"
   },
   "source": [
    "Какие у нас виды блоков есть в сетях `ResNet`:\n",
    "\n",
    "- **Identity block** - стандартный блок, когда размер входа совпадает с размером выхода (в skip connection просто $x$, identity shortcut)\n",
    "- **Convolutional block** - блок, в котором размер входа и размер выхода не совпадают (в skip connection свертка $x$, projection shortcut) \n",
    "\n",
    "И identity, и convolutional блоки могут иметь две или три свертки в $F(x)$. Когда их две, то такой блок **residual block** называется **классическим  residual block'ом**, а когда три - **bottlneck residual block**. Bottleneck используется в `ResNet-50` и еще более глубоких вариантах архитектуры"
   ]
  },
  {
   "cell_type": "markdown",
   "metadata": {
    "id": "aD_n6yWQCw11"
   },
   "source": [
    "**Identity block**\n",
    "\n",
    "- Либо две (классический блок), либо три (bottleneck блок) свертки в ветке с $F(x)$\n",
    "- $F(x)$ не меняет размер тензора, входящего в блок, поэтому можно просто сложить $F(x) + x$\n",
    "\n",
    "![](images/13.png)"
   ]
  },
  {
   "cell_type": "markdown",
   "metadata": {
    "id": "qvSQwdw2ECYb"
   },
   "source": [
    "**Convolutional block**\n",
    "\n",
    "- либо две, либо три свёртки в нижней ветке $F(x)$ (зависит от того, классический или bottleneck block), внутри блока есть свертка со страйдом 2\n",
    "- свёртка в верхней ветке: $Conv_{1\\times1}$ со страйдом 2, чтобы можно было сложить с $F(x)$\n",
    "\n",
    "![](images/14.png)"
   ]
  },
  {
   "cell_type": "markdown",
   "metadata": {
    "id": "UY3Wo59SgwgF"
   },
   "source": [
    "### Сравнение классического и bottleneck блока\n",
    "\n",
    "**Классический блок:**\n",
    "- В классическом блоке 2 свертки в ветке $F(x)$, обе $3\\times3$, $c_{in}$ = $c_{out}$, паддинг same (дополняющий до исходного размера)\n",
    "- Если надо уменьшить пространственный размер (convolutional block), то первая свертка $3\\times3$ со страйдом 2\n",
    "\n",
    "**Bottleneck блок:**\n",
    "\n",
    "- На входе у нас $c$ каналов, внутри блока каналов становится меньше (первые две свертки), а затем число каналов снова увеличивается - получается \"бутылочное горлышко\". Это позволяет увеличить глубину сети без резкого увеличения количества параметров. Сжимаем большое число каналов при помощи \"дешевых\" $1\\times1$ сверток, а на выходе из блока увеличиваем число каналов.\n",
    "\n",
    "- Bottleneck identity блок:\n",
    "  - $Conv_{1\\times1}$\n",
    "  - $Conv_{3\\times3}$\n",
    "  - $Conv_{1\\times1}$\n",
    "- Bottleneck convolutional блок:\n",
    "  - $Conv_{1\\times1}$ ← можно страйд 2 сюда, тогда вычислений меньше\n",
    "  - $Conv_{3\\times3}$ ← а можно сюда, тогда будет точнее\n",
    "  - $Conv_{1\\times1}$"
   ]
  },
  {
   "cell_type": "markdown",
   "metadata": {
    "id": "AvwSJy81Asma"
   },
   "source": [
    "![](images/15.png)"
   ]
  },
  {
   "cell_type": "markdown",
   "metadata": {
    "id": "TYEXDgEolcwM"
   },
   "source": [
    "Подробнее как выглядят разные варианты архитектуры:"
   ]
  },
  {
   "cell_type": "markdown",
   "metadata": {
    "id": "POySHxRJlWR8"
   },
   "source": [
    "![](images/16.png)\n",
    "\n",
    "*Блоки модели указаны в квадратных скобках, рядом после $\\times$ - число повторений. $conv3\\_1, conv4\\_1, conv5\\_1$ осуществляют downsampling*"
   ]
  },
  {
   "cell_type": "markdown",
   "metadata": {
    "id": "V2COEKHdmYOB"
   },
   "source": [
    "С появлением `ResNet` произошла революция, сети стали гораздо глубже:\n",
    "\n",
    "![](images/17.png)\n",
    "\n",
    "При этом в `VGG-16` 138M параметров, а у `ResNet34` 22M, легче модель и проще обучать. А еще эта модель работает с любым размером изображения из-за adaptive average pooling в конце.\n",
    "\n",
    "Благодаря всем этим плюсам, `ResNet` в 2015 году добился top-5 error rate в 3.6% на `ImageNet` и победил в соревновании\n",
    "\n",
    "[Видео на русском про ResNet](https://www.youtube.com/watch?v=QlC3Qt2Jl0M), [Статья на хабр](https://habr.com/ru/company/vk/blog/311706/)"
   ]
  },
  {
   "cell_type": "markdown",
   "metadata": {
    "id": "Atnuw80wAogH"
   },
   "source": [
    "В чем разница `ResNetv1` и `ResNetv2`?\n",
    "\n",
    "Предложили ставить `ReLU` не после суммы, а до, чтобы градиент лучше тёк через skip connections:\n",
    "\n",
    "![](images/18.png)"
   ]
  },
  {
   "cell_type": "markdown",
   "metadata": {
    "id": "3qPcCMcU0k0t"
   },
   "source": [
    "# [MobileNet (2017)](https://arxiv.org/pdf/1704.04861.pdf)"
   ]
  },
  {
   "cell_type": "markdown",
   "metadata": {
    "id": "BRllqfVbX_7K"
   },
   "source": [
    "В наши дни никого не удивить тем, что нейросети используют не только вместе со специальным железом. Примеры задач, для которых размер модели (Мб) и скорость работы являются ключевыми факторами:\n",
    "\n",
    "- Распознавание лиц (\"умный домофон\")\n",
    "- Детектирование и распознавание автомобильных номеров (умная камера DAHUA)\n",
    "- Разблокировка телефона по лицу\n",
    "- Self-driving cars\n",
    "\n",
    "Для того, чтобы нейросеть смогла работать на edge устройствах, она должна быть легкой и быстрой. Как раз такой архитектурой и является `MobileNet`.\n",
    "Коротко об этой сети:\n",
    "- Используются **depthwise** и **pointwise** ($1\\times 1$) свёртки\n",
    "- У архитектуры есть два гиперпараметра, подстраивая которые можно выбирать оптимальный вариант между производительностью и точностью модели. Они называются **width multiplier** и **resolution multiplier**\n",
    "\n",
    "[Статья на хабр про MobileNet](https://habr.com/ru/post/352804/)"
   ]
  },
  {
   "cell_type": "markdown",
   "metadata": {
    "id": "-P50Sm1-hdzD"
   },
   "source": [
    "![](images/19.png)\n",
    "\n",
    "*Слева: Стандартный сверточный слой с батчнормом и активацией. Справа: вариант с факторизацией на depthwise и pointwise*\n",
    "\n",
    "$FLOPS_1 / FLOPS_2 = (9\\times C_{in}\\times hw + C_{in}\\times C_{out}\\times hw) / (9\\times C_{in}\\times C_{out}\\times hw) = 1 / C_{out} + 1 / 9 \\ll 1$\n",
    "\n",
    "Все свёртки $3\\times 3$ (кроме самой первой) факторизованы на depthwise и pointwise. Между свертками есть `BatchNorm` и `ReLU`, всего 28 слоёв"
   ]
  },
  {
   "cell_type": "markdown",
   "metadata": {
    "id": "ttwgjTxlpNNy"
   },
   "source": [
    "![](images/20.png)"
   ]
  },
  {
   "cell_type": "markdown",
   "metadata": {
    "id": "3pG_qVNcq93m"
   },
   "source": [
    "![](images/21.png)\n",
    "\n",
    "Большая часть вычислений приходится на pointwise свёртки"
   ]
  },
  {
   "cell_type": "markdown",
   "metadata": {
    "id": "ZS_BY8dwrR5r"
   },
   "source": [
    "**Width multiplier $α$**\n",
    "\n",
    "Этот параметр нужен для того, чтобы иметь возможность равномерно сузить сеть на каждом слое: $C_{in} → α\\times C_{in}$, $C_{out} → α\\times C_{out}$. Единице соответсвует стандартный `MobileNet`\n",
    "\n",
    "**Resolution multiplier $\\rho$**\n",
    "\n",
    "Домножаем входное разрешение на этот коэффициент $\\rho$. Стандартный вход $224\\times224$, с домножением могут получиться $192, 160, 128...$\n",
    "\n",
    "*Вопрос: как меняется сложность сети с измененением $\\alpha$ и $\\rho$?*"
   ]
  },
  {
   "cell_type": "markdown",
   "metadata": {
    "id": "axWGKMOprkbT"
   },
   "source": [
    "- Факторизация сверток $3\\times 3$ на depthwise и pointwise свертки в `MobileNet` привела к уменьшению top-1 accuracy на всего 1%, а число операций уменьшилось почти в 1000 раз\n",
    "- При помощи $\\alpha$ и $\\rho$ можно регулировать вес модели и скорость, но теряется точность\n",
    "- top-5 accuracy ~ 90%\n",
    "- Точность чуть ниже, чем у `VGG-16`, а число параметров сильно меньше 138.35M → 4.20M\n",
    "\n",
    "![](images/22.png)\n"
   ]
  },
  {
   "cell_type": "markdown",
   "metadata": {
    "id": "whOUAyjQkkQ2"
   },
   "source": [
    " # [MobileNet V2 (2019)](https://arxiv.org/pdf/1801.04381.pdf)"
   ]
  },
  {
   "cell_type": "markdown",
   "metadata": {
    "id": "tngqNyTZ3YxE"
   },
   "source": [
    "**Inverted Residuals**\n",
    "\n",
    "- В `MobileNetV2` появился residual block. В оригинальном residual блоке в `ResNet` число каналов сужалось и затем увеличивалось обратно (\"бутылочное горлышко\"). Свёртки $1\\times1$ уменьшали число каналов на входе в блок, за счет чего свертка $3\\times3$ становилась \"дешевле\"\n",
    "- В `MobileNetv2` решили использовать другой подход - внутри блока каналы увеличиваются, а на выходе сужаются. У нас получился \"residual блок наборот\", отсюда и название \"inverted residuals\"\n",
    "- У нас как бы эффективно есть внутреннее представление данных - \"целевое многообразие\" (manifold of interest) большей размерности. Мы проводим вычисления (свертку $3\\times 3$) в этом пространстве большей размерности, а затем снова \"укладываем\" данные в подпространство меньшей размерности. Чтобы число вычислений не становилось огромным, используется depthwise свёртка $3\\times 3$\n",
    "- В inverted residual блоке меньше параметров, чем в обычном residual, что хорошо, т.к. мы хотим более быструю сеть с меньшим числом параметров\n",
    "- Мы можем увеличивать число каналов внутри блока в $t$ раз (авторы рассматривают $t\\in[5,10]$, где меньшие значения лучше работают для меньших сетей, а большие - для больших. В классическом варианте $t=6$.\n",
    "- Если нужно понизить размерность, то страйд 2 добавляется к $3\\times 3$ depthwise свёртке."
   ]
  },
  {
   "cell_type": "markdown",
   "metadata": {
    "id": "2ZNaiyTAC_3R"
   },
   "source": [
    "\n",
    "**Linear Bottleneck**\n",
    "\n",
    "- Мы используем в качестве функции активации `ReLU6`, но она зануляет часть диапазона и поэтому ведет к потере части информации\n",
    "- Авторы решили, что при большом числе каналов этот эффект должен компенсироваться\n",
    "- На выходе первой и второй свертки есть активация `ReLU6`, а на выходе последней свертки в блоке (как раз там, где мы сжимаем число каналов) её нет"
   ]
  },
  {
   "cell_type": "markdown",
   "metadata": {
    "id": "h8sD1ngrDVCB"
   },
   "source": [
    "![](images/23.png)"
   ]
  },
  {
   "cell_type": "markdown",
   "metadata": {
    "id": "GRZieLxZoPeP"
   },
   "source": [
    "## MobileNetV3\n",
    "\n",
    "`MobileNetV3` отличается от предыдущих версий тем, что в нём появился т.н. [Squeeze-and-Excitation block](https://towardsdatascience.com/squeeze-and-excitation-networks-9ef5e71eacd7)"
   ]
  },
  {
   "cell_type": "code",
   "execution_count": null,
   "metadata": {
    "id": "bSwS6azSoUkK"
   },
   "outputs": [],
   "source": []
  }
 ],
 "metadata": {
  "colab": {
   "provenance": []
  },
  "kernelspec": {
   "display_name": "DLSeminars",
   "language": "python",
   "name": "dl_seminars"
  },
  "language_info": {
   "codemirror_mode": {
    "name": "ipython",
    "version": 3
   },
   "file_extension": ".py",
   "mimetype": "text/x-python",
   "name": "python",
   "nbconvert_exporter": "python",
   "pygments_lexer": "ipython3",
   "version": "3.8.0"
  }
 },
 "nbformat": 4,
 "nbformat_minor": 1
}
